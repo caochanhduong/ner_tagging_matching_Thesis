{
 "cells": [
  {
   "cell_type": "code",
   "execution_count": 83,
   "metadata": {},
   "outputs": [],
   "source": [
    "import json\n",
    "from collections import OrderedDict\n",
    "import re"
   ]
  },
  {
   "cell_type": "code",
   "execution_count": 6,
   "metadata": {},
   "outputs": [],
   "source": [
    "def compound2unicode(text):\n",
    "  #https://gist.github.com/redphx/9320735`\n",
    "  text = text.replace(\"\\u0065\\u0309\", \"\\u1EBB\")    # ẻ\n",
    "  text = text.replace(\"\\u0065\\u0301\", \"\\u00E9\")    # é\n",
    "  text = text.replace(\"\\u0065\\u0300\", \"\\u00E8\")    # è\n",
    "  text = text.replace(\"\\u0065\\u0323\", \"\\u1EB9\")    # ẹ\n",
    "  text = text.replace(\"\\u0065\\u0303\", \"\\u1EBD\")    # ẽ\n",
    "  text = text.replace(\"\\u00EA\\u0309\", \"\\u1EC3\")    # ể\n",
    "  text = text.replace(\"\\u00EA\\u0301\", \"\\u1EBF\")    # ế\n",
    "  text = text.replace(\"\\u00EA\\u0300\", \"\\u1EC1\")    # ề\n",
    "  text = text.replace(\"\\u00EA\\u0323\", \"\\u1EC7\")    # ệ\n",
    "  text = text.replace(\"\\u00EA\\u0303\", \"\\u1EC5\")    # ễ\n",
    "  text = text.replace(\"\\u0079\\u0309\", \"\\u1EF7\")    # ỷ\n",
    "  text = text.replace(\"\\u0079\\u0301\", \"\\u00FD\")    # ý\n",
    "  text = text.replace(\"\\u0079\\u0300\", \"\\u1EF3\")    # ỳ\n",
    "  text = text.replace(\"\\u0079\\u0323\", \"\\u1EF5\")    # ỵ\n",
    "  text = text.replace(\"\\u0079\\u0303\", \"\\u1EF9\")    # ỹ\n",
    "  text = text.replace(\"\\u0075\\u0309\", \"\\u1EE7\")    # ủ\n",
    "  text = text.replace(\"\\u0075\\u0301\", \"\\u00FA\")    # ú\n",
    "  text = text.replace(\"\\u0075\\u0300\", \"\\u00F9\")    # ù\n",
    "  text = text.replace(\"\\u0075\\u0323\", \"\\u1EE5\")    # ụ\n",
    "  text = text.replace(\"\\u0075\\u0303\", \"\\u0169\")    # ũ\n",
    "  text = text.replace(\"\\u01B0\\u0309\", \"\\u1EED\")    # ử\n",
    "  text = text.replace(\"\\u01B0\\u0301\", \"\\u1EE9\")    # ứ\n",
    "  text = text.replace(\"\\u01B0\\u0300\", \"\\u1EEB\")    # ừ\n",
    "  text = text.replace(\"\\u01B0\\u0323\", \"\\u1EF1\")    # ự\n",
    "  text = text.replace(\"\\u01B0\\u0303\", \"\\u1EEF\")    # ữ\n",
    "  text = text.replace(\"\\u0069\\u0309\", \"\\u1EC9\")    # ỉ\n",
    "  text = text.replace(\"\\u0069\\u0301\", \"\\u00ED\")    # í\n",
    "  text = text.replace(\"\\u0069\\u0300\", \"\\u00EC\")    # ì\n",
    "  text = text.replace(\"\\u0069\\u0323\", \"\\u1ECB\")    # ị\n",
    "  text = text.replace(\"\\u0069\\u0303\", \"\\u0129\")    # ĩ\n",
    "  text = text.replace(\"\\u006F\\u0309\", \"\\u1ECF\")    # ỏ\n",
    "  text = text.replace(\"\\u006F\\u0301\", \"\\u00F3\")    # ó\n",
    "  text = text.replace(\"\\u006F\\u0300\", \"\\u00F2\")    # ò\n",
    "  text = text.replace(\"\\u006F\\u0323\", \"\\u1ECD\")    # ọ\n",
    "  text = text.replace(\"\\u006F\\u0303\", \"\\u00F5\")    # õ\n",
    "  text = text.replace(\"\\u01A1\\u0309\", \"\\u1EDF\")    # ở\n",
    "  text = text.replace(\"\\u01A1\\u0301\", \"\\u1EDB\")    # ớ\n",
    "  text = text.replace(\"\\u01A1\\u0300\", \"\\u1EDD\")    # ờ\n",
    "  text = text.replace(\"\\u01A1\\u0323\", \"\\u1EE3\")    # ợ\n",
    "  text = text.replace(\"\\u01A1\\u0303\", \"\\u1EE1\")    # ỡ\n",
    "  text = text.replace(\"\\u00F4\\u0309\", \"\\u1ED5\")    # ổ\n",
    "  text = text.replace(\"\\u00F4\\u0301\", \"\\u1ED1\")    # ố\n",
    "  text = text.replace(\"\\u00F4\\u0300\", \"\\u1ED3\")    # ồ\n",
    "  text = text.replace(\"\\u00F4\\u0323\", \"\\u1ED9\")    # ộ\n",
    "  text = text.replace(\"\\u00F4\\u0303\", \"\\u1ED7\")    # ỗ\n",
    "  text = text.replace(\"\\u0061\\u0309\", \"\\u1EA3\")    # ả\n",
    "  text = text.replace(\"\\u0061\\u0301\", \"\\u00E1\")    # á\n",
    "  text = text.replace(\"\\u0061\\u0300\", \"\\u00E0\")    # à\n",
    "  text = text.replace(\"\\u0061\\u0323\", \"\\u1EA1\")    # ạ\n",
    "  text = text.replace(\"\\u0061\\u0303\", \"\\u00E3\")    # ã\n",
    "  text = text.replace(\"\\u0103\\u0309\", \"\\u1EB3\")    # ẳ\n",
    "  text = text.replace(\"\\u0103\\u0301\", \"\\u1EAF\")    # ắ\n",
    "  text = text.replace(\"\\u0103\\u0300\", \"\\u1EB1\")    # ằ\n",
    "  text = text.replace(\"\\u0103\\u0323\", \"\\u1EB7\")    # ặ\n",
    "  text = text.replace(\"\\u0103\\u0303\", \"\\u1EB5\")    # ẵ\n",
    "  text = text.replace(\"\\u00E2\\u0309\", \"\\u1EA9\")    # ẩ\n",
    "  text = text.replace(\"\\u00E2\\u0301\", \"\\u1EA5\")    # ấ\n",
    "  text = text.replace(\"\\u00E2\\u0300\", \"\\u1EA7\")    # ầ\n",
    "  text = text.replace(\"\\u00E2\\u0323\", \"\\u1EAD\")    # ậ\n",
    "  text = text.replace(\"\\u00E2\\u0303\", \"\\u1EAB\")    # ẫ\n",
    "  text = text.replace(\"\\u0045\\u0309\", \"\\u1EBA\")    # Ẻ\n",
    "  text = text.replace(\"\\u0045\\u0301\", \"\\u00C9\")    # É\n",
    "  text = text.replace(\"\\u0045\\u0300\", \"\\u00C8\")    # È\n",
    "  text = text.replace(\"\\u0045\\u0323\", \"\\u1EB8\")    # Ẹ\n",
    "  text = text.replace(\"\\u0045\\u0303\", \"\\u1EBC\")    # Ẽ\n",
    "  text = text.replace(\"\\u00CA\\u0309\", \"\\u1EC2\")    # Ể\n",
    "  text = text.replace(\"\\u00CA\\u0301\", \"\\u1EBE\")    # Ế\n",
    "  text = text.replace(\"\\u00CA\\u0300\", \"\\u1EC0\")    # Ề\n",
    "  text = text.replace(\"\\u00CA\\u0323\", \"\\u1EC6\")    # Ệ\n",
    "  text = text.replace(\"\\u00CA\\u0303\", \"\\u1EC4\")    # Ễ\n",
    "  text = text.replace(\"\\u0059\\u0309\", \"\\u1EF6\")    # Ỷ\n",
    "  text = text.replace(\"\\u0059\\u0301\", \"\\u00DD\")    # Ý\n",
    "  text = text.replace(\"\\u0059\\u0300\", \"\\u1EF2\")    # Ỳ\n",
    "  text = text.replace(\"\\u0059\\u0323\", \"\\u1EF4\")    # Ỵ\n",
    "  text = text.replace(\"\\u0059\\u0303\", \"\\u1EF8\")    # Ỹ\n",
    "  text = text.replace(\"\\u0055\\u0309\", \"\\u1EE6\")    # Ủ\n",
    "  text = text.replace(\"\\u0055\\u0301\", \"\\u00DA\")    # Ú\n",
    "  text = text.replace(\"\\u0055\\u0300\", \"\\u00D9\")    # Ù\n",
    "  text = text.replace(\"\\u0055\\u0323\", \"\\u1EE4\")    # Ụ\n",
    "  text = text.replace(\"\\u0055\\u0303\", \"\\u0168\")    # Ũ\n",
    "  text = text.replace(\"\\u01AF\\u0309\", \"\\u1EEC\")    # Ử\n",
    "  text = text.replace(\"\\u01AF\\u0301\", \"\\u1EE8\")    # Ứ\n",
    "  text = text.replace(\"\\u01AF\\u0300\", \"\\u1EEA\")    # Ừ\n",
    "  text = text.replace(\"\\u01AF\\u0323\", \"\\u1EF0\")    # Ự\n",
    "  text = text.replace(\"\\u01AF\\u0303\", \"\\u1EEE\")    # Ữ\n",
    "  text = text.replace(\"\\u0049\\u0309\", \"\\u1EC8\")    # Ỉ\n",
    "  text = text.replace(\"\\u0049\\u0301\", \"\\u00CD\")    # Í\n",
    "  text = text.replace(\"\\u0049\\u0300\", \"\\u00CC\")    # Ì\n",
    "  text = text.replace(\"\\u0049\\u0323\", \"\\u1ECA\")    # Ị\n",
    "  text = text.replace(\"\\u0049\\u0303\", \"\\u0128\")    # Ĩ\n",
    "  text = text.replace(\"\\u004F\\u0309\", \"\\u1ECE\")    # Ỏ\n",
    "  text = text.replace(\"\\u004F\\u0301\", \"\\u00D3\")    # Ó\n",
    "  text = text.replace(\"\\u004F\\u0300\", \"\\u00D2\")    # Ò\n",
    "  text = text.replace(\"\\u004F\\u0323\", \"\\u1ECC\")    # Ọ\n",
    "  text = text.replace(\"\\u004F\\u0303\", \"\\u00D5\")    # Õ\n",
    "  text = text.replace(\"\\u01A0\\u0309\", \"\\u1EDE\")    # Ở\n",
    "  text = text.replace(\"\\u01A0\\u0301\", \"\\u1EDA\")    # Ớ\n",
    "  text = text.replace(\"\\u01A0\\u0300\", \"\\u1EDC\")    # Ờ\n",
    "  text = text.replace(\"\\u01A0\\u0323\", \"\\u1EE2\")    # Ợ\n",
    "  text = text.replace(\"\\u01A0\\u0303\", \"\\u1EE0\")    # Ỡ\n",
    "  text = text.replace(\"\\u00D4\\u0309\", \"\\u1ED4\")    # Ổ\n",
    "  text = text.replace(\"\\u00D4\\u0301\", \"\\u1ED0\")    # Ố\n",
    "  text = text.replace(\"\\u00D4\\u0300\", \"\\u1ED2\")    # Ồ\n",
    "  text = text.replace(\"\\u00D4\\u0323\", \"\\u1ED8\")    # Ộ\n",
    "  text = text.replace(\"\\u00D4\\u0303\", \"\\u1ED6\")    # Ỗ\n",
    "  text = text.replace(\"\\u0041\\u0309\", \"\\u1EA2\")    # Ả\n",
    "  text = text.replace(\"\\u0041\\u0301\", \"\\u00C1\")    # Á\n",
    "  text = text.replace(\"\\u0041\\u0300\", \"\\u00C0\")    # À\n",
    "  text = text.replace(\"\\u0041\\u0323\", \"\\u1EA0\")    # Ạ\n",
    "  text = text.replace(\"\\u0041\\u0303\", \"\\u00C3\")    # Ã\n",
    "  text = text.replace(\"\\u0102\\u0309\", \"\\u1EB2\")    # Ẳ\n",
    "  text = text.replace(\"\\u0102\\u0301\", \"\\u1EAE\")    # Ắ\n",
    "  text = text.replace(\"\\u0102\\u0300\", \"\\u1EB0\")    # Ằ\n",
    "  text = text.replace(\"\\u0102\\u0323\", \"\\u1EB6\")    # Ặ\n",
    "  text = text.replace(\"\\u0102\\u0303\", \"\\u1EB4\")    # Ẵ\n",
    "  text = text.replace(\"\\u00C2\\u0309\", \"\\u1EA8\")    # Ẩ\n",
    "  text = text.replace(\"\\u00C2\\u0301\", \"\\u1EA4\")    # Ấ\n",
    "  text = text.replace(\"\\u00C2\\u0300\", \"\\u1EA6\")    # Ầ\n",
    "  text = text.replace(\"\\u00C2\\u0323\", \"\\u1EAC\")    # Ậ\n",
    "  text = text.replace(\"\\u00C2\\u0303\", \"\\u1EAA\")    # Ẫ\n",
    "  return text\n"
   ]
  },
  {
   "cell_type": "code",
   "execution_count": 7,
   "metadata": {},
   "outputs": [],
   "source": [
    "def find_entity_equation(sentence,list_entity):\n",
    "    normalized_sentence=compound2unicode(sentence)\n",
    "    list_token_sentence=normalized_sentence.split(' ')\n",
    "    list_result_entity=[]\n",
    "    list_normalized_entity=[compound2unicode(entity) for entity in list_entity]\n",
    "    for entity in list_normalized_entity:\n",
    "        list_token_entity=entity.split(' ')\n",
    "        for i in range(len(list_token_sentence)-len(list_token_entity)+1):\n",
    "            if list_token_entity==list_token_sentence[i:i+len(list_token_entity)]:\n",
    "                list_result_entity.append(entity)\n",
    "    return list_result_entity"
   ]
  },
  {
   "cell_type": "code",
   "execution_count": 8,
   "metadata": {},
   "outputs": [],
   "source": [
    "sentence=\"cho mình xin thông tin về mùa hè xanh của xuân tình nguyện đi bạn\"\n",
    "list_entity=[\"mùa hè xanh\",\"xuân tình nguyện\"]"
   ]
  },
  {
   "cell_type": "code",
   "execution_count": 9,
   "metadata": {},
   "outputs": [
    {
     "name": "stdout",
     "output_type": "stream",
     "text": [
      "['mùa hè xanh', 'xuân tình nguyện']\n"
     ]
    }
   ],
   "source": [
    "print(find_entity_equation(sentence,list_entity))"
   ]
  },
  {
   "cell_type": "code",
   "execution_count": 10,
   "metadata": {},
   "outputs": [],
   "source": [
    "def longest_common_sublist(a, b):\n",
    "    table = {}\n",
    "    l = 0\n",
    "    i_max = None\n",
    "    j_max = None\n",
    "    for i, ca in enumerate(a, 1):\n",
    "        for j, cb in enumerate(b, 1):\n",
    "            if ca == cb:\n",
    "                table[i, j] = table.get((i - 1, j - 1), 0) + 1\n",
    "                if table[i, j] > l:\n",
    "                    l = table[i, j]\n",
    "                    i_max=i\n",
    "                    j_max=j\n",
    "    if i_max != None:\n",
    "        return l,i_max - 1\n",
    "    return l,i_max"
   ]
  },
  {
   "cell_type": "code",
   "execution_count": 11,
   "metadata": {},
   "outputs": [
    {
     "data": {
      "text/plain": [
       "(4, 12)"
      ]
     },
     "execution_count": 11,
     "metadata": {},
     "output_type": "execute_result"
    }
   ],
   "source": [
    "longest_common_sublist(\"cho mình xin mùa hè xanh thông tin về mùa hè xanh cse của xuân tình nguyện đi bạn\".split(' '),'mùa hè xanh cse'.split(' '))"
   ]
  },
  {
   "cell_type": "code",
   "execution_count": 12,
   "metadata": {},
   "outputs": [],
   "source": [
    "def lcs_length(a, b):\n",
    "    table = [[0] * (len(b) + 1) for _ in range(len(a) + 1)]\n",
    "    for i, ca in enumerate(a, 1):\n",
    "        for j, cb in enumerate(b, 1):\n",
    "            table[i][j] = (\n",
    "                table[i - 1][j - 1] + 1 if ca == cb else\n",
    "                max(table[i][j - 1], table[i - 1][j]))\n",
    "#     print(table)\n",
    "    return table[-1][-1]"
   ]
  },
  {
   "cell_type": "code",
   "execution_count": 13,
   "metadata": {},
   "outputs": [
    {
     "data": {
      "text/plain": [
       "3"
      ]
     },
     "execution_count": 13,
     "metadata": {},
     "output_type": "execute_result"
    }
   ],
   "source": [
    "lcs_length(['t','t','b','t','c','c','t','t'],['u','u','b','t','c','u','u'])"
   ]
  },
  {
   "cell_type": "code",
   "execution_count": 14,
   "metadata": {},
   "outputs": [
    {
     "data": {
      "text/plain": [
       "[[0, 0, 0, 0, 0], [0, 0, 0, 0, 0]]"
      ]
     },
     "execution_count": 14,
     "metadata": {},
     "output_type": "execute_result"
    }
   ],
   "source": [
    "Matrix = [[0 for x in range(5)] for y in range(2)] \n",
    "Matrix"
   ]
  },
  {
   "cell_type": "code",
   "execution_count": 15,
   "metadata": {},
   "outputs": [],
   "source": [
    "def lcs_length_ta(x, y):\n",
    "    m = len(x)\n",
    "    n = len(y)\n",
    "    c = [[0 for x in range(n+1)] for y in range(m+1)] \n",
    "    b = [['' for x in range(n+1)] for y in range(m+1)] \n",
    "    \n",
    "    for i in range(1,m+1):\n",
    "        for j in range(1,n+1):\n",
    "            if x[i-1] == y[j-1]:\n",
    "                c[i][j] = c[i-1][j-1] + 1\n",
    "                b[i][j] = '↖️'\n",
    "            elif c[i - 1][j] >= c[i][j-1]:\n",
    "                c[i][j] = c[i - 1][j] \n",
    "                b[i][j] = '⬆️'\n",
    "            else:\n",
    "                c[i][j] = c[i][j-1] \n",
    "                b[i][j] = '⬅️'\n",
    "    max_common_length = c[-1][-1]\n",
    "    i = m\n",
    "    j = n\n",
    "    pointer = c[i][j]\n",
    "    result_index = []\n",
    "    i_max = 0\n",
    "    max_length_in_sentence = 0\n",
    "    while pointer != 0:\n",
    "        if pointer == max_common_length and b[i][j]=='⬆️':\n",
    "            i = i-1\n",
    "            pointer = c[i][j]\n",
    "        if pointer == max_common_length and b[i][j]=='⬅️':\n",
    "            j = j-1\n",
    "            pointer = c[i][j]\n",
    "        if pointer == max_common_length and b[i][j]=='↖️':\n",
    "            result_index.append(i)\n",
    "            i = i-1\n",
    "            j = j-1\n",
    "            pointer = c[i][j]\n",
    "        if pointer != max_common_length and b[i][j]=='⬆️':\n",
    "            result_index.append(i)\n",
    "            i = i-1\n",
    "            pointer = c[i][j]\n",
    "        if pointer != max_common_length and b[i][j]=='⬅️':\n",
    "            result_index.append(i)\n",
    "            j = j-1\n",
    "            pointer = c[i][j]\n",
    "        if pointer != max_common_length and b[i][j]=='↖️':\n",
    "            result_index.append(i)\n",
    "            j = j-1\n",
    "            i = i-1\n",
    "            pointer = c[i][j]\n",
    "#     print(result_index)\n",
    "#     print(max_common_length)\n",
    "    if result_index != [] :\n",
    "        i_max = result_index[0]-1\n",
    "        max_length_in_sentence = result_index[0] -result_index[-1] +1\n",
    "    \n",
    "    return max_common_length,max_length_in_sentence,i_max\n",
    "    "
   ]
  },
  {
   "cell_type": "code",
   "execution_count": 16,
   "metadata": {},
   "outputs": [
    {
     "data": {
      "text/plain": [
       "(5, 9, 10)"
      ]
     },
     "execution_count": 16,
     "metadata": {},
     "output_type": "execute_result"
    }
   ],
   "source": [
    "lcs_length_ta(['t','t','b','t','c','c','t','t','t','t','c'],['u','u','b','t','c','c','u','c'])"
   ]
  },
  {
   "cell_type": "code",
   "execution_count": 17,
   "metadata": {},
   "outputs": [],
   "source": [
    "# # a: sentence\n",
    "# # b: entity\n",
    "# def longest_common_sublist_not_adjacent(a, b):\n",
    "#     max_common_length = 0\n",
    "#     i_max = 0\n",
    "#     result_a_slice = []\n",
    "#     max_length_in_sentence = 0\n",
    "#     n_gram_match = None\n",
    "#     #for loop qua n_gram\n",
    "#     for n_gram in range(1,len(a)):\n",
    "#         for i in range(0,len(a)-n_gram+1):\n",
    "#             if lcs_length(a[i:i + n_gram],b) > max_common_length and float(lcs_length(a[i:i + n_gram],b))/len(a[i:i + n_gram]) > 0.5:\n",
    "#                 max_length_in_sentence = len(a[i:i + n_gram])\n",
    "#                 n_gram_match = a[i:i + n_gram]\n",
    "# #                 print(n_gram_match)\n",
    "# #                 print(a[i:i+n_gram])\n",
    "# #                 print(max_common_length)\n",
    "#                 max_common_length = lcs_length(a[i:i+n_gram],b)\n",
    "#                 i_max = i + n_gram - 1\n",
    "# #     print(\"max_length: {0}\".format(max_length))\n",
    "# #     print(\"max_length_not_adjacent: {0}\".format(max))\n",
    "#     return max_common_length ,max_length_in_sentence, i_max  "
   ]
  },
  {
   "cell_type": "code",
   "execution_count": 18,
   "metadata": {},
   "outputs": [
    {
     "data": {
      "text/plain": [
       "(2, 5)"
      ]
     },
     "execution_count": 18,
     "metadata": {},
     "output_type": "execute_result"
    }
   ],
   "source": [
    "longest_common_sublist(\"đi mùa hè xanh năm 2013 khoa điện tử là giải đáp câu hỏi phải không bạn\".split(' '),'năm 2013'.split(' '))"
   ]
  },
  {
   "cell_type": "code",
   "execution_count": 19,
   "metadata": {},
   "outputs": [
    {
     "data": {
      "text/plain": [
       "(5, 7, 9)"
      ]
     },
     "execution_count": 19,
     "metadata": {},
     "output_type": "execute_result"
    }
   ],
   "source": [
    "lcs_length_ta('đi tử là giải đáp câu hỏi phải không bạn'.split(' '),'giải đáp các câu hỏi , thắc mắc về trường lớp của các bạn'.split(' '))"
   ]
  },
  {
   "cell_type": "code",
   "execution_count": 20,
   "metadata": {},
   "outputs": [],
   "source": [
    "def find_entity_longest_common(sentence,list_entity,entity_name):\n",
    "    normalized_sentence=compound2unicode(sentence)\n",
    "    list_token_sentence = normalized_sentence.split(' ')\n",
    "    list_result_entity = []\n",
    "    dict_max_len = {}\n",
    "    list_normalized_entity = [compound2unicode(entity) for entity in list_entity]\n",
    "    result = []\n",
    "    longest_common_length = None\n",
    "    end_common_index = None\n",
    "    for index, entity in enumerate(list_normalized_entity):\n",
    "#         print(entity)\n",
    "        list_token_entity = entity.split(' ')\n",
    "        if entity_name in ['register','reward','works','joiner']:\n",
    "            longest_common_length, max_length_in_sentence, end_common_index = lcs_length_ta(list_token_sentence,list_token_entity)\n",
    "        else:\n",
    "            longest_common_length, end_common_index = longest_common_sublist(list_token_sentence,list_token_entity)\n",
    "#         print(longest_common_length)\n",
    "        if longest_common_length!=0:\n",
    "            if entity_name in ['register','reward','works']:\n",
    "                longest_common_length_entity, max_length_in_sentence_entity, end_common_index_entity = lcs_length_ta(list_token_entity,list_token_sentence)\n",
    "                if float(longest_common_length)/max_length_in_sentence > 0.6 and float(longest_common_length_entity)/max_length_in_sentence_entity>0.6:\n",
    "                    dict_max_len[str(index)] = {'max_length_in_sentence':max_length_in_sentence,'longest_common_length':longest_common_length,'end_common_index':end_common_index}\n",
    "            else:\n",
    "                dict_max_len[str(index)] = {'longest_common_length':longest_common_length,'end_common_index':end_common_index}\n",
    "#         list_token_sentence = list_token_sentence[: end_common_index - longest_common_length] + list_token_sentence[end_common_index:]\n",
    "    max_longest_common_length=0\n",
    "#     print(dict_max_len)\n",
    "    for k,v in dict_max_len.items():\n",
    "        if v['longest_common_length']>max_longest_common_length:\n",
    "            max_longest_common_length=v['longest_common_length']\n",
    "    \n",
    "    for k,v in dict_max_len.items():\n",
    "        if v['longest_common_length']==max_longest_common_length:\n",
    "            if entity_name in ['register','reward','works']:\n",
    "                result.append({\"longest_common_entity_index\":int(k),\"longest_common_length\":v['max_length_in_sentence'],\"end_common_index\":v['end_common_index']})\n",
    "            else:\n",
    "                result.append({\"longest_common_entity_index\":int(k),\"longest_common_length\":v['longest_common_length'],\"end_common_index\":v['end_common_index']})\n",
    "    return result"
   ]
  },
  {
   "cell_type": "code",
   "execution_count": 21,
   "metadata": {},
   "outputs": [
    {
     "data": {
      "text/plain": [
       "[]"
      ]
     },
     "execution_count": 21,
     "metadata": {},
     "output_type": "execute_result"
    }
   ],
   "source": [
    "find_entity_longest_common(\"đi tử là giải đáp câu hỏi phải không bạn\",['giải đáp các câu hỏi , thắc mắc về trường lớp của các bạn'],'works')"
   ]
  },
  {
   "cell_type": "code",
   "execution_count": 22,
   "metadata": {},
   "outputs": [],
   "source": [
    "# def find_entity_threshold(sentence,list_entity,threshold):\n",
    "#     normalized_sentence = compound2unicode(sentence)\n",
    "#     list_token_sentence = sentence.split(' ')\n",
    "#     dict_max_len = {}\n",
    "#     list_normalized_entity=[compound2unicode(entity) for entity in list_entity]\n",
    "#     for index, entity in enumerate(list_normalized_entity):\n",
    "#         list_token_entity = entity.split(' ')\n",
    "#         dict_max_len[str(index)] = longest_common_sublist(list_token_sentence,list_token_entity)        \n",
    "#     list_index_entity_threshold = [int(k) for k,v in dict_max_len.items() if v>=threshold]\n",
    "#     list_result_entity = [list_entity[index_entity_threshold] for index_entity_threshold in list_index_entity_threshold]\n",
    "#     return list_result_entity"
   ]
  },
  {
   "cell_type": "code",
   "execution_count": 23,
   "metadata": {},
   "outputs": [],
   "source": [
    "# find_entity_threshold(\"cho mình xin thông tin mùa hè xanh khoa máy tính\",[\"mùa hè xanh\",\"mùa hè xanh khoa máy tính\",\"mùa hè xanh khoa\"],3)"
   ]
  },
  {
   "cell_type": "code",
   "execution_count": 24,
   "metadata": {},
   "outputs": [],
   "source": [
    "with open('data/real_dict_2000.json','r') as real_dict_file:\n",
    "    real_dict = json.load(real_dict_file)"
   ]
  },
  {
   "cell_type": "code",
   "execution_count": 25,
   "metadata": {},
   "outputs": [],
   "source": [
    "map_intent_to_list_order_entity_name = {\n",
    "    'time':['time','name_activity', 'type_activity', 'holder', \\\n",
    "                            'name_place', 'address'],\n",
    "    'name_activity':['time','name_activity', 'type_activity', 'holder', \\\n",
    "                            'name_place', 'address','reward','works'],\n",
    "    'type_activity':['time','name_activity', 'type_activity', 'holder', \\\n",
    "                            'name_place', 'address', 'works'\\\n",
    "                            , 'reward'],\n",
    "    'holder':['holder','time','name_activity', 'type_activity',  \\\n",
    "                            'name_place', 'address'],\n",
    "    'name_place':['name_place','time','name_activity', 'type_activity',  \\\n",
    "                            'holder', 'address'],\n",
    "    'address':['address','time','name_activity', 'type_activity', 'holder', \\\n",
    "                            'name_place'],\n",
    "    'contact':['contact', 'time','name_activity', 'type_activity', 'holder', \\\n",
    "                            'name_place', 'address'],\n",
    "    'works':['time','name_activity', 'type_activity', 'holder', \\\n",
    "                            'name_place', 'address','works'],\n",
    "    'register':['time','name_activity', 'type_activity', 'holder', \\\n",
    "                            'name_place', 'address'],\n",
    "    'reward':['name_activity', 'type_activity','reward','time', 'holder', \\\n",
    "                            'name_place', 'address'],\n",
    "    'joiner':['joiner','time','name_activity', 'type_activity', 'holder', \\\n",
    "                            'name_place', 'address'\\\n",
    "                            ]\n",
    "}"
   ]
  },
  {
   "cell_type": "code",
   "execution_count": 53,
   "metadata": {},
   "outputs": [],
   "source": [
    "#INTENT PATTERN MATCHING SIGNAL\n",
    "list_name_place_notification=[\"nơi\",\"tại đâu\",\"tại chỗ nào\",\"ở đâu\",\"chỗ nào\",\"tại đâu\",\"khu nào\",\"địa điểm nào\",\"chỗ diễn ra\",\"chỗ đâu\",\"khu tổ chức\",\"là ở\",\"là tại\",\"là nơi\",\"là tập trung tại\",\"là diễn ra tại\",\"là diễn ra ở\"]\n",
    "list_address_notification=[\"ấp nào\",\"phường nào\",\"xã nào\",\"quận nào\",\"huyện nào\",\"thành phố nào\",\"tỉnh nào\",\"đường nào\",\"đường gì\",\"số mấy\",\"địa chỉ nào\",\"địa chỉ\",\"tên đường\",\"số nhà\",\"phường mấy\",\"quận mấy\",\"số mấy\"]\n",
    "list_type_activity_notification=[\"loại hoạt động\",\"loại nào\",\"loại gì\",\"kiểu hoạt động\",\"kiểu gì\",\"kiểu nào\"]\n",
    "list_name_activity_notification=[\"tên gì\",\"tên là gì\",\"tên hoạt động là gì\",\"tên hoạt động\"] #check lai\n",
    "list_time_notification=[\"là tháng\",\"là ngày\",\"là vào\",\"tháng mấy\",\"thứ mấy\",\"là diễn ra vào\",\"ngày mấy\",\"khi nào\",\"lúc nào\",\"thời gian nào\",\"ngày nào\",\"ngày bao nhiêu\",\"giờ nào\",\"giờ bao nhiêu\",\"mấy giờ\",\"mấy h \",\"thời gian\"]\n",
    "list_holder_notification=[\"ban tổ chức\",\"btc\",\"ai tổ chức\",\"đơn vị nào tổ chức\",\"đơn vị tổ chức\",\"trường nào tổ chức\",\"clb nào tổ chức\",\"câu lạc bộ nào tổ chức\",\"người tổ chức\",\"tổ chức hả\",\"tổ chức phải không\",\"tổ chức đúng không\"]\n",
    "list_reward_notification=[\"có được drl\",'có được đrl','có được điểm rèn luyện',\"được thứ gì\",\"bao nhiêu tiền\",\"thưởng cái gì\",\"được lợi gì\",\"mấy ngày ctxh\",\"mấy điểm rèn luyện\",\"mấy drl\",\"mấy đrl\",\"mấy ngày công tác xã hội\",\"bao nhiêu ngày ctxh\",\"bao nhiêu ctxh\",\"bao nhiêu điểm rèn luyện\",\"bao nhiêu drl\",\"bao nhiêu đrl\",\"bao nhiêu ngày công tác xã hội\",\"có ích gì\",\"điểm rèn luyện\",\"được công tác xã hội\",\"được ctxh\",\"được thưởng gì\",\"được gì\",\"được cái gì\",\"có lợi gì\",\"lợi ích\",\"phần thưởng\",\"được quà gì\",\"tặng gì\",\"được bao nhiêu\",\"số tiền\",\"có được ctxh\",\"có được ngày công tác xã hội\",\"có được ngày ctxh\",\"có được tặng\",\"có được thưởng\",\"có được cho\"]\n",
    "\n",
    "\n",
    "\n",
    "#INTENT MESSAGE SIGNALS\n",
    "list_question_signal=[\" hả \",\"chứ\",\"có biết\",\"phải không\",\"là sao\",\"khi nào\",\"nơi nào\",\"không ạ\",\"k ạ\",\"là sao\",\"nữa vậy\",\"chưa á\",\"ko ạ\",\"sao ạ\",\"chưa ạ\",\"sao vậy\",\"không vậy\",\"k vậy\",\"ko vậy\",\"chưa vậy\",\" nhỉ \",\" ai\",\" ai \",\"ở đâu\",\"ở mô\",\"đi đâu\",\"bao giờ\",\"bao lâu\",\"khi nào\",\"lúc nào\",\"hồi nào\",\"vì sao\",\"tại sao\",\"thì sao\",\"làm sao\",\"như nào\",\"thế nào\",\"cái chi\",\"gì\",\"bao nhiêu\",\"?\",\" hả \",\"được không\",\"được k\",\"được ko\",\"vậy ạ\",\"nào vậy\",\"nào thế\",\"nữa không\",\"đúng không\",\"đúng k\",\"đúng ko\",\"nữa k\",\"nữa ko\",\"nào ấy\",\"nào ạ\",\"nào\",\"gì\",\"mấy\",\"đâu\",\"chứ\",\"thế\"]\n",
    "list_question_signal_last=[\"vậy\",\"chưa\",\"không\",\"sao\",\"à\",\"hả\",\"nhỉ\",\"thế\"]\n",
    "list_object=[\"bạn\",\"cậu\",\"ad\",\"anh\",\"chị\",\"admin\",\"em\",\"mày\",\"bot\"]\n",
    "list_subject=[\"mình\",\"tôi\",\"tớ\",\"tao\",\"tui\",\"anh\",\"em\"]\n",
    "list_verb_want=[\"hỏi\",\"biết\",\"xin\",\"tham gia\"]\n",
    "list_verb_have=[\"có\",\"được\"]"
   ]
  },
  {
   "cell_type": "code",
   "execution_count": 60,
   "metadata": {},
   "outputs": [],
   "source": [
    "list_extra_word = list_name_place_notification+list_address_notification\\\n",
    "                +list_type_activity_notification+list_name_activity_notification+list_time_notification\\\n",
    "                    +list_holder_notification+list_reward_notification+list_question_signal\n",
    "for obj in list_object:\n",
    "    list_extra_word.append(\"sao \"+obj)\n",
    "list_extra_word.append(\"còn không\")\n",
    "for subject in list_subject:\n",
    "    for verb in list_verb_want:\n",
    "        list_extra_word.extend([subject+\" muốn \"+verb,\"cho \"+subject+\" \"+verb,subject+\" cần \"+verb])\n",
    "        list_extra_word.extend([subject+\" muốn \"+verb+\" thông tin\",\"cho \"+subject+verb+\" thông tin\",subject+\" cần \"+verb+\" thông tin\"])\n",
    "for subject in list_subject:\n",
    "    list_extra_word.extend([\"chứ \"+subject,subject+\" muốn được hỏi\",subject+\" muốn được tư vấn\",subject+\" cần thông tin\",subject+\" muốn thông tin\"])\n",
    "    list_extra_word.extend([\"gửi \"+subject,\"chỉ \"+subject,\"chỉ giúp \"+subject,subject+\" muốn được hỏi thông tin\"])\n",
    "    \n",
    "for verb in list_verb_want:\n",
    "    list_extra_word.extend([\"cho \"+verb])\n",
    "for subject in list_subject:\n",
    "    list_extra_word.extend([\"cho \"+subject,\"gửi \"+subject,subject+\" cần\",subject+\" muốn\",subject+\" định\"])\n",
    "    list_extra_word.extend([\"cho \"+subject+\" thông tin\",\"gửi \"+subject+\" thông tin\",\"chỉ giúp \"+subject+\" thông tin\",subject+\" cần\",subject+\" muốn\",subject+\" định\"])\n",
    "list_extra_word.append(\"thì\")"
   ]
  },
  {
   "cell_type": "code",
   "execution_count": 61,
   "metadata": {},
   "outputs": [],
   "source": [
    "def delete_extra_word(sentence,list_extra_word):\n",
    "    for word in list_extra_word:\n",
    "        if word == \" hả \":\n",
    "            sentence = sentence.replace(word,\" ✪ \")\n",
    "        elif word == \" ai \":\n",
    "            sentence = sentence.replace(word,\" ✪ \")\n",
    "        elif word == \" ai\":\n",
    "            sentence = sentence.replace(word,\" ✪\")\n",
    "        elif word in list_question_signal_last and word == sentence.split(' ')[len(sentence.split(' '))-1]:\n",
    "            sentence = sentence.replace(word,\"✪\")\n",
    "        else:# replace la sao -> ✪ ✪\n",
    "            sentence = sentence.replace(word,' '.join(['✪']*(word.count(' ')+1)))\n",
    "    return sentence"
   ]
  },
  {
   "cell_type": "code",
   "execution_count": 62,
   "metadata": {},
   "outputs": [
    {
     "data": {
      "text/plain": [
       "'✪ ✪ đi mùa hè xanh'"
      ]
     },
     "execution_count": 62,
     "metadata": {},
     "output_type": "execute_result"
    }
   ],
   "source": [
    "delete_extra_word(\"khi nào đi mùa hè xanh\",list_extra_word)"
   ]
  },
  {
   "cell_type": "code",
   "execution_count": 66,
   "metadata": {},
   "outputs": [],
   "source": [
    "def find_all_entity(intent,input_sentence,list_extra_word):\n",
    "    normalized_input_sentence = compound2unicode(input_sentence)\n",
    "    normalized_input_sentence = delete_extra_word(normalized_input_sentence,list_extra_word)\n",
    "    result_entity_dict={}\n",
    "    matching_threshold = 0.0\n",
    "    longest_common_length, end_common_index = None, None\n",
    "    list_order_entity_name=['time','name_activity', 'type_activity', 'holder', \\\n",
    "                            'name_place', 'address', 'contact', 'works', 'register'\\\n",
    "                            , 'reward', 'joiner']\n",
    "    map_entity_name_to_threshold={}\n",
    "    for entity_name in list_order_entity_name:\n",
    "        if entity_name in ['time','address']:\n",
    "            map_entity_name_to_threshold[entity_name]=1\n",
    "        elif entity_name in ['name_activity','contact','joiner','holder','type_activity','name_place']:\n",
    "            map_entity_name_to_threshold[entity_name]=2\n",
    "        elif entity_name in ['works','reward']:\n",
    "            map_entity_name_to_threshold[entity_name]=2\n",
    "        elif entity_name in ['register']:\n",
    "            map_entity_name_to_threshold[entity_name]=3\n",
    "\n",
    "\n",
    "    ordered_real_dict = OrderedDict()\n",
    "    for entity_name in map_intent_to_list_order_entity_name[intent]:\n",
    "        ordered_real_dict[entity_name] = real_dict[entity_name]\n",
    "    for entity_name, list_entity in ordered_real_dict.items():\n",
    "        print(entity_name)\n",
    "        print(\"input sentence: {0}\".format(normalized_input_sentence))\n",
    "        if entity_name in [\"works\",\"register\",\"reward\"]:\n",
    "            matching_threshold = 0.1\n",
    "        else:\n",
    "            matching_threshold = 0.6\n",
    "#         print(\"000. sentence:{0}\".format(normalized_input_sentence))\n",
    "        catch_entity_threshold_loop = 0\n",
    "        while True:\n",
    "            if catch_entity_threshold_loop > 5:\n",
    "                break\n",
    "            list_dict_longest_common_entity = find_entity_longest_common(normalized_input_sentence,list_entity,entity_name)\n",
    "    #         print(list_dict_longest_common_entity)\n",
    "                #     [{'longest_common_entity_index': 0,\n",
    "                #   'longest_common_length': 3,\n",
    "                #   'end_common_index': 9}]\n",
    "\n",
    "            ##find the most match longest common match (calculate by length of token match in sentence \n",
    "                                                                #/ length of entity )\n",
    "                            ##{'greatest_match_entity_index':0,'longest_common_length':3,'end_common_index':9}\n",
    "            if list_dict_longest_common_entity == []:\n",
    "                break\n",
    "            if list_dict_longest_common_entity[0]['longest_common_length'] < map_entity_name_to_threshold[entity_name] :\n",
    "                break\n",
    "            \n",
    "            list_sentence_token = normalized_input_sentence.split(' ')\n",
    "#             print(\"list_sentence_token :{0}\".format(list_sentence_token))\n",
    "            greatest_entity_index=None\n",
    "            greatest_common_length = None\n",
    "            greatest_end_common_index = None\n",
    "            max_match_entity = 0.0\n",
    "#             print(\"common entity :{0}\".format(list_dict_longest_common_entity))\n",
    "            for dict_longest_common_entity in list_dict_longest_common_entity:\n",
    "#                 print(\"0. dict_longest_common_entity: {0}\".format(dict_longest_common_entity))\n",
    "\n",
    "#                     print(\"duong\")\n",
    "#                 print(\"0.1 entity: {0}\".format(list_entity[dict_longest_common_entity['longest_common_entity_index']]))\n",
    "                longest_common_entity_index = dict_longest_common_entity['longest_common_entity_index']\n",
    "                longest_common_length = dict_longest_common_entity['longest_common_length']\n",
    "                end_common_index = dict_longest_common_entity['end_common_index']\n",
    "                list_sentence_token_match = list_sentence_token[end_common_index - longest_common_length+1:end_common_index+1]\n",
    "#                 print(\"2. list_sentence_token_match : {0}\".format(list_sentence_token_match))\n",
    "                list_temp_longest_entity_token = list_entity[longest_common_entity_index].split(' ')\n",
    "#                 print(\"3. list_temp_longest_entity_token : {0}\".format(list_temp_longest_entity_token))\n",
    "                if entity_name in [\"works\",\"register\",\"reward\"]:\n",
    "#                     print(\"list_temp_longest_entity_token :{0}\".format(list_temp_longest_entity_token))\n",
    "#                     print(\"list_sentence_token_match :{0}\".format(list_sentence_token_match))\n",
    "                    _,longest_common_length_entity,end_common_index_entity = lcs_length_ta(list_temp_longest_entity_token,list_sentence_token_match)\n",
    "                    list_entity_token_match = list_temp_longest_entity_token[end_common_index_entity - longest_common_length_entity +1 :end_common_index_entity +1]\n",
    "                    score = len(list_entity_token_match)/float(len(list_temp_longest_entity_token))\n",
    "#                     print(\"list_entity_token_match: {0}\".format(list_entity_token_match))\n",
    "#                     print(\"list_temp_longest_entity_token:{0}\".format(list_temp_longest_entity_token))\n",
    "#                     print(\"score :{0}\".format(score))\n",
    "                else:\n",
    "                    score = len(list_sentence_token_match)/float(len(list_temp_longest_entity_token))\n",
    "                if score > max_match_entity:\n",
    "#                     max_match_entity = len(list_sentence_token_match)/float(len(list_temp_longest_entity_token))\n",
    "                    max_match_entity = score\n",
    "                    greatest_entity_index = longest_common_entity_index\n",
    "                    greatest_common_length = longest_common_length\n",
    "                    greatest_end_common_index = end_common_index\n",
    "#             print(list_sentence_token)\n",
    "#             print(greatest_common_length)\n",
    "#             print(greatest_end_common_index)\n",
    "#             print(\"longest_common_length: {0}\".format(longest_common_length))\n",
    "#             print(\"end_common_index: {0}\".format(end_common_index))\n",
    "#             print(\"1. greatest_common_length : {0}\".format(greatest_common_length))\n",
    "#             print(\"2. greatest entity : {0}\".format(list_entity[greatest_entity_index]))\n",
    "#             print(\"2.1 greatest_end_common_index: {0}\".format(greatest_end_common_index))\n",
    "#             print(\"3. sentence match: {0}\".format(list_sentence_token[greatest_end_common_index - greatest_common_length +1 :greatest_end_common_index +1]))\n",
    "            if greatest_common_length >= map_entity_name_to_threshold[entity_name] and max_match_entity > matching_threshold:\n",
    "                if entity_name in result_entity_dict:\n",
    "#                     result_entity_dict[entity_name].append(list_entity[greatest_entity_index])\n",
    "                    result_entity_dict[entity_name].append(' '.join(list_sentence_token[greatest_end_common_index - greatest_common_length +1 :greatest_end_common_index +1]))\n",
    "                else:\n",
    "#                     result_entity_dict[entity_name] = [list_entity[greatest_entity_index]]\n",
    "                    result_entity_dict[entity_name] = [' '.join(list_sentence_token[greatest_end_common_index - greatest_common_length +1 :greatest_end_common_index +1])]\n",
    "#                 list_sentence_token = list_sentence_token[:greatest_end_common_index - greatest_common_length + 1] + list_sentence_token[greatest_end_common_index +1 :]\n",
    "                list_sentence_token[greatest_end_common_index - greatest_common_length +1 :greatest_end_common_index +1] = [\"✪\"]*greatest_common_length\n",
    "                normalized_input_sentence = ' '.join(list_sentence_token)\n",
    "            catch_entity_threshold_loop = catch_entity_threshold_loop + 1\n",
    "            print(\"output sentence: {0}\".format(normalized_input_sentence))\n",
    "    return result_entity_dict\n"
   ]
  },
  {
   "cell_type": "code",
   "execution_count": 69,
   "metadata": {},
   "outputs": [],
   "source": [
    "def hasNumbers(inputString):\n",
    "    return any(char.isdigit() for char in inputString)"
   ]
  },
  {
   "cell_type": "code",
   "execution_count": 81,
   "metadata": {},
   "outputs": [],
   "source": [
    "def replace_digit_in_string(inputString):\n",
    "    return ''.join(['\\d' if char.isdigit() else char for char in inputString])"
   ]
  },
  {
   "cell_type": "code",
   "execution_count": 78,
   "metadata": {},
   "outputs": [
    {
     "name": "stdout",
     "output_type": "stream",
     "text": [
      "dict_keys(['name_activity', 'type_activity', 'holder', 'time', 'name_place', 'address', 'reward', 'contact', 'register', 'works', 'joiner'])\n"
     ]
    }
   ],
   "source": [
    "with open('data/real_dict_2000.json','r') as real_dict_file:\n",
    "    real_dict = json.load(real_dict_file)\n",
    "    list_time = real_dict['time']\n",
    "\n",
    "    print(real_dict.keys())"
   ]
  },
  {
   "cell_type": "code",
   "execution_count": 112,
   "metadata": {},
   "outputs": [
    {
     "name": "stdout",
     "output_type": "stream",
     "text": [
      "['ngày \\\\d\\\\d tháng \\\\d âm lịch', 'cuối ngày \\\\d/\\\\d\\\\d/\\\\d\\\\d\\\\d\\\\d', 'đến \\\\d\\\\dh\\\\d\\\\d’ \\\\d\\\\d/\\\\d\\\\d/\\\\d\\\\d\\\\d\\\\d', '\\\\d\\\\dh\\\\d\\\\d chiều thứ \\\\d ngày \\\\d - \\\\d', 'chiều thứ \\\\d hằng tuần từ \\\\d\\\\dg\\\\d\\\\d đến \\\\d\\\\dg\\\\d\\\\d', '\\\\dh\\\\d\\\\d – \\\\dh\\\\d\\\\d', '\\\\d\\\\dh\\\\d\\\\d chiều mai \\\\d/\\\\d\\\\d/\\\\d\\\\d\\\\d\\\\d', 'từ ngày \\\\d/\\\\d/\\\\d\\\\d\\\\d\\\\d đến ngày \\\\d/\\\\d/\\\\d\\\\d\\\\d\\\\d', '\\\\dh\\\\d\\\\d , thứ \\\\d \\\\( \\\\d\\\\d/\\\\d\\\\d/\\\\d\\\\d\\\\d\\\\d \\\\)', '\\\\d\\\\dg\\\\d\\\\d ngày \\\\d\\\\d/\\\\d\\\\d/\\\\d\\\\d\\\\d\\\\d \\\\( thứ \\\\d \\\\)', 'buổi sáng .*̀ \\\\dh \\\\d\\\\dh', '\\\\d\\\\dh\\\\d\\\\d ngày \\\\d\\\\d/\\\\d/\\\\d\\\\d\\\\d\\\\d .', '\\\\dh\\\\d\\\\d \\\\d\\\\dh\\\\d\\\\d , \\\\d\\\\dh\\\\d\\\\d \\\\d\\\\dh\\\\d\\\\d thứ \\\\d ngày \\\\d\\\\d/\\\\d\\\\d/\\\\d\\\\d\\\\d\\\\d', '\\\\d\\\\dg\\\\d\\\\d thứ \\\\d ngày \\\\d tháng \\\\d\\\\d .* \\\\d\\\\d\\\\d\\\\d', 'từ \\\\d\\\\dh\\\\d\\\\d đến \\\\d\\\\dh\\\\d\\\\d ngày \\\\d\\\\d/\\\\d\\\\d/\\\\d\\\\d\\\\d\\\\d', 'ngày \\\\d\\\\d/\\\\d & \\\\d/\\\\d', 'từ ngày \\\\d\\\\d/\\\\d đến ngày \\\\d\\\\d/\\\\d/\\\\d\\\\d\\\\d\\\\d', 'chiều nay ngày \\\\d\\\\d/\\\\d', 'từ \\\\d\\\\dh\\\\d\\\\d đến \\\\d\\\\dh , ngày \\\\d\\\\d/\\\\d\\\\d/\\\\d\\\\d\\\\d\\\\d \\\\( thứ .* \\\\)', '\\\\d\\\\dh\\\\d\\\\d , ngày \\\\d\\\\d/\\\\d/\\\\d\\\\d\\\\d\\\\d', '\\\\dh\\\\d\\\\d sáng chủ nhật \\\\( \\\\d\\\\d/\\\\d\\\\d/\\\\d\\\\d\\\\d\\\\d \\\\)', 'từ \\\\d\\\\dh\\\\d\\\\d , chủ nhật ngày \\\\d\\\\d/\\\\d\\\\d/\\\\d\\\\d\\\\d\\\\d', '\\\\dh \\\\d\\\\dh chủ nhật ngày \\\\d\\\\d/\\\\d', 'ngày \\\\d\\\\d , \\\\d\\\\d , \\\\d\\\\d , \\\\d\\\\d tháng \\\\d\\\\d', 'chiều mai \\\\( thứ .* \\\\d\\\\d/\\\\d \\\\) vào lúc \\\\d\\\\d : \\\\d\\\\d', '\\\\d : \\\\d\\\\d ngày \\\\d tháng \\\\d\\\\d .* \\\\d\\\\d\\\\d\\\\d', 'chiều : từ \\\\d\\\\dh\\\\d\\\\d đến \\\\d\\\\dh\\\\d\\\\d', 'từ \\\\d\\\\dh\\\\d\\\\d đến \\\\d\\\\dh\\\\d\\\\d thứ \\\\d ngày \\\\d\\\\d/\\\\d\\\\d/\\\\d\\\\d\\\\d\\\\d', 'từ \\\\dh sáng đến \\\\dh chiều', '\\\\d\\\\dh\\\\d\\\\d đến \\\\d\\\\dh\\\\d\\\\d ngày \\\\d\\\\d/\\\\d\\\\d/\\\\d\\\\d\\\\d\\\\d', 'sáng \\\\d\\\\d/\\\\d\\\\d/\\\\d\\\\d\\\\d\\\\d và sáng \\\\d/\\\\d\\\\d/\\\\d\\\\d\\\\d\\\\d', '\\\\d\\\\dh\\\\d\\\\d - \\\\d\\\\dh\\\\d\\\\d thứ \\\\d ngày \\\\d\\\\d/\\\\d/\\\\d\\\\d\\\\d\\\\d', '\\\\dh\\\\d\\\\d , ngày \\\\d\\\\d/\\\\d', '\\\\d\\\\dh\\\\d\\\\d ngày \\\\d\\\\d tháng \\\\d .* \\\\d\\\\d\\\\d\\\\d', '\\\\d\\\\d/\\\\d\\\\d/\\\\d\\\\d\\\\d\\\\d \\\\( \\\\d\\\\d/\\\\d âm lịch \\\\)', 'sáng \\\\dh\\\\d\\\\d ngày \\\\d\\\\d/\\\\d/\\\\d\\\\d\\\\d\\\\d', 'sáng ngày \\\\d\\\\d - \\\\d\\\\d', 'chủ nhật , \\\\d\\\\d/\\\\d/\\\\d\\\\d\\\\d\\\\d', '\\\\dh sáng ngày mai', '\\\\d\\\\d : \\\\d\\\\d am – \\\\d\\\\d : \\\\d\\\\d am', '\\\\dg \\\\dg\\\\d\\\\d sáng', 'bắt đầu lúc \\\\d\\\\dh\\\\d\\\\d thứ .* , ngày \\\\d/\\\\d\\\\d/\\\\d\\\\d\\\\d\\\\d', 'từ ngày \\\\d\\\\d/\\\\d \\\\d\\\\d/\\\\d thứ .* đến thứ .*', '\\\\d\\\\dh\\\\d\\\\d chủ nhật ngày \\\\d/\\\\d/\\\\d\\\\d\\\\d\\\\d', 'thứ \\\\d , \\\\d\\\\d/\\\\d\\\\d/\\\\d\\\\d\\\\d\\\\d', 'sáng nay , vào lúc \\\\dh', '\\\\d\\\\dh\\\\d\\\\d ngày \\\\d\\\\d tháng \\\\d\\\\d .* \\\\d\\\\d\\\\d\\\\d ', 'lúc \\\\d\\\\dh\\\\d\\\\d ngày \\\\d\\\\d/\\\\d', 'chiều ngày \\\\d\\\\d/\\\\d', 'thứ \\\\d , cn : \\\\d\\\\d\\\\d/\\\\d\\\\d/\\\\d\\\\d', '\\\\d\\\\dh\\\\d\\\\d ngày \\\\d\\\\d/\\\\d/\\\\d\\\\d\\\\d\\\\d', '\\\\d\\\\dh\\\\d\\\\d \\\\dh\\\\d\\\\d', 'sáng \\\\dh\\\\d\\\\d', 'tối : \\\\d\\\\dh\\\\d\\\\d đến \\\\d\\\\dh\\\\d\\\\d', 'từ \\\\d\\\\dh\\\\d\\\\d ngày \\\\d\\\\d/\\\\d/\\\\d\\\\d\\\\d\\\\d', 'thứ .* \\\\( ngày \\\\d\\\\d/\\\\d \\\\)', '\\\\dh\\\\d\\\\d ngày \\\\d\\\\d/\\\\d\\\\d/\\\\d\\\\d\\\\d\\\\d và \\\\d\\\\d/\\\\d\\\\d/\\\\d\\\\d\\\\d\\\\d', '\\\\dh\\\\d\\\\d sáng chủ nhật , ngày \\\\d\\\\d/\\\\d\\\\d/\\\\d\\\\d\\\\d\\\\d', '\\\\d\\\\dh\\\\d\\\\d thứ \\\\d tuần này \\\\( \\\\d\\\\d/\\\\d\\\\d \\\\)', '\\\\d\\\\d/\\\\d/\\\\d\\\\d\\\\d\\\\d – \\\\d\\\\d/\\\\d/\\\\d\\\\d\\\\d\\\\d', 'trưa \\\\d\\\\d/\\\\d\\\\d', 'ngày \\\\d\\\\d.\\\\d\\\\d', '\\\\d\\\\d \\\\d\\\\d : \\\\d\\\\d , thứ .* , ngày \\\\d\\\\d/\\\\d/\\\\d\\\\d\\\\d\\\\d', '\\\\d\\\\dh ngày \\\\d.\\\\d.\\\\d\\\\d\\\\d\\\\d', 'ngày \\\\d\\\\d - \\\\d\\\\d/\\\\d\\\\d/\\\\d\\\\d\\\\d\\\\d \\\\( thứ \\\\d , chủ nhật \\\\)', 'ngày \\\\d.\\\\d.\\\\d\\\\d\\\\d\\\\d', '\\\\d\\\\dh\\\\d\\\\d – \\\\d\\\\dh', '\\\\d\\\\dh\\\\d\\\\d \\\\d\\\\dh\\\\d\\\\d , ngày \\\\d\\\\d/\\\\d\\\\d \\\\( thứ .* \\\\)', 'ngày \\\\d.\\\\d\\\\d vừa qua', '\\\\dh đến \\\\d\\\\dh ngày \\\\d - \\\\d - \\\\d\\\\d\\\\d\\\\d', '\\\\dh - \\\\d\\\\dh ngày \\\\d\\\\d/\\\\d\\\\d/\\\\d\\\\d\\\\d\\\\d \\\\( thứ \\\\d \\\\)', 'thứ \\\\d này \\\\( ngày \\\\d\\\\d/\\\\d\\\\d \\\\)', 'vào tháng \\\\d hàng .*', '\\\\d\\\\dh đến \\\\d\\\\dh\\\\d\\\\d chiếu nay \\\\( ngày \\\\d\\\\d/\\\\d\\\\d \\\\)', '\\\\d\\\\dg - \\\\d\\\\dg\\\\d\\\\d', 'từ \\\\d\\\\dh\\\\d\\\\d đến \\\\d\\\\dh\\\\d\\\\d  ', '\\\\d\\\\d/\\\\d\\\\d đến \\\\d\\\\d/\\\\d\\\\d/\\\\d\\\\d\\\\d\\\\d', '\\\\d\\\\d / \\\\d\\\\d / \\\\d\\\\d\\\\d\\\\d \\\\( sáng thứ .* \\\\)', '\\\\d\\\\dh\\\\d\\\\d ngày \\\\d/\\\\d \\\\( thứ \\\\d \\\\)', 'từ \\\\d\\\\d/\\\\d\\\\d \\\\d\\\\d/\\\\d\\\\d', '\\\\d\\\\dh\\\\d\\\\d \\\\d\\\\dh\\\\d\\\\d ngày \\\\d\\\\d \\\\d\\\\d \\\\d\\\\d\\\\d\\\\d', 'từ tháng \\\\d đến tháng \\\\d', '\\\\d tháng từ \\\\d\\\\d/\\\\d\\\\d/\\\\d\\\\d\\\\d\\\\d', 'ngày \\\\d\\\\d/\\\\d\\\\d từ \\\\dh\\\\d\\\\d - \\\\d\\\\dh', 'ngày \\\\d/\\\\d\\\\d/\\\\d\\\\d', 'thứ \\\\d , ngày \\\\d\\\\d/\\\\d\\\\d/\\\\d\\\\d\\\\d\\\\d \\\\( \\\\d/\\\\d âm lịch \\\\)', 'sáng nay \\\\d\\\\d/\\\\d\\\\d', 'chiều nay , ngày \\\\d/\\\\d/\\\\d\\\\d\\\\d\\\\d', '\\\\d : \\\\d\\\\d \\\\d\\\\d : \\\\d\\\\d thứ .* ngày \\\\d\\\\d/\\\\d\\\\d/\\\\d\\\\d\\\\d\\\\d', 'từ thứ .* - ngày \\\\d\\\\d/\\\\d\\\\d/\\\\d\\\\d\\\\d\\\\d đến thứ .* - ngày \\\\d\\\\d/\\\\d\\\\d/\\\\d\\\\d\\\\d\\\\d', 'kết thúc trước \\\\d\\\\dh\\\\d\\\\d', 'thứ \\\\d & chủ nhật hằng tuần từ \\\\d\\\\d/\\\\d\\\\d/\\\\d\\\\d\\\\d\\\\d \\\\d\\\\d/\\\\d\\\\d/\\\\d\\\\d\\\\d\\\\d', 'lúc \\\\dh\\\\d\\\\d', 'ngày \\\\d\\\\d/\\\\d \\\\d\\\\dg\\\\d\\\\d ngày \\\\d/\\\\d', 'chiều thứ \\\\d tuần này \\\\d\\\\d/\\\\d\\\\d/\\\\d\\\\d\\\\d\\\\d lúc \\\\d\\\\dh\\\\d\\\\d', 'từ \\\\d\\\\d/\\\\d đến \\\\d/\\\\d/\\\\d\\\\d\\\\d\\\\d', '\\\\dh\\\\d\\\\d sáng ngày \\\\d\\\\d/\\\\d', 'ngày \\\\d\\\\d - \\\\d\\\\d - \\\\d\\\\d\\\\d\\\\d', 'sáng : \\\\dh\\\\d\\\\d đến \\\\d\\\\dh\\\\d\\\\dchiều : \\\\d\\\\dh\\\\d\\\\d đến \\\\d\\\\dh\\\\d\\\\d', 'ngày mai thứ .* \\\\d/\\\\d\\\\d lúc \\\\d\\\\dh', 'sáng \\\\d\\\\d/\\\\d\\\\d/\\\\d\\\\d\\\\d\\\\d \\\\( chủ nhật \\\\)', 'thứ \\\\d ngày \\\\d\\\\d/\\\\d\\\\d/\\\\d\\\\d\\\\d\\\\d \\\\( buổi chiều từ \\\\d\\\\dh\\\\d\\\\d đến \\\\d\\\\dh \\\\)', 'vào lúc \\\\dh ngày \\\\d\\\\d.\\\\d.\\\\d\\\\d\\\\d\\\\d \\\\( chủ nhật \\\\)', 'thứ .* \\\\( ngày \\\\d\\\\d/\\\\d/\\\\d\\\\d\\\\d\\\\d \\\\)', '\\\\d\\\\d : \\\\d\\\\d ngày \\\\d\\\\d/\\\\d/\\\\d\\\\d\\\\d\\\\d', '\\\\( \\\\d\\\\d/\\\\d/\\\\d\\\\d\\\\d\\\\d \\\\) lúc \\\\d\\\\dh\\\\d\\\\d', 'kết thúc vào đầu tháng \\\\d', '\\\\d\\\\dh\\\\d\\\\d thứ .* hằng tuần', '\\\\d\\\\d/\\\\d và \\\\d/\\\\d', 'chủ nhật , ngày \\\\d tháng \\\\d .* \\\\d\\\\d\\\\d\\\\d', 'ngày \\\\d/\\\\d\\\\d/\\\\d\\\\d\\\\d\\\\d \\\\( thứ \\\\d \\\\) lúc \\\\d\\\\dh\\\\d\\\\d', 'buổi sáng \\\\dh\\\\d\\\\d - \\\\d\\\\dh , buổi chiều \\\\d\\\\dh - \\\\d\\\\dh', 'bắt đầu t\\\\d \\\\( \\\\d/\\\\d \\\\)', 'thứ \\\\d ngày \\\\d\\\\d/\\\\d/\\\\d\\\\d\\\\d\\\\d', 'từ \\\\d\\\\d/\\\\d\\\\d kết thúc ngày \\\\d\\\\d/\\\\d\\\\d/\\\\d\\\\d\\\\d\\\\d', '\\\\d\\\\dh\\\\d\\\\d thứ .* ngày \\\\d\\\\d/\\\\d', '\\\\dh\\\\d\\\\d đến \\\\d\\\\dh\\\\d\\\\d ngày \\\\d\\\\d/\\\\d\\\\d/\\\\d\\\\d\\\\d\\\\d', '\\\\d\\\\dh\\\\d\\\\d – \\\\d\\\\d/\\\\d\\\\d/\\\\d\\\\d\\\\d\\\\d', 'sáng \\\\dh từ thứ .* đến thứ .*', '\\\\dh\\\\d\\\\d \\\\dh\\\\d\\\\d \\\\( sáng \\\\)', '\\\\d\\\\dh\\\\d\\\\d ngày mai \\\\d\\\\d/\\\\d\\\\d/\\\\d\\\\d\\\\d\\\\d', ' \\\\d\\\\dh\\\\d\\\\d – \\\\d\\\\dh\\\\d\\\\d – \\\\d\\\\dh\\\\d\\\\d – \\\\d\\\\dh\\\\d\\\\d – \\\\d\\\\dh\\\\d\\\\d – \\\\d\\\\dh\\\\d\\\\d – \\\\d\\\\dh\\\\d\\\\d – \\\\d\\\\dh\\\\d\\\\d', 'chiều mai \\\\( thứ \\\\d \\\\) , ngày \\\\d\\\\d/\\\\d\\\\d/\\\\d\\\\d\\\\d\\\\d', 'từ \\\\dh\\\\d\\\\d - \\\\d\\\\dh\\\\d\\\\d , thứ \\\\d , ngày \\\\d\\\\d/\\\\d\\\\d/\\\\d\\\\d\\\\d\\\\d', 'từ \\\\dh\\\\d\\\\d – \\\\d\\\\dh\\\\d\\\\d', 'ngày \\\\d\\\\d tháng chạp âm lịch', '\\\\d\\\\dh\\\\d\\\\d ngày mai \\\\( t\\\\d - \\\\d\\\\d/\\\\d\\\\d \\\\)', 'hôm qua , ngày \\\\d - \\\\d - \\\\d\\\\d\\\\d\\\\d', 'thứ \\\\d \\\\( \\\\d/\\\\d\\\\d \\\\)', '\\\\dh - \\\\d\\\\dh , thứ \\\\d \\\\( \\\\d/\\\\d/\\\\d\\\\d\\\\d\\\\d \\\\)', 'chiều mai lúc \\\\d\\\\dh\\\\d\\\\d', '\\\\dh\\\\d\\\\d ngày \\\\d\\\\d/\\\\d\\\\d/\\\\d\\\\d\\\\d\\\\d', 'từ \\\\dh - \\\\dh sáng cn', '\\\\d\\\\dh chiều ngày \\\\d\\\\d/\\\\d\\\\d/\\\\d\\\\d\\\\d\\\\d', '\\\\d\\\\dh\\\\d\\\\d ngày \\\\d\\\\d/\\\\d/\\\\d\\\\d\\\\d\\\\d', 'lúc \\\\dh ngày \\\\d\\\\d/\\\\d\\\\d/\\\\d\\\\d\\\\d\\\\d', ' ngày \\\\d\\\\d , \\\\d\\\\d/\\\\d/\\\\d\\\\d\\\\d\\\\d', 'từ \\\\dh ngày \\\\d\\\\d/\\\\d\\\\d/\\\\d\\\\d\\\\d\\\\d', '\\\\d\\\\dh\\\\d\\\\d thứ \\\\d ngày \\\\d/\\\\d\\\\d', 'từ \\\\d\\\\d\\\\d sáng đến \\\\d\\\\d : \\\\d\\\\d tối', 'từ \\\\d\\\\dg\\\\d\\\\d đến \\\\d\\\\dg\\\\d\\\\d ngày \\\\d\\\\d.\\\\d.\\\\d\\\\d\\\\d\\\\d', '\\\\d\\\\dh ngày \\\\d tháng \\\\d .* \\\\d\\\\d\\\\d\\\\d', '\\\\d\\\\dh\\\\d\\\\d ngày \\\\d/\\\\d/\\\\d\\\\d\\\\d\\\\d hết hiệp \\\\d', 'hôm nay \\\\( \\\\d\\\\d/\\\\d \\\\)', 'ngày \\\\d đến \\\\d\\\\d/\\\\d/\\\\d\\\\d\\\\d\\\\d', '\\\\d\\\\dh\\\\d\\\\d', 'lúc \\\\d giờ \\\\d\\\\d tại phòng g\\\\d\\\\d\\\\d', '\\\\dh\\\\d\\\\d ngày \\\\d\\\\d/\\\\d\\\\d/ \\\\d\\\\d\\\\d\\\\d', '\\\\dh\\\\d\\\\d - \\\\d\\\\dh\\\\d\\\\d', 'từ ngày \\\\d\\\\d/\\\\d/\\\\d\\\\d\\\\d\\\\d đến \\\\d\\\\d/\\\\d/\\\\d\\\\d\\\\d\\\\d', 'lúc \\\\d\\\\dh\\\\d\\\\d ngày \\\\d\\\\d/\\\\d\\\\d/\\\\d\\\\d\\\\d\\\\d', '\\\\dh sáng ngày \\\\d\\\\d/\\\\d/\\\\d\\\\d\\\\d\\\\d', '\\\\d\\\\dh\\\\d\\\\d ngày \\\\d\\\\d /\\\\d\\\\d/\\\\d\\\\d\\\\d\\\\d', 'sáng nay ngày \\\\d/\\\\d\\\\d/\\\\d\\\\d\\\\d\\\\d', 'tháng \\\\d\\\\d.\\\\d\\\\d\\\\d\\\\d', '\\\\d\\\\dh\\\\d\\\\d – \\\\d\\\\dh\\\\d\\\\d , \\\\d\\\\d/\\\\d\\\\d/\\\\d\\\\d\\\\d\\\\d', '\\\\d\\\\d : \\\\d\\\\d \\\\d\\\\d : \\\\d\\\\d , thứ \\\\d , ngày \\\\d/\\\\d\\\\d/\\\\d\\\\d\\\\d\\\\d', 'thứ .* , ngày \\\\d\\\\d/\\\\d/\\\\d\\\\d lúc \\\\dg', '\\\\dh\\\\d\\\\d , thứ .* ngày \\\\d\\\\d/\\\\d\\\\d/\\\\d\\\\d\\\\d\\\\d', 'vào \\\\d\\\\dh\\\\d\\\\d ngày \\\\d\\\\d/\\\\d\\\\d/\\\\d\\\\d\\\\d\\\\d', 'sáng ngày thứ .* \\\\d\\\\d/\\\\d\\\\d/\\\\d\\\\d\\\\d\\\\d', 'chỉ trong ngày thứ .* \\\\d\\\\d/\\\\d\\\\d/\\\\d\\\\d\\\\d\\\\d buổi sáng từ \\\\d\\\\dh\\\\d\\\\d \\\\d\\\\dh\\\\d\\\\d', 'từ \\\\d\\\\dh - \\\\d\\\\dh\\\\d\\\\d thứ \\\\d hàng tuần', '\\\\dh\\\\d\\\\d sáng chủ nhật hàng tuần', '\\\\d\\\\dh\\\\d\\\\d \\\\d\\\\d/\\\\d/\\\\d\\\\d\\\\d\\\\d', '\\\\( \\\\d\\\\d - \\\\d\\\\d/\\\\d\\\\d/\\\\d\\\\d\\\\d\\\\d \\\\)', 'từ \\\\d : \\\\d\\\\d đến \\\\d\\\\d : \\\\d\\\\dngày \\\\d\\\\d , \\\\d\\\\d và \\\\d\\\\d/\\\\d\\\\d/\\\\d\\\\d\\\\d\\\\d', 'chót là \\\\d\\\\dh , thứ \\\\d , ngày \\\\d\\\\d/\\\\d\\\\d/\\\\d\\\\d\\\\d\\\\d', 'chiều : \\\\d\\\\dh\\\\d\\\\d đến \\\\d\\\\dh\\\\d\\\\d', '\\\\d\\\\dh ngày thứ \\\\d \\\\( \\\\d\\\\d/\\\\d \\\\)', 'thứ \\\\d \\\\( \\\\d\\\\d/\\\\d\\\\d \\\\) đến \\\\d\\\\dh thứ \\\\d \\\\( \\\\d\\\\d/\\\\d\\\\d \\\\)', 'sáng chủ nhật tuần này , \\\\d\\\\d/\\\\d\\\\d/\\\\d\\\\d\\\\d\\\\d lúc \\\\dh\\\\d\\\\d sáng', 'từ \\\\dh\\\\d\\\\d – \\\\d\\\\dh\\\\d\\\\d các ngày \\\\d\\\\d/\\\\d\\\\d đến \\\\d\\\\d/\\\\d\\\\d/\\\\d\\\\d\\\\d\\\\d \\\\( thứ \\\\d , \\\\d , \\\\d \\\\)', 'thứ \\\\d , ngày \\\\d/\\\\d\\\\d/\\\\d\\\\d\\\\d\\\\d ', 'sáng hôm nay ngày \\\\d\\\\d/\\\\d\\\\d', '\\\\dh \\\\d\\\\dh ngày mai \\\\d\\\\d/\\\\d\\\\d/\\\\d\\\\d\\\\d\\\\d', 'ngày \\\\d\\\\d và ngày \\\\d\\\\d hàng tháng', 'từ \\\\d\\\\dg\\\\d\\\\d ngày \\\\d\\\\d/\\\\d/\\\\d\\\\d\\\\d\\\\d đến \\\\d\\\\dg\\\\d\\\\d ngày \\\\d\\\\d/\\\\d/\\\\d\\\\d\\\\d\\\\d ', 'buổi chiều : \\\\d\\\\dh\\\\d\\\\d đến \\\\d\\\\dh\\\\d\\\\d', 'ngày mai \\\\( \\\\d\\\\d/\\\\d\\\\d \\\\)', 'còn \\\\d ngày', '\\\\d\\\\d/\\\\d - \\\\d\\\\d/\\\\d/\\\\d\\\\d\\\\d\\\\d', '\\\\d\\\\dh\\\\d\\\\d - \\\\d\\\\dh tối thứ \\\\d và thứ \\\\d hàng tuần', '\\\\d\\\\dh\\\\d\\\\d thứ \\\\d ngày \\\\d\\\\d/\\\\d\\\\d/\\\\d\\\\d\\\\d\\\\d', 'ngày thứ \\\\d \\\\( \\\\d/\\\\d\\\\d/\\\\d\\\\d\\\\d\\\\d \\\\)', '\\\\dh\\\\d\\\\d \\\\d\\\\dh\\\\d\\\\d ngày \\\\d , \\\\d , \\\\d/\\\\d\\\\d/\\\\d\\\\d\\\\d\\\\d \\\\( thứ \\\\d , \\\\d , \\\\d \\\\)', 'thứ .* \\\\d\\\\d/\\\\d/\\\\d\\\\d', 'an từ ngày \\\\d\\\\d/\\\\d\\\\d/\\\\d\\\\d\\\\d\\\\d đến ngày \\\\d\\\\d/\\\\d\\\\d/\\\\d', '\\\\d\\\\dh\\\\d\\\\d ngày thứ \\\\d \\\\( \\\\d\\\\d/\\\\d\\\\d/\\\\d\\\\d\\\\d\\\\d \\\\)', '\\\\dg\\\\d\\\\d thứ \\\\d ngày \\\\d\\\\d tháng \\\\d\\\\d .* \\\\d\\\\d\\\\d\\\\d', 'từ \\\\d\\\\dh\\\\d\\\\d \\\\d\\\\dh\\\\d\\\\d ; chiều thứ \\\\d , \\\\d , \\\\d trong tuần . bắt đầu từ ngày \\\\d\\\\d/\\\\d\\\\d/\\\\d\\\\d\\\\d\\\\d', '.*̀ ngày \\\\d\\\\d/\\\\d/\\\\d\\\\d\\\\d\\\\d đến \\\\d\\\\d/\\\\d/\\\\d\\\\d\\\\d\\\\d', '\\\\dh\\\\d\\\\d sáng ngày \\\\d\\\\d/\\\\d\\\\d/\\\\d\\\\d\\\\d\\\\d', '\\\\d\\\\dh , ngày \\\\d\\\\d/\\\\d\\\\d/\\\\d\\\\d\\\\d\\\\d', '\\\\d\\\\d ngày \\\\d\\\\d và \\\\d\\\\d/\\\\d\\\\d/\\\\d\\\\d\\\\d\\\\d', '\\\\d\\\\dh\\\\d\\\\d chiều thứ \\\\d ngày \\\\d\\\\d/\\\\d', '\\\\dh\\\\d\\\\d – \\\\d\\\\dg\\\\d\\\\d', 'thứ \\\\d ngày \\\\d\\\\d/\\\\d\\\\d từ \\\\d\\\\dh - \\\\d\\\\dh', 'từ \\\\dh\\\\d\\\\d đến \\\\d\\\\dh', 'bắt đầu sáng thứ \\\\d ngày \\\\d/\\\\d\\\\d/\\\\d\\\\d\\\\d\\\\d', '\\\\dh - \\\\d\\\\dh ngày \\\\d\\\\d/\\\\d\\\\d/\\\\d\\\\d\\\\d\\\\d', '\\\\dh\\\\d\\\\d – \\\\dh\\\\d\\\\d , ngày \\\\d\\\\d tháng \\\\d\\\\d .* \\\\d\\\\d\\\\d\\\\d \\\\( thứ .* \\\\)', 'thứ \\\\d , ngày \\\\d\\\\d/\\\\d\\\\d', 'từ \\\\dh ngày \\\\d\\\\d/\\\\d \\\\d\\\\dh ngày \\\\d/\\\\d\\\\d/\\\\d\\\\d\\\\d\\\\d . \\\\( thứ \\\\d & chủ nhật \\\\)', ' \\\\dh\\\\d\\\\dh ngày \\\\d\\\\d/\\\\d/\\\\d\\\\d\\\\d\\\\d', 'ngày \\\\d\\\\d tháng \\\\d', 'thứ \\\\d này \\\\( \\\\d\\\\d - \\\\d \\\\)', '\\\\d\\\\d \\\\d\\\\d/\\\\d\\\\d/\\\\d\\\\d\\\\d\\\\d', '\\\\d\\\\d\\\\d \\\\d\\\\d : \\\\d\\\\d ngày \\\\d\\\\d.\\\\d.\\\\d\\\\d\\\\d\\\\d', 'ngày \\\\d/\\\\d\\\\d/\\\\d\\\\d\\\\d\\\\d', 'ngày \\\\d\\\\d/\\\\d\\\\d/\\\\d\\\\d :  \\\\d\\\\dg \\\\d\\\\dg', '\\\\dh sáng ngày \\\\d/\\\\d', '\\\\d\\\\dh\\\\d\\\\d thứ \\\\d , ngày \\\\d\\\\d/\\\\d\\\\d/\\\\d\\\\d\\\\d\\\\d', '\\\\d\\\\dh – \\\\d\\\\dh\\\\d\\\\d ngày \\\\d\\\\d/\\\\d\\\\d/\\\\d\\\\d\\\\d\\\\d', 'từ ngày \\\\d\\\\d/\\\\d\\\\d/\\\\d\\\\d\\\\d\\\\d đến \\\\d\\\\d/\\\\d\\\\d/\\\\d\\\\d\\\\d\\\\d', '\\\\d\\\\dh – \\\\d\\\\dh\\\\d\\\\d', 'chỉ còn \\\\d ngày nữa', '\\\\d\\\\d/\\\\d/\\\\d\\\\d', 'thứ \\\\d \\\\d/\\\\d/\\\\d\\\\d\\\\d\\\\d', '\\\\d\\\\d/\\\\d\\\\d - \\\\d/\\\\d\\\\d/\\\\d\\\\d\\\\d\\\\d', 'vào lúc \\\\d\\\\dh\\\\d\\\\d', 'chủ nhật \\\\d\\\\d/\\\\d/\\\\d\\\\d\\\\d\\\\d', '\\\\d\\\\d.\\\\d\\\\d.\\\\d\\\\d\\\\d\\\\d', '\\\\dh đến \\\\d\\\\dh\\\\d\\\\d ngày \\\\d\\\\d/\\\\d/\\\\d\\\\d\\\\d\\\\d', '\\\\d\\\\dh\\\\d\\\\d \\\\d\\\\dh\\\\d\\\\d ', '\\\\d\\\\dh trưa nay đến \\\\d\\\\dh ngày \\\\d\\\\d/\\\\d\\\\d', '\\\\d\\\\dh\\\\d\\\\d thứ \\\\dngày \\\\d\\\\d/\\\\d/\\\\d\\\\d\\\\d\\\\d', '\\\\dh\\\\d\\\\d sáng ngày \\\\d\\\\d.\\\\d\\\\d.\\\\d\\\\d\\\\d\\\\d \\\\( ngày mai \\\\)', 'thứ \\\\d cuối tuần này', 'chiều hôm nay \\\\d\\\\d - \\\\d\\\\d', 'chiều : \\\\d\\\\dh\\\\d\\\\d \\\\d\\\\dh\\\\d\\\\d', '\\\\d\\\\dh\\\\d\\\\d ngày \\\\d/\\\\d/\\\\d\\\\d\\\\d\\\\d \\\\( thứ \\\\d \\\\)', '\\\\d\\\\dh , chủ nhật , ngày \\\\d\\\\d/\\\\d\\\\d/\\\\d\\\\d\\\\d\\\\d', '\\\\d\\\\d\\\\d\\\\d', 'từ ngày \\\\d\\\\d/\\\\d\\\\d/\\\\d\\\\d\\\\d\\\\d', '\\\\d\\\\d/\\\\d âl', 'ngày \\\\d\\\\d tháng \\\\d\\\\d .* \\\\d\\\\d\\\\d\\\\d nhằm chủ nhật', '\\\\d\\\\dh chủ nhật ngày \\\\d\\\\d/\\\\d\\\\d/\\\\d\\\\d\\\\d\\\\d', '.* ngày \\\\d\\\\d và \\\\d\\\\d tháng \\\\d', 'sáng nay \\\\( \\\\d\\\\d/\\\\d\\\\d \\\\)', '\\\\d\\\\dg ngày chủ nhật \\\\( \\\\d\\\\d/\\\\d \\\\)', '\\\\dg\\\\d\\\\d', 'thứ \\\\d \\\\( \\\\d\\\\d/\\\\d\\\\d \\\\)', '\\\\d\\\\dh\\\\d\\\\d , ngày \\\\d\\\\d/\\\\d\\\\d/\\\\d\\\\d\\\\d\\\\d \\\\( thứ \\\\d \\\\) \\\\d\\\\dh\\\\d\\\\d , ngày \\\\d\\\\d/\\\\d\\\\d/\\\\d\\\\d\\\\d\\\\d \\\\( thứ \\\\d \\\\)', '\\\\d\\\\d , \\\\d\\\\d và \\\\d\\\\d/\\\\d\\\\d', '\\\\d\\\\dh\\\\d\\\\d chiều nay , ngày \\\\d\\\\d/\\\\d\\\\d/\\\\d\\\\d\\\\d\\\\d', 'từ ngày \\\\d\\\\d - \\\\d\\\\d/\\\\d\\\\d/\\\\d\\\\d\\\\d\\\\d', 'từ ngày \\\\d\\\\d tháng \\\\d\\\\d .* \\\\d\\\\d\\\\d\\\\d và kết thúc ngày \\\\d\\\\d tháng \\\\d\\\\d .* \\\\d\\\\d\\\\d\\\\d', '\\\\dh thứ .* \\\\d\\\\d/\\\\d\\\\d/\\\\d\\\\d\\\\d\\\\d', '\\\\dg\\\\d\\\\d ngày mai , \\\\d\\\\d/\\\\d\\\\d/\\\\d\\\\d\\\\d\\\\d \\\\( chủ nhật \\\\)', 'ngày \\\\d\\\\d và \\\\d\\\\d tháng \\\\d\\\\d .* \\\\d\\\\d\\\\d\\\\d', '\\\\d\\\\d/\\\\d\\\\d\\\\d\\\\d \\\\d\\\\d/\\\\d\\\\d\\\\d\\\\d', 'chiều chủ nhật \\\\d\\\\d/\\\\d\\\\d/\\\\d\\\\d\\\\d\\\\d', '\\\\d\\\\dh \\\\d\\\\dh ngày \\\\d\\\\d.\\\\d\\\\d.\\\\d\\\\d\\\\d\\\\d', '\\\\d\\\\dh thứ \\\\d \\\\d/\\\\d/\\\\d\\\\d\\\\d\\\\d', 'thứ \\\\d và thứ \\\\d vào lúc \\\\d\\\\dg\\\\d\\\\d các ngày \\\\d , \\\\d , \\\\d , \\\\d\\\\d tháng \\\\d\\\\d .* \\\\d\\\\d\\\\d\\\\d', '\\\\d\\\\dg\\\\d\\\\d ngày \\\\d\\\\d/\\\\d/\\\\d\\\\d\\\\d\\\\d', '\\\\d\\\\dg\\\\d\\\\d \\\\d\\\\dg\\\\d\\\\d , chủ nhật , ngày \\\\d\\\\d/\\\\d\\\\d/\\\\d\\\\d\\\\d\\\\d', 'từ \\\\dh \\\\d\\\\dh ngày chủ nhật \\\\d/\\\\d\\\\d/\\\\d\\\\d\\\\d\\\\d', 'từ ngày \\\\d\\\\d/\\\\d\\\\d/\\\\d\\\\d\\\\d\\\\d đến hết ngày \\\\d\\\\d/\\\\d\\\\d/\\\\d\\\\d\\\\d\\\\d', '\\\\dh\\\\d\\\\d ngày \\\\d\\\\d/\\\\d\\\\d', '\\\\dh\\\\d\\\\d ngày \\\\d\\\\d/\\\\d\\\\d/\\\\d\\\\d\\\\d\\\\d \\\\( chủ nhật \\\\)', 'trước \\\\d\\\\dh\\\\d\\\\dp', 'chiều mai \\\\d\\\\dh \\\\( thứ \\\\d ngày \\\\d\\\\d/\\\\d \\\\)', '\\\\d\\\\d \\\\d\\\\d/\\\\d/\\\\d\\\\d\\\\d\\\\d', '\\\\d\\\\dh\\\\d\\\\d , ngày \\\\d\\\\d/\\\\d\\\\d/\\\\d\\\\d\\\\d\\\\d đến \\\\d\\\\dh\\\\d\\\\d , ngày \\\\d\\\\d/\\\\d\\\\d/\\\\d\\\\d\\\\d\\\\d', 'ngày mai , \\\\d\\\\d/\\\\d', 'thứ .* \\\\d\\\\d/\\\\d', '\\\\d\\\\dh\\\\d\\\\d \\\\d\\\\dh ngày \\\\d/\\\\d/\\\\d\\\\d\\\\d\\\\d \\\\( thứ .* \\\\)', 'các buổi chiều tối , thứ \\\\d , cn , hay những buổi rãnh rỗi', '\\\\d\\\\dh thứ \\\\d ngày \\\\d tháng \\\\d .* \\\\d\\\\d\\\\d\\\\d', ' \\\\dh - \\\\d\\\\dh và \\\\d\\\\dh - \\\\d\\\\dh \\\\( trừ chủ nhật \\\\)', 'lúc \\\\d\\\\dh\\\\d\\\\d ngày \\\\d\\\\d/\\\\d\\\\d', 'ngày \\\\d\\\\d , \\\\d\\\\d , \\\\d\\\\d/\\\\d\\\\d/\\\\d\\\\d\\\\d\\\\d', '\\\\d\\\\dg\\\\d\\\\d \\\\d\\\\dg\\\\d\\\\d buổi sáng', '\\\\dh ngày\\\\d\\\\d/\\\\d\\\\d/\\\\d\\\\d\\\\d\\\\d', 'ngày \\\\d\\\\d , \\\\d\\\\d , \\\\d\\\\d , \\\\d\\\\d tháng \\\\d .* \\\\d\\\\d\\\\d\\\\d', '\\\\d\\\\dh\\\\d\\\\d ngày \\\\d\\\\d.\\\\d.\\\\d\\\\d\\\\d\\\\d', '\\\\d\\\\d - \\\\d\\\\d/\\\\d\\\\d', '\\\\d\\\\dh\\\\d\\\\d \\\\d\\\\dh\\\\d\\\\d , \\\\d/\\\\d\\\\d/\\\\d\\\\d\\\\d\\\\d', '\\\\d\\\\d và \\\\d\\\\d tháng \\\\d', '\\\\dh\\\\d\\\\d sáng chủ nhật , \\\\d\\\\d/\\\\d\\\\d/\\\\d\\\\d\\\\d\\\\d', 'hội trường b\\\\d', 'ngày mai ngày \\\\d/\\\\d/\\\\d\\\\d\\\\d\\\\d', 'sáng thứ \\\\d \\\\( \\\\d\\\\d/\\\\d\\\\d/\\\\d\\\\d\\\\d\\\\d \\\\)', '\\\\dh ngày \\\\d\\\\d/\\\\d/\\\\d\\\\d\\\\d\\\\d', '\\\\dh sáng \\\\d\\\\d/\\\\d\\\\d/\\\\d\\\\d\\\\d\\\\d', 'từ \\\\d\\\\dh\\\\d\\\\d ngày \\\\d\\\\d/\\\\d\\\\d/\\\\d\\\\d\\\\d\\\\d đến \\\\d\\\\dh\\\\d\\\\d ngày \\\\d\\\\d/\\\\d\\\\d/\\\\d\\\\d\\\\d\\\\d', 'ngày thứ \\\\d', '\\\\d\\\\dg\\\\d\\\\d ngày \\\\d\\\\d tháng \\\\d .* \\\\d\\\\d\\\\d\\\\d \\\\( chủ nhật \\\\)', 'vào lúc \\\\d\\\\dh\\\\d\\\\d ngày \\\\d\\\\d/\\\\d \\\\( thứ \\\\d tuần sau \\\\)', 'sáng \\\\d\\\\d - \\\\d\\\\d', '\\\\dh\\\\d\\\\d , thứ \\\\d ngày \\\\d\\\\d tháng \\\\d .* \\\\d\\\\d\\\\d\\\\d', 'chiều thứ \\\\d', '\\\\( \\\\d/\\\\d\\\\d/\\\\d\\\\d\\\\d\\\\d \\\\)', 'trước \\\\d\\\\d/\\\\d\\\\d/\\\\d\\\\d\\\\d\\\\d', 'trong tháng \\\\d', 'từ ngày \\\\d\\\\d đến ngày \\\\d\\\\d tháng \\\\d\\\\d', 'thứ .* ngày \\\\d\\\\d tháng \\\\d\\\\d .* \\\\d\\\\d\\\\d\\\\d', 'sáng thứ \\\\d tuần này', '\\\\d\\\\dh \\\\d\\\\dh', 'buổi sáng : \\\\dh\\\\d\\\\d \\\\d\\\\dh\\\\d\\\\d', 'chìu chủ nhật \\\\dh', '\\\\d/\\\\d\\\\d – \\\\d\\\\d/\\\\d\\\\d/\\\\d\\\\d\\\\d\\\\d', '\\\\d\\\\dh\\\\d\\\\d – \\\\d\\\\dh\\\\d\\\\d ', 'từ ngày \\\\d\\\\d/\\\\d\\\\d/\\\\d\\\\d\\\\d\\\\d dự kiến đến ngày \\\\d\\\\d/\\\\d\\\\d/\\\\d\\\\d\\\\d\\\\d', 'từ \\\\d\\\\dg\\\\d\\\\d , ngày \\\\d\\\\d/\\\\d', '\\\\dh\\\\d\\\\d đến \\\\d\\\\dh\\\\d\\\\d \\\\d\\\\d/\\\\d/\\\\d\\\\d\\\\d\\\\d \\\\( nhằm ngày chủ nhật \\\\)', '\\\\dh\\\\d\\\\d ngày \\\\d\\\\d tháng \\\\d\\\\d .* \\\\d\\\\d\\\\d\\\\d', '\\\\d\\\\d , \\\\d\\\\d/\\\\d/\\\\d\\\\d\\\\d\\\\d', 'chủ nhật , ngày \\\\d\\\\d/\\\\d\\\\d/\\\\d\\\\d\\\\d\\\\d , từ \\\\dh\\\\d\\\\d sáng , dự kiến kết thúc lúc \\\\d\\\\dh\\\\d\\\\d', 'sáng ngày mai \\\\( \\\\d\\\\d/\\\\d\\\\d/\\\\d\\\\d\\\\d\\\\d \\\\) , từ \\\\d\\\\dh\\\\d\\\\d', 'từ \\\\dh\\\\d\\\\d - \\\\d\\\\dh\\\\d\\\\d ngày \\\\d/\\\\d/\\\\d\\\\d\\\\d\\\\d', 'sáng \\\\d\\\\d/\\\\d/\\\\d\\\\d\\\\d\\\\d', 'sáng \\\\dh\\\\d\\\\d \\\\d\\\\dh\\\\d\\\\d', 'chiều ngày \\\\d\\\\d/\\\\d\\\\d', '\\\\( \\\\d/\\\\d\\\\d/\\\\d\\\\d\\\\d\\\\d – \\\\d\\\\d/\\\\d\\\\d/\\\\d\\\\d\\\\d\\\\d \\\\)', '\\\\d\\\\dh\\\\d\\\\d - \\\\d\\\\dh\\\\d\\\\d ngày \\\\d\\\\d/\\\\d\\\\d/\\\\d\\\\d\\\\d\\\\d \\\\( thứ \\\\d \\\\)', '\\\\dg\\\\d\\\\d \\\\dg\\\\d\\\\d', '\\\\d giờ \\\\d\\\\d sáng ngày mai \\\\d\\\\d/\\\\d/\\\\d\\\\d\\\\d\\\\d', '\\\\d\\\\dh ngày \\\\d/\\\\d/\\\\d\\\\d\\\\d\\\\d', '\\\\d\\\\d/\\\\d/\\\\d\\\\d\\\\d\\\\d đến ngày \\\\d\\\\d /\\\\d/\\\\d\\\\d\\\\d\\\\d', 'chiều mai lúc \\\\d\\\\dh\\\\d\\\\d ngày \\\\d\\\\d/\\\\d/\\\\d\\\\d\\\\d\\\\d', 'sau \\\\d\\\\dh ngày \\\\d\\\\d/\\\\d\\\\d/\\\\d\\\\d\\\\d\\\\d', 'sáng thứ .* này ngày \\\\d\\\\d/\\\\d\\\\d/\\\\d\\\\d', 'ngày chủ nhật \\\\d\\\\d/\\\\d\\\\d/\\\\d\\\\d', 'sáng từ \\\\dh\\\\d\\\\d đến \\\\d\\\\dh\\\\d\\\\d', 'sáng ngày \\\\d/\\\\d/\\\\d\\\\d\\\\d\\\\d', '\\\\d\\\\dh tối thứ \\\\d này \\\\( \\\\d\\\\d/\\\\d \\\\)', '\\\\dh\\\\d\\\\d - \\\\d\\\\dh\\\\d\\\\d chủ nhật các ngày \\\\d\\\\d/\\\\d\\\\d/\\\\d\\\\d\\\\d\\\\d , \\\\d\\\\d/\\\\d\\\\d/\\\\d\\\\d\\\\d\\\\d , \\\\d\\\\d/\\\\d\\\\d/\\\\d\\\\d\\\\d\\\\d', '\\\\d\\\\dh ngày \\\\d\\\\d tháng \\\\d .* \\\\d\\\\d\\\\d\\\\d', '\\\\d\\\\d/\\\\d\\\\d/\\\\d\\\\d\\\\d\\\\d đến hết ngày \\\\d\\\\d/\\\\d\\\\d/\\\\d\\\\d\\\\d\\\\d ', '\\\\dh\\\\d\\\\d đến \\\\dh\\\\d\\\\d', '\\\\dh\\\\d\\\\d \\\\dh\\\\d\\\\d , thứ \\\\d ngày \\\\d\\\\d/\\\\d/\\\\d\\\\d\\\\d\\\\d', 'thứ \\\\d , ngày \\\\d\\\\d/\\\\d/\\\\d\\\\d\\\\d\\\\d', 'từ ngày \\\\d\\\\d/\\\\d\\\\d đến hết ngày \\\\d\\\\d/\\\\d\\\\d/\\\\d\\\\d\\\\d\\\\d', '\\\\d giờ ngày \\\\d\\\\d/\\\\d/\\\\d\\\\d\\\\d\\\\d', 'ngày \\\\d/\\\\d/\\\\d\\\\d\\\\d\\\\d', '\\\\d\\\\d.\\\\d\\\\dPM ngày \\\\d\\\\d.\\\\d\\\\d.\\\\d\\\\d\\\\d\\\\d', 'ngày \\\\d/\\\\d/\\\\d\\\\d\\\\d\\\\d và \\\\d\\\\d/\\\\d/\\\\d\\\\d\\\\d\\\\d', 'sáng thứ \\\\d đầu tháng \\\\d\\\\d', 'thứ \\\\d , thứ \\\\d \\\\( \\\\d\\\\d , \\\\d\\\\d/\\\\d \\\\)', 'chủ nhật \\\\d\\\\d/\\\\d\\\\d', '\\\\d\\\\dg\\\\d\\\\d thứ .* \\\\d\\\\d/\\\\d\\\\d/\\\\d\\\\d\\\\d\\\\d \\\\d\\\\dg\\\\d\\\\d thứ .* \\\\d\\\\d/\\\\d\\\\d/\\\\d\\\\d\\\\d\\\\d', 'sáng nay ngày \\\\d\\\\d/\\\\d\\\\d/\\\\d\\\\d\\\\d\\\\d', '\\\\dh\\\\d\\\\d - \\\\d\\\\dh\\\\d\\\\d chủ nhật ngày \\\\d\\\\d/\\\\d\\\\d/\\\\d\\\\d\\\\d\\\\d và \\\\d\\\\d/\\\\d\\\\d/\\\\d\\\\d\\\\d\\\\d', 'vào \\\\d ngày \\\\d\\\\d và \\\\d\\\\d/\\\\d', 'ngày \\\\d\\\\d/\\\\d\\\\d lúc \\\\d\\\\dh\\\\d\\\\d', '.* \\\\d\\\\d\\\\d\\\\d', '\\\\dh sáng ngày \\\\d\\\\d/\\\\d\\\\d', 'ngày \\\\d\\\\d/\\\\d\\\\d/\\\\d\\\\d\\\\d\\\\d \\\\( \\\\d/\\\\d âm lịch \\\\)', 'hết hạn : \\\\d\\\\dh ngày \\\\d/\\\\d\\\\d', 'từ \\\\d\\\\d/\\\\d đến hết ngày \\\\d\\\\d/\\\\d/\\\\d\\\\d\\\\d\\\\d', 'ngày \\\\d\\\\d/\\\\d\\\\d/\\\\d\\\\d\\\\d\\\\d', 'ngày \\\\d/\\\\d\\\\d \\\\d/\\\\d\\\\d', '\\\\dh\\\\d\\\\d \\\\d\\\\dh ngày \\\\d\\\\d/\\\\d\\\\d/\\\\d\\\\d\\\\d\\\\d', 'chủ nhật \\\\d\\\\d/\\\\d/\\\\d\\\\d', 'vào lúc \\\\d\\\\dh\\\\d\\\\d ngày hôm nay \\\\( \\\\d\\\\d/\\\\d\\\\d/\\\\d\\\\d\\\\d\\\\d \\\\)', '\\\\d\\\\d - \\\\d\\\\d tháng \\\\d\\\\d', 'c \\\\dh\\\\d\\\\d - \\\\d\\\\dh\\\\d\\\\d sáng ngày \\\\d\\\\d - \\\\d\\\\d/\\\\d/\\\\d\\\\d', 'từ \\\\d\\\\d \\\\d\\\\d/\\\\d\\\\d/\\\\d\\\\d\\\\d\\\\d', 'từ \\\\dh\\\\d\\\\d đến \\\\d\\\\dh\\\\d\\\\d', 'từ ngày \\\\d\\\\d/\\\\d\\\\d/\\\\d\\\\d\\\\d\\\\d – \\\\d\\\\d/\\\\d\\\\d/\\\\d\\\\d\\\\d\\\\d', 'bãi cỏ cs\\\\d', '\\\\d\\\\dh\\\\d\\\\d - \\\\d\\\\dh ngày \\\\d\\\\d/\\\\d\\\\d', 'chủ nhật , ngày \\\\d\\\\d/\\\\d\\\\d/\\\\d\\\\d\\\\d\\\\d', 'từ ngày \\\\d\\\\d/\\\\d\\\\d/\\\\d\\\\d\\\\d\\\\d đến ngày \\\\d\\\\d/\\\\d\\\\d/\\\\d\\\\d\\\\d\\\\d', '\\\\d\\\\dg\\\\d\\\\d , \\\\d\\\\d/\\\\d\\\\d\\\\d\\\\d\\\\d\\\\d\\\\d', 'từ \\\\d\\\\dh\\\\d\\\\d đến \\\\d\\\\dh\\\\d\\\\d', 'thứ .* , \\\\d\\\\d/\\\\d\\\\d/\\\\d\\\\d\\\\d\\\\d', '\\\\d\\\\dg - \\\\d\\\\dg', 'sáng chủ nhật \\\\d\\\\d/\\\\d\\\\d/\\\\d\\\\d\\\\d\\\\d', 'từ \\\\d\\\\d/\\\\d\\\\d/\\\\d\\\\d\\\\d\\\\d đến \\\\d\\\\d/\\\\d\\\\d/\\\\d\\\\d\\\\d\\\\d', 'sáng \\\\dh\\\\d\\\\d thứ \\\\d , ngày \\\\d\\\\d/\\\\d\\\\d/\\\\d\\\\d\\\\d\\\\d', '\\\\d\\\\dh\\\\d\\\\d ngày \\\\d\\\\d tháng \\\\d\\\\d .* \\\\d\\\\d\\\\d\\\\d', '\\\\d\\\\d.\\\\d\\\\d và \\\\d\\\\d.\\\\d\\\\d', '\\\\d\\\\dh \\\\d\\\\dh\\\\d\\\\d', 'từ \\\\dh tới \\\\d\\\\dh hằng ngày', 'từ sáng thứ \\\\d , \\\\d\\\\d/\\\\d\\\\d/\\\\d\\\\d\\\\d\\\\d đến trưa chủ nhật , \\\\d\\\\d/\\\\d\\\\d/\\\\d\\\\d\\\\d\\\\d', 'sáng thứ \\\\d \\\\d\\\\d/\\\\d lúc \\\\dh', 'kết thúc vào \\\\dh sáng chủ nhật \\\\( \\\\d\\\\d/\\\\d\\\\d/\\\\d\\\\d\\\\d\\\\d \\\\)', 'tối ngày \\\\d\\\\d/\\\\d/\\\\d\\\\d\\\\d\\\\d', 'giữa tháng \\\\d\\\\d/\\\\d\\\\d\\\\d\\\\d', 'thứ \\\\d , \\\\d\\\\d/\\\\d\\\\d/\\\\d\\\\d', '\\\\d\\\\dh\\\\d\\\\d chủ nhật ngày \\\\d\\\\d/\\\\d\\\\d/\\\\d\\\\d\\\\d\\\\d', '\\\\dh\\\\d\\\\d - \\\\d\\\\dh ngày \\\\d\\\\d/\\\\d/\\\\d\\\\d\\\\d\\\\d', '\\\\d\\\\dh\\\\d\\\\d \\\\d\\\\d/\\\\d\\\\d/\\\\d\\\\d\\\\d\\\\d đến \\\\d\\\\dh\\\\d\\\\d \\\\d\\\\d/\\\\d\\\\d/\\\\d\\\\d\\\\d\\\\d', '\\\\d\\\\dh trưa hôm nay', '\\\\d\\\\dg chủ nhật , ngày \\\\d\\\\d/\\\\d\\\\d/\\\\d\\\\d\\\\d\\\\d', 'sáng chủ nhật , ngày \\\\d\\\\d/\\\\d\\\\d/\\\\d\\\\d\\\\d\\\\d', 'sáng ngày \\\\d\\\\d \\\\d', 'trước \\\\d\\\\dh\\\\d\\\\d ngày \\\\d\\\\d/\\\\d\\\\d/\\\\d\\\\d\\\\d\\\\d', '\\\\d\\\\d/\\\\d\\\\d/\\\\d\\\\d\\\\d\\\\d \\\\( thứ \\\\d \\\\)', '\\\\d\\\\d - \\\\d\\\\d - \\\\d\\\\d\\\\d\\\\d', 'ngày mai \\\\( \\\\d\\\\d/\\\\d\\\\d/\\\\d\\\\d\\\\d\\\\d \\\\)', 'đêm thứ .* \\\\d\\\\d/\\\\d', '\\rngày \\\\d\\\\d/\\\\d\\\\d/\\\\d\\\\d', 'ngày \\\\d\\\\d.\\\\d.\\\\d\\\\d\\\\d\\\\d', '\\\\d\\\\dh chiều hnay', 'vào lúc \\\\d\\\\d giờ \\\\d\\\\d , ngày \\\\d\\\\d/\\\\d/\\\\d\\\\d\\\\d\\\\d', '\\\\d đêm \\\\d\\\\d/\\\\d\\\\d \\\\d\\\\d/\\\\d\\\\d/\\\\d\\\\d\\\\d\\\\d', '\\\\dh\\\\d\\\\d ngày \\\\d\\\\d.\\\\d\\\\d.\\\\d\\\\d\\\\d\\\\d', 'test : \\\\d\\\\dh\\\\d\\\\d đến \\\\d\\\\dh\\\\d\\\\d', '\\\\d\\\\dh\\\\d\\\\d ngày thứ .* , \\\\d\\\\d/\\\\d\\\\d/\\\\d\\\\d\\\\d\\\\d', 'từ ngày \\\\d\\\\d/\\\\d\\\\d tối \\\\d/\\\\d\\\\d', '\\\\d\\\\d\\\\d\\\\d - \\\\d\\\\d\\\\d\\\\d', '\\\\d/\\\\d\\\\d và ngày \\\\d/\\\\d\\\\d', '\\\\d\\\\dh ngày mai \\\\d\\\\d.\\\\d\\\\d.\\\\d\\\\d\\\\d\\\\d', '\\\\d\\\\dg\\\\d\\\\d \\\\d\\\\dg\\\\d\\\\d , ngày \\\\d\\\\d/\\\\d\\\\d/\\\\d\\\\d\\\\d\\\\d', '\\\\d\\\\dh\\\\d\\\\d cùng ngày', 'ca \\\\d', '\\\\d\\\\d : \\\\d\\\\d trưa ngày \\\\d\\\\d/\\\\d\\\\d/\\\\d\\\\d\\\\d\\\\d', '\\\\d\\\\dh\\\\d\\\\d thứ \\\\d ngày \\\\d\\\\d tháng \\\\d và thứ \\\\d ngày \\\\d\\\\d tháng \\\\d', 'từ \\\\dh\\\\d\\\\d đến hết ngày \\\\d\\\\d hoặc \\\\d\\\\d/\\\\d\\\\d', 'vào thứ \\\\d , ngày \\\\d\\\\d/\\\\d\\\\d/\\\\d\\\\d\\\\d\\\\d', '\\\\d\\\\dh\\\\d\\\\d’ ngày \\\\d\\\\d/\\\\d\\\\d/\\\\d\\\\d\\\\d\\\\d', 'chủ nhật \\\\d\\\\d/\\\\d\\\\d/\\\\d\\\\d', 'chủ nhật vừa rồi ngày \\\\d/\\\\d/\\\\d\\\\d\\\\d\\\\d', 'ngày \\\\d\\\\d/\\\\d và \\\\d\\\\d/\\\\d\\\\d', 'chủ nhật này \\\\( ngày \\\\d\\\\d - \\\\d\\\\d - \\\\d\\\\d\\\\d\\\\d \\\\)', 'từ \\\\dh\\\\d\\\\d đến \\\\d\\\\dh\\\\d\\\\d  ', '\\\\d\\\\dh đến \\\\d\\\\dh\\\\d\\\\d ngày \\\\d\\\\d/\\\\d\\\\d/\\\\d\\\\d\\\\d\\\\d', '\\\\d\\\\dh\\\\d\\\\d’ đến \\\\d\\\\dh\\\\d\\\\d', 'sáng bắt đầu từ \\\\dh\\\\d\\\\d', 'hời gian : \\\\dh\\\\d\\\\d thứ .* , ngày \\\\d\\\\d tháng ', '\\\\dh - \\\\d\\\\dh , ngày \\\\d\\\\d/\\\\d\\\\d/\\\\d\\\\d\\\\d\\\\d', 'từ \\\\d/\\\\d/\\\\d\\\\d\\\\d\\\\d đến \\\\d\\\\d/\\\\d/\\\\d\\\\d\\\\d\\\\d', '\\\\dh\\\\d\\\\d \\\\( sáng chủ nhật \\\\) ngày \\\\d\\\\d/\\\\d\\\\d/\\\\d\\\\d\\\\d\\\\d', '\\\\d/\\\\d/\\\\d\\\\d\\\\d\\\\d \\\\d/\\\\d/\\\\d\\\\d\\\\d\\\\d', 'thứ \\\\d hàng tuần', '\\\\dh\\\\d\\\\d \\\\d\\\\dh\\\\d\\\\d ngày \\\\d\\\\d/\\\\d', 'ngày \\\\d\\\\d - \\\\d\\\\d/\\\\d\\\\d/\\\\d\\\\d\\\\d\\\\d', '\\\\d\\\\dh\\\\d\\\\d ngày thứ .* \\\\d\\\\d/\\\\d\\\\d/\\\\d\\\\d\\\\d\\\\d', '\\\\d\\\\dh\\\\d\\\\d ngày \\\\d\\\\d/\\\\d/\\\\d\\\\d\\\\d\\\\d ', '\\\\d\\\\dh\\\\d\\\\d thứ .* , ngày \\\\d\\\\d/\\\\d\\\\d/\\\\d\\\\d\\\\d\\\\d', '\\\\d\\\\dh\\\\d\\\\d , ngày\\\\d\\\\d/\\\\d\\\\d/\\\\d\\\\d\\\\d\\\\d', 'sáng hôm qua ngày \\\\d\\\\d/\\\\d\\\\d', '\\\\d : \\\\d\\\\d - \\\\d\\\\d : \\\\d\\\\d ngày \\\\d\\\\d - \\\\d\\\\d - \\\\d\\\\d/\\\\d\\\\d/\\\\d\\\\d\\\\d\\\\d', 'từ \\\\d\\\\d/\\\\d\\\\d/\\\\d\\\\d\\\\d\\\\d - \\\\d\\\\d/\\\\d\\\\d/\\\\d\\\\d\\\\d\\\\d', '\\\\dh\\\\d\\\\d ngày \\\\d\\\\d/\\\\d/\\\\d\\\\d\\\\d\\\\d \\\\( thứ .* \\\\)', '\\\\d\\\\d phút từ \\\\dh - \\\\dh\\\\d\\\\d ngày \\\\d/\\\\d/\\\\d\\\\d\\\\d\\\\d', '\\\\d\\\\dh\\\\d\\\\d \\\\d\\\\dh\\\\d\\\\d', '\\\\dh\\\\d\\\\d \\\\d\\\\dh\\\\d\\\\d ngày \\\\d\\\\d - \\\\d\\\\d - \\\\d\\\\d\\\\d\\\\d \\\\( chủ nhât \\\\)', 'buổi sáng : \\\\dh\\\\d\\\\d – \\\\d\\\\dh\\\\d\\\\d : \\\\d\\\\d\\\\d , \\\\d\\\\d\\\\d', 'ngày \\\\d\\\\d/\\\\d và \\\\d/\\\\d/\\\\d\\\\d\\\\d\\\\d', '\\\\d\\\\dh\\\\d\\\\d \\\\d\\\\dh\\\\d\\\\d ngày \\\\d\\\\d/\\\\d\\\\d/\\\\d\\\\d\\\\d\\\\d .', '\\\\d tuần nữa', 'kết thúc sáng nay \\\\d\\\\d/\\\\d\\\\d/\\\\d\\\\d\\\\d\\\\d', '\\\\d\\\\d/\\\\d', '\\\\d\\\\d/\\\\d\\\\d/\\\\d\\\\d\\\\d\\\\d  ', '\\\\dh\\\\d\\\\d – \\\\d\\\\dh', '\\\\d tuần \\\\d lần', '\\\\d\\\\dh\\\\d\\\\d chiều thứ \\\\d ngày \\\\d\\\\d/\\\\d/\\\\d\\\\d\\\\d\\\\d', 'từ nay \\\\d\\\\d/\\\\d/\\\\d\\\\d\\\\d\\\\d', 'ngày \\\\d\\\\d/\\\\d\\\\d/\\\\d\\\\d\\\\d\\\\d \\\\( thứ .* \\\\)', '\\\\dg\\\\d\\\\d – \\\\d\\\\dg\\\\d\\\\d thứ .* ngày \\\\d\\\\d/\\\\d/\\\\d\\\\d\\\\d\\\\d', 'từ \\\\d\\\\dh - \\\\d\\\\dh', '\\\\d\\\\dh\\\\d\\\\d , thứ \\\\d và thứ \\\\d hàng tuần', '\\\\d\\\\d/\\\\d đến hết \\\\d\\\\d giờ ngày \\\\d\\\\d/\\\\d/\\\\d\\\\d\\\\d\\\\d', 'từ trưa ngày \\\\d\\\\d/\\\\d\\\\d \\\\d\\\\d/\\\\d\\\\d/\\\\d\\\\d\\\\d\\\\d', '\\\\dh\\\\d\\\\d \\\\d\\\\dh thứ \\\\d \\\\( \\\\d\\\\d/\\\\d\\\\d/\\\\d\\\\d\\\\d\\\\d \\\\)', 'thứ \\\\d \\\\( \\\\d/\\\\d \\\\)', 'mỗi sáng thứ \\\\d', '\\\\dg\\\\d\\\\d \\\\d\\\\dg\\\\d\\\\d', 'từ \\\\d : \\\\d\\\\d ngày \\\\d\\\\d/\\\\d\\\\d/\\\\d\\\\d\\\\d\\\\d đến \\\\d\\\\d : \\\\d\\\\d ngày \\\\d\\\\d/\\\\d\\\\d/\\\\d\\\\d\\\\d\\\\d', '\\\\d\\\\dh ngày \\\\d\\\\d thánh \\\\d\\\\d .* \\\\d\\\\d\\\\d\\\\d', 'ngày thứ .* \\\\d/\\\\d\\\\d', 'ngày mai \\\\d\\\\d/\\\\d', 'tháng \\\\d\\\\d/\\\\d\\\\d\\\\d\\\\d', '\\\\d\\\\d/\\\\d\\\\d \\\\d\\\\d/\\\\d\\\\d', 'từ ngày \\\\d\\\\d - \\\\d\\\\d/\\\\d\\\\d/ \\\\d\\\\d\\\\d\\\\d', 'ngày mai , \\\\d\\\\d tháng \\\\d\\\\d .* \\\\d\\\\d\\\\d\\\\d , lúc \\\\d\\\\dh\\\\d\\\\d', 'đêm \\\\d\\\\d/\\\\d\\\\d', 'sáng mai thứ .* , ngày \\\\d\\\\d/\\\\d\\\\d/\\\\d\\\\d', '\\\\d\\\\dh\\\\d\\\\d phút chủ nhật ngày \\\\d\\\\d/\\\\d\\\\d/\\\\d\\\\d\\\\d\\\\d', '\\\\d\\\\dg\\\\d\\\\d – \\\\d\\\\dg\\\\d\\\\d , ngày \\\\d\\\\d/\\\\d\\\\d/\\\\d\\\\d\\\\d\\\\d', 'ngày thứ \\\\d và thứ \\\\d hàng tuần', '\\\\d\\\\dh\\\\d\\\\d cn', '\\\\d\\\\dg\\\\d\\\\d \\\\d\\\\dg\\\\d\\\\d , thứ .* , \\\\d\\\\d/\\\\d\\\\d/\\\\d\\\\d\\\\d\\\\d', 'từ \\\\dh đến \\\\d\\\\dh', '\\\\d\\\\dh ngày mai \\\\d\\\\d/\\\\d/\\\\d\\\\d\\\\d\\\\d', 'bắt đầu lúc \\\\d\\\\dh\\\\d\\\\d', '\\\\d\\\\dg\\\\d\\\\d \\\\d\\\\dg\\\\d\\\\d ngày \\\\d\\\\d/\\\\d/\\\\d\\\\d\\\\d\\\\d \\\\( thứ .* \\\\)', 'hôm qua \\\\( ngày \\\\d\\\\d/\\\\d\\\\d/\\\\d\\\\d\\\\d\\\\d \\\\)', '\\\\d\\\\dh\\\\d\\\\d - \\\\d\\\\dh\\\\d\\\\d thứ \\\\d ngày \\\\d\\\\d/\\\\d\\\\d/\\\\d\\\\d\\\\d\\\\d', '\\\\d\\\\d : \\\\d\\\\d \\\\d\\\\d : \\\\d\\\\d , thứ .* \\\\( \\\\d\\\\d/\\\\d/\\\\d\\\\d\\\\d\\\\d \\\\)', '\\\\dh\\\\d\\\\d , ngày \\\\d\\\\d/\\\\d\\\\d/\\\\d\\\\d\\\\d\\\\d', 'ngày \\\\d\\\\d/\\\\d\\\\d/\\\\d\\\\d\\\\d\\\\d đến \\\\d\\\\d/\\\\d\\\\d/\\\\d\\\\d\\\\d\\\\d', '\\\\dh\\\\d\\\\d đến \\\\d\\\\dh\\\\d\\\\d ngày \\\\d\\\\d/\\\\d/\\\\d\\\\d\\\\d\\\\d', '\\\\d\\\\dh - \\\\d\\\\dh ngày \\\\d\\\\d tháng \\\\d\\\\d .* \\\\d\\\\d\\\\d\\\\d', 'thư \\\\d tuần tới \\\\( \\\\d - \\\\d \\\\)', '\\\\dh\\\\d\\\\d , chủ nhật ngày \\\\d tháng \\\\d .* \\\\d\\\\d\\\\d\\\\d', '\\\\d\\\\d : \\\\d\\\\d vào các ngày', 'từ \\\\d\\\\d - \\\\d\\\\d/\\\\d', '\\\\d\\\\d tháng \\\\d\\\\d .* \\\\d\\\\d\\\\d\\\\d', '\\\\d\\\\dh\\\\d\\\\d ngày \\\\d/\\\\d/\\\\d\\\\d\\\\d\\\\d đến \\\\d\\\\dh\\\\d\\\\d ngày \\\\d\\\\d/\\\\d/\\\\d\\\\d\\\\d\\\\d', '\\\\d : \\\\d\\\\d – \\\\d\\\\d : \\\\d\\\\d am thứ .* \\\\d\\\\d/\\\\d/\\\\d\\\\d\\\\d\\\\d', '\\\\dh sáng đến \\\\d\\\\dh cùng ngày', ' từ \\\\d\\\\dh – \\\\d\\\\dh\\\\d\\\\d ngày \\\\d\\\\d/\\\\d\\\\d', '\\\\d giờ \\\\d\\\\d , ngày \\\\d\\\\d tháng \\\\d\\\\d .* \\\\d\\\\d\\\\d\\\\d \\\\( chủ nhật \\\\)', 'ngày \\\\d\\\\d/\\\\d/\\\\d\\\\d\\\\d\\\\d \\\\( thứ \\\\d \\\\) vào lúc \\\\d\\\\dh', 'ngày mai \\\\dh\\\\d\\\\d', 'thứ \\\\d và chủ nhật \\\\)', '\\\\dh\\\\d\\\\d đến \\\\d\\\\dh\\\\d\\\\d', 'thứ .* \\\\( \\\\d\\\\d/\\\\d\\\\d/\\\\d\\\\d\\\\d\\\\d \\\\) : từ \\\\d.\\\\d\\\\d sáng đến \\\\d\\\\d : \\\\d\\\\d chiều', 'từ \\\\d\\\\d/\\\\d\\\\d/\\\\d\\\\d\\\\d\\\\d đến \\\\d\\\\d/\\\\d\\\\d/\\\\d\\\\d\\\\d\\\\d \\\\( thứ .* \\\\)', 'vào \\\\d ngày \\\\d\\\\d - \\\\d\\\\d/\\\\d\\\\d/\\\\d\\\\d\\\\d\\\\d', 'thứ \\\\d , chủ nhật này , ngày \\\\d\\\\d , \\\\d\\\\d/\\\\d\\\\d/\\\\d\\\\d', '\\\\dg\\\\d\\\\d \\\\d\\\\dg\\\\d\\\\d sáng thứ \\\\d tuần này', 'mồng \\\\d và mồng \\\\d\\\\d tháng \\\\d', '\\\\d/\\\\d/\\\\d\\\\d\\\\d\\\\d đến \\\\d\\\\dh ngày \\\\d\\\\d/\\\\d/\\\\d\\\\d\\\\d\\\\d', '\\\\d\\\\dh\\\\d\\\\d thứ \\\\d , ngày \\\\d/\\\\d\\\\d/\\\\d\\\\d\\\\d\\\\d', '.*̀ ngày \\\\d\\\\d - \\\\d\\\\d/\\\\d\\\\d/\\\\d\\\\d\\\\d\\\\d', '\\\\dh\\\\d\\\\d ngày \\\\d\\\\d.\\\\d', '\\\\d\\\\dh tối ngày \\\\d\\\\d/\\\\d\\\\d/\\\\d\\\\d\\\\d\\\\d', '\\\\d\\\\dh\\\\d\\\\d chiều mai \\\\( \\\\d/\\\\d/\\\\d\\\\d\\\\d\\\\d \\\\)', '\\\\d : \\\\d\\\\d - \\\\d\\\\d : \\\\d\\\\d ngày \\\\d\\\\d - \\\\d\\\\d/\\\\d\\\\d/\\\\d\\\\d\\\\d\\\\d', 'sáng thứ \\\\d \\\\d\\\\d.\\\\d\\\\d.\\\\d\\\\d\\\\d\\\\d', '\\\\d\\\\dh\\\\d\\\\d ngày \\\\d\\\\d tháng \\\\d \\\\( thứ \\\\d \\\\)', 'ngày \\\\d\\\\d/\\\\d – \\\\d\\\\d/\\\\d/\\\\d\\\\d\\\\d\\\\d', 'ngày \\\\d , \\\\d , \\\\d , \\\\d\\\\d tháng \\\\d', '\\\\dh\\\\d\\\\d sáng thứ \\\\d', '\\\\dh ngày \\\\d/\\\\d \\\\( thu \\\\d \\\\) tại bãi cỏ cs\\\\d', '\\\\dh\\\\d\\\\d thứ \\\\d – ngày \\\\d\\\\d/\\\\d\\\\d/\\\\d\\\\d\\\\d\\\\d', '\\\\d\\\\dh \\\\d\\\\dp thứ .* ngày \\\\d/\\\\d', 'ngày \\\\d - \\\\d\\\\d - \\\\d\\\\d\\\\d\\\\d ', 'bắt đầu từ \\\\d\\\\dh\\\\d\\\\d ngày \\\\d\\\\d.\\\\d\\\\d.\\\\d\\\\d\\\\d\\\\d \\\\( chủ nhật \\\\)', '\\\\dh\\\\d\\\\dp', '\\\\dh , chủ nhật , ngày \\\\d tháng \\\\d .* \\\\d\\\\d\\\\d\\\\d', '\\\\d\\\\d – \\\\d\\\\d\\\\d ngày \\\\d\\\\d/\\\\d/\\\\d\\\\d\\\\d\\\\d', ' : chủ nhật ngày \\\\d\\\\d tháng \\\\d\\\\d .* \\\\d', '\\\\d\\\\dh\\\\d\\\\d , ngày \\\\d\\\\d/\\\\d\\\\d/\\\\d\\\\d\\\\d\\\\d \\\\( hôm nay \\\\)', 'sáng ngày mai \\\\d\\\\d/\\\\d\\\\d/\\\\d\\\\d\\\\d\\\\d', ' \\\\d\\\\dg\\\\d\\\\d đến \\\\d\\\\dg\\\\d\\\\d ngày \\\\d\\\\d/\\\\d/\\\\d\\\\d\\\\d\\\\d \\\\( thứ \\\\d \\\\)', '\\\\d\\\\dg\\\\d\\\\d’ – \\\\d\\\\dg\\\\d\\\\d’ , ngày \\\\d\\\\d/\\\\d\\\\d/\\\\d\\\\d\\\\d\\\\d \\\\( thứ \\\\d \\\\)', 'thứ \\\\d \\\\d\\\\d/\\\\d\\\\d', 'từ \\\\d\\\\dg\\\\d\\\\d – \\\\d\\\\dg\\\\d\\\\d', '\\\\d\\\\dh\\\\d\\\\d vào ngày \\\\d\\\\d/\\\\d và \\\\d\\\\d/\\\\d', 'ngày \\\\d\\\\d tháng \\\\d .* \\\\d\\\\d\\\\d\\\\d lúc \\\\d\\\\dh\\\\d\\\\d', '\\\\d\\\\dh , ngày \\\\d\\\\d/\\\\d/\\\\d\\\\d\\\\d\\\\d \\\\( thứ .* \\\\)', 'sáng ngày \\\\d\\\\d - \\\\d\\\\d - \\\\d\\\\d\\\\d\\\\d', '\\\\d\\\\dh\\\\d\\\\d \\\\d\\\\dh\\\\d\\\\d ngày \\\\d\\\\d/\\\\d\\\\d/\\\\d\\\\d\\\\d\\\\d', '\\\\d\\\\d , \\\\d\\\\d/\\\\d\\\\d', 'ngày mai \\\\d\\\\d/\\\\d/\\\\d\\\\d\\\\d\\\\d', '\\\\dh\\\\d\\\\d chủ nhật ngày \\\\d\\\\d/\\\\d\\\\d/\\\\d\\\\d\\\\d\\\\d', 'thứ .* \\\\d/\\\\d\\\\d/\\\\d\\\\d\\\\d\\\\d', 't\\\\d và cn tuần này', '\\\\dh\\\\d\\\\d ngày \\\\d\\\\d/\\\\d\\\\d đến \\\\d\\\\d/\\\\d\\\\d', 'chiều \\\\d\\\\d/\\\\d', 'ngày mai \\\\( \\\\d\\\\d/\\\\d/\\\\d\\\\d\\\\d\\\\d \\\\) lúc \\\\dh\\\\d\\\\d', '\\\\dh\\\\d\\\\d sáng ngày chủ nhật \\\\d.\\\\d.\\\\d\\\\d\\\\d\\\\d', '\\\\d \\\\d/\\\\d', 'ngày \\\\d\\\\d/\\\\d\\\\d đến \\\\d\\\\d/\\\\d\\\\d .* \\\\d\\\\d\\\\d\\\\d', 'ngày mai chủ nhật \\\\d\\\\d/\\\\d\\\\d/\\\\d\\\\d\\\\d\\\\d vào lúc \\\\d\\\\dh\\\\d\\\\d', '\\\\d\\\\dh \\\\d\\\\dg\\\\d\\\\d', 'từ \\\\d\\\\dh\\\\d\\\\d ngày \\\\d/\\\\d \\\\d\\\\dh\\\\d\\\\d ngày \\\\d/\\\\d/\\\\d\\\\d\\\\d\\\\d', 'từ ngày \\\\d\\\\d/\\\\d\\\\d đến \\\\d\\\\d/ \\\\d\\\\d/ \\\\d\\\\d\\\\d\\\\d \\\\( vào các ngày thứ \\\\d , chủ nhật hàng tuần \\\\)', 'cuối tháng \\\\d/\\\\d\\\\d\\\\d\\\\d', '\\\\dh\\\\d\\\\d - \\\\d\\\\dh\\\\d\\\\d , sáng thứ tư , ngày \\\\d\\\\d/\\\\d\\\\d/\\\\d\\\\d\\\\d\\\\d', 'ngày \\\\d\\\\d , \\\\d\\\\d , \\\\d\\\\d , \\\\d\\\\d/\\\\d/\\\\d\\\\d\\\\d\\\\d', 'chiều ngày \\\\d/\\\\d\\\\d/\\\\d\\\\d\\\\d\\\\d', '\\\\d\\\\dg', '\\\\d\\\\dh\\\\d\\\\d ngày \\\\d\\\\d/\\\\d\\\\d \\\\d\\\\dh\\\\d\\\\d ngày \\\\d\\\\d/\\\\d\\\\d', '\\\\d\\\\dg\\\\d\\\\d , ngày \\\\d\\\\d/\\\\d', '\\\\dh\\\\d\\\\d – \\\\dg\\\\d\\\\d', '\\\\d\\\\d/\\\\d\\\\d/\\\\d\\\\d\\\\d\\\\d \\\\( thứ .* \\\\)', 'sáng : từ \\\\dh\\\\d\\\\d đến \\\\d\\\\dh\\\\d\\\\d', '\\\\dgiờ sáng', 'từ \\\\d\\\\dg\\\\d\\\\d ngày \\\\d\\\\d/\\\\d/\\\\d\\\\d\\\\d\\\\d đến hết \\\\d\\\\dg\\\\d\\\\d ngày \\\\d\\\\d/\\\\d/\\\\d\\\\d\\\\d\\\\d', 'trong \\\\d ngày \\\\d đêm \\\\d\\\\d \\\\d\\\\d tháng \\\\d', '\\\\dh\\\\d\\\\d \\\\d\\\\dh , ngày \\\\d.\\\\d\\\\d.\\\\d\\\\d\\\\d\\\\d\\r ', '\\\\d\\\\dh \\\\d\\\\dh , ngày \\\\d\\\\d/\\\\d\\\\d/\\\\d\\\\d\\\\d\\\\d', 'chiều từ \\\\d\\\\dh\\\\d\\\\d đến \\\\d\\\\dh ngày \\\\d\\\\d/\\\\d\\\\d/\\\\d\\\\d\\\\d\\\\d', 'ngày \\\\d\\\\d/\\\\d/\\\\d\\\\d\\\\d\\\\d ', '\\\\d , \\\\d , \\\\d/\\\\d/\\\\d\\\\d\\\\d\\\\d', '\\\\dh\\\\d\\\\d đến \\\\d\\\\dh ngày \\\\d\\\\d/\\\\d\\\\d \\\\( sáng thứ \\\\d \\\\)', 'ngày \\\\d\\\\d/\\\\d\\\\d \\\\( chủ nhật \\\\)', '\\\\dh ngày \\\\d\\\\d/\\\\d\\\\d', 'tối \\\\d\\\\d/\\\\d\\\\d/\\\\d\\\\d\\\\d\\\\d', '.*̀ \\\\d\\\\d/\\\\d\\\\d/\\\\d\\\\d\\\\d\\\\d \\\\d\\\\d/\\\\d\\\\d/\\\\d\\\\d\\\\d\\\\d', '\\\\d\\\\dh ngày \\\\d\\\\d/\\\\d\\\\d/\\\\d\\\\d\\\\d\\\\d ', 'buổi sáng : từ \\\\dh\\\\d\\\\d \\\\d\\\\dhbuổi chiều : từ \\\\d\\\\dh\\\\d\\\\d - \\\\d\\\\dh\\\\d\\\\d', 'từ ngày \\\\d \\\\d\\\\d/\\\\d/\\\\d\\\\d\\\\d\\\\d', '\\\\dg\\\\d\\\\d \\\\d\\\\dg\\\\d\\\\d , thứ .* , \\\\d\\\\d/\\\\d\\\\d/\\\\d\\\\d\\\\d\\\\d', 'thứ \\\\d ngày \\\\d tháng \\\\d\\\\d .* \\\\d\\\\d\\\\d\\\\d', 'mỗi thứ \\\\d và thứ \\\\d hàng tuần', '\\\\d \\\\d\\\\dh ngày \\\\d\\\\d/\\\\d\\\\d/\\\\d\\\\d\\\\d\\\\d', '\\\\( \\\\d\\\\d/\\\\d \\\\)', '\\\\dh\\\\d\\\\d ngày \\\\d\\\\d.\\\\d \\\\d\\\\dh\\\\d\\\\d ngày \\\\d\\\\d.\\\\d.\\\\d\\\\d\\\\d\\\\d', '\\\\d\\\\d/\\\\d\\\\d/\\\\d\\\\d\\\\d\\\\d – \\\\d\\\\d/\\\\d\\\\d/\\\\d\\\\d\\\\d\\\\d', 'khoảng \\\\dg sáng', '\\\\d\\\\dh\\\\d\\\\d , ngày \\\\d\\\\d/\\\\d\\\\d/\\\\d\\\\d\\\\d\\\\d \\\\( thứ .* \\\\)', '\\\\d\\\\dh chủ nhật ngày \\\\d/\\\\d', '\\\\d - \\\\dpm', 'bắt đầu lúc \\\\dh\\\\d\\\\d \\\\d\\\\dh\\\\d\\\\d ngày \\\\d\\\\d/\\\\d\\\\d/\\\\d\\\\d\\\\d\\\\d cho đến hết ngày \\\\d\\\\d/\\\\d\\\\d/\\\\d\\\\d\\\\d\\\\d', '\\\\d\\\\dh thứ .* , ngày \\\\d\\\\d - \\\\d\\\\d', '\\\\d\\\\d/\\\\d/\\\\d\\\\d\\\\d\\\\d –\\\\d\\\\d/\\\\d/\\\\d\\\\d\\\\d\\\\d', '\\\\d\\\\dh\\\\d\\\\d ngày \\\\d\\\\d.\\\\d \\\\( ngày mai \\\\)', '\\\\d\\\\dh\\\\d\\\\d & \\\\d\\\\dh\\\\d\\\\d ngày \\\\d\\\\d/\\\\d\\\\d/\\\\d\\\\d \\\\( thứ \\\\d \\\\)', '\\\\d tháng \\\\( tháng \\\\d , \\\\d , \\\\d , \\\\d \\\\)', '\\\\dh\\\\d\\\\dp ngày \\\\d\\\\d.\\\\d\\\\d \\\\( thứ .* \\\\)', '\\\\d\\\\dh thứ \\\\d , \\\\d\\\\d/\\\\d/\\\\d\\\\d\\\\d\\\\d', '\\\\d\\\\dg\\\\d\\\\d thứ .* , ngày \\\\d\\\\d/\\\\d\\\\d/\\\\d\\\\d\\\\d\\\\d', 'chủ nhật \\\\d/\\\\d', ' tháng \\\\d\\\\d tới', '\\\\d\\\\dg\\\\d\\\\d \\\\d\\\\dg\\\\d\\\\d', '\\\\d\\\\dh\\\\d\\\\d ngày \\\\d tháng \\\\d .* \\\\d\\\\d\\\\d\\\\d', 'từ \\\\d\\\\dh\\\\d\\\\d đến \\\\d\\\\dh\\\\d\\\\d ngày \\\\d\\\\d , \\\\d\\\\d , \\\\d\\\\d/\\\\d\\\\d/\\\\d\\\\d\\\\d\\\\d', 'thứ \\\\d \\\\( \\\\d\\\\d/\\\\d\\\\d/\\\\d\\\\d\\\\d\\\\d', '\\\\d\\\\d : \\\\d\\\\d ngày \\\\d/\\\\d/\\\\d\\\\d\\\\d\\\\d ', 'ngày \\\\d\\\\d.\\\\d âm lịch hằng .*', '\\\\d\\\\dh\\\\d\\\\d ngày \\\\d\\\\d/\\\\d\\\\d/\\\\d\\\\d\\\\d\\\\d \\\\( thứ \\\\d \\\\)', '\\\\d\\\\dh\\\\d\\\\d ngày \\\\d\\\\d.\\\\d \\\\( tức thứ \\\\d \\\\)', 'ngày thứ \\\\d \\\\d\\\\d/\\\\d/\\\\d\\\\d\\\\d\\\\d từ \\\\d\\\\dh\\\\d\\\\d đến \\\\d\\\\dh', '\\\\d\\\\d\\\\d \\\\d\\\\d : \\\\d\\\\d ngày \\\\d\\\\d/\\\\d\\\\d/\\\\d\\\\d\\\\d\\\\d', 'từ \\\\d\\\\d/\\\\d\\\\d đến \\\\d\\\\dh\\\\d\\\\d’ ngày \\\\d/\\\\d\\\\d', '\\\\dh\\\\d\\\\d sáng nay , ngày \\\\d\\\\d tháng \\\\d .* \\\\d\\\\d\\\\d\\\\d', ' thứ \\\\d , ngày \\\\d', 'từ \\\\dh\\\\d\\\\d – \\\\d\\\\dh\\\\d\\\\d ngày \\\\d\\\\d/\\\\d\\\\d/\\\\d\\\\d\\\\d\\\\d', '\\\\d\\\\d/\\\\d/\\\\d\\\\d\\\\d\\\\d ', '\\\\dh \\\\d\\\\d ngày \\\\d\\\\d/\\\\d\\\\d/\\\\d\\\\d\\\\d\\\\d', 'lúc \\\\dh', '\\\\d\\\\dh trưa , \\\\d/\\\\d/\\\\d\\\\d\\\\d\\\\d đến \\\\d\\\\dh , \\\\d/\\\\d/\\\\d\\\\d\\\\d\\\\d', 'thời gian dự thi : \\\\d\\\\dh\\\\d\\\\d , ngày \\\\d\\\\d/\\\\d\\\\d/\\\\d\\\\d\\\\d\\\\d đến \\\\d\\\\dh\\\\d\\\\d , ngày \\\\d\\\\d/\\\\d\\\\d/\\\\d\\\\d\\\\d\\\\d', '\\\\dh\\\\d\\\\d ngày \\\\d\\\\d/\\\\d\\\\d/\\\\d\\\\d\\\\d\\\\d \\\\( sáng thứ \\\\d \\\\)', '\\\\d\\\\d , \\\\d\\\\d , \\\\d\\\\d hàng tháng', '\\\\d\\\\dh ngày \\\\d\\\\d tháng \\\\d\\\\d .* \\\\d\\\\d\\\\d\\\\d', '\\\\d\\\\dh ngày \\\\d\\\\d/\\\\d\\\\d/\\\\d\\\\d\\\\d\\\\d', 'thứ \\\\d lúc \\\\d\\\\dh\\\\d\\\\d ngày \\\\d\\\\d tháng \\\\d\\\\d .* \\\\d\\\\d\\\\d\\\\d', '\\\\d\\\\d/\\\\d\\\\d/\\\\d\\\\d\\\\d\\\\d đến hết ngày \\\\d\\\\d/\\\\d\\\\d/\\\\d\\\\d\\\\d\\\\d', 'từ ngày \\\\d\\\\d/\\\\d\\\\d \\\\d\\\\d/\\\\d\\\\d', 'ngày mai \\\\d\\\\d/\\\\d\\\\d/\\\\d\\\\d\\\\d\\\\d', '\\\\d\\\\dh\\\\d\\\\d thứ \\\\d', '\\\\dh\\\\d\\\\d \\\\d\\\\dh\\\\d\\\\d thứ \\\\d ngày \\\\d\\\\d/\\\\d\\\\d', '\\\\d\\\\d \\\\d\\\\d/\\\\d \\\\( \\\\d\\\\dh\\\\d\\\\d \\\\d\\\\dh\\\\d\\\\d hàng ngày \\\\)', '\\\\d\\\\dh\\\\d\\\\d ngày \\\\d\\\\d/\\\\d/\\\\d\\\\d\\\\d\\\\d đến \\\\d\\\\dh\\\\d\\\\d ngày \\\\d\\\\d/\\\\d/\\\\d\\\\d\\\\d\\\\d', '\\\\d\\\\dh\\\\d\\\\d \\\\d\\\\dh\\\\d\\\\d tối ngày \\\\d\\\\d/\\\\d\\\\d ', 'từ ngày \\\\d\\\\d/\\\\d\\\\d/\\\\d\\\\d\\\\d\\\\d đến ngày \\\\d\\\\d/\\\\d\\\\d/\\\\d\\\\d\\\\d\\\\d ', '\\\\d\\\\dh\\\\d\\\\d \\\\d\\\\dh\\\\d\\\\d , thứ \\\\d , ngày \\\\d\\\\d/\\\\d\\\\d/\\\\d\\\\d\\\\d\\\\d', '\\\\dh sáng , ngày \\\\d\\\\d/\\\\d\\\\d/\\\\d\\\\d\\\\d\\\\d', 'hôm qua ngày \\\\d\\\\d/\\\\d\\\\d/\\\\d\\\\d\\\\d\\\\d', 'vào lúc \\\\d\\\\dh\\\\d\\\\d , ngày \\\\d/\\\\d ', '\\\\dh\\\\d\\\\d , thứ .* , ngày \\\\d\\\\d.\\\\d.\\\\d\\\\d\\\\d\\\\d', 'trước \\\\d\\\\dh\\\\d\\\\d thứ \\\\d ngày \\\\d\\\\d/\\\\d/\\\\d\\\\d\\\\d\\\\d', 'thứ \\\\d ngày \\\\d\\\\d/\\\\d\\\\d lúc \\\\d\\\\dh\\\\d\\\\d', '\\\\d\\\\d : \\\\d\\\\d ngày \\\\d\\\\d tháng \\\\d\\\\d .* \\\\d\\\\d\\\\d\\\\d \\\\( hôm nay \\\\)', 'từ ngày \\\\d\\\\d – \\\\d\\\\d/\\\\d/\\\\d\\\\d\\\\d\\\\d', '\\\\d\\\\dh\\\\d\\\\d ngày \\\\d\\\\d/\\\\d\\\\d/\\\\d\\\\d\\\\d\\\\d', 'từ \\\\dg thứ .* - ngày \\\\d\\\\d/\\\\d\\\\d/\\\\d\\\\d\\\\d\\\\d đến \\\\d\\\\dg thứ .* - ngày \\\\d\\\\d/\\\\d\\\\d/\\\\d\\\\d\\\\d\\\\d', '\\\\dh a.m ngày \\\\d\\\\d - \\\\d\\\\d', '\\\\dh\\\\d\\\\d \\\\d\\\\dh\\\\d\\\\d', 'chiều chủ nhật ngày \\\\d\\\\d/\\\\d\\\\d/\\\\d\\\\d\\\\d\\\\d', '\\\\dh\\\\d\\\\d \\\\d\\\\dh', 'ngày mai lúc \\\\dh', '\\\\d giờ sáng', 'lúc \\\\d\\\\dh ngày \\\\d\\\\d/\\\\d', '\\\\dh\\\\d\\\\d sáng chủ nhật ngày \\\\d\\\\d/\\\\d/\\\\d\\\\d\\\\d\\\\d', '\\\\d\\\\dh\\\\d\\\\d \\\\d\\\\dh\\\\d\\\\d thứ \\\\d', '\\\\d\\\\d/\\\\d\\\\d\\\\d\\\\d', '\\\\d\\\\d - \\\\d', '\\\\dg\\\\d\\\\d – \\\\d\\\\dg\\\\d\\\\d , ngày \\\\d\\\\d tháng \\\\d .* \\\\d\\\\d\\\\d\\\\d', '\\\\dh\\\\d\\\\d tối ngày thứ \\\\d tuần này tới sáng chủ nhật', 'cn \\\\d/\\\\d\\\\d', '\\\\d\\\\dh - \\\\d\\\\dh \\\\d\\\\d/\\\\d\\\\d/\\\\d\\\\d\\\\d\\\\d', '\\\\d\\\\dg \\\\d\\\\dg', '\\\\dh\\\\d\\\\d ngày \\\\d\\\\d/\\\\d/\\\\d\\\\d\\\\d\\\\d', '\\\\d\\\\dg\\\\d\\\\d \\\\d\\\\dg\\\\d\\\\d buổi chiều', '\\\\dh\\\\d\\\\d \\\\d\\\\dh\\\\d\\\\d ngày \\\\d\\\\d/\\\\d\\\\d/\\\\d\\\\d\\\\d\\\\d', 'ca \\\\d , \\\\d , \\\\d', '\\\\d\\\\dg\\\\d\\\\d , chủ nhật , ngày \\\\d\\\\d tháng \\\\d\\\\d .* \\\\d\\\\d\\\\d\\\\d', '\\\\d\\\\d \\\\d\\\\d : \\\\d\\\\d \\\\( \\\\d/\\\\d/\\\\d\\\\d\\\\d\\\\d \\\\)  ️', '\\\\dh\\\\d\\\\d sáng thứ \\\\d \\\\d\\\\d/\\\\d', '\\\\d\\\\d : \\\\d\\\\dam \\\\d\\\\d : \\\\d\\\\d pm , \\\\d\\\\d.\\\\d\\\\d.\\\\d\\\\d\\\\d\\\\d', '\\\\d\\\\d/\\\\d \\\\( thứ \\\\d \\\\)', '\\\\d\\\\dh\\\\d\\\\d \\\\d\\\\dh\\\\d\\\\d ngày thứ .* \\\\d\\\\d/\\\\d\\\\d/\\\\d\\\\d\\\\d\\\\d ', 'từ sáng ngày \\\\d\\\\d/\\\\d\\\\d đến ngày \\\\d\\\\d/\\\\d\\\\d', '\\\\dh\\\\d\\\\d thứ \\\\d ngày \\\\d/\\\\d', 'ngày chủ nhật \\\\d/\\\\d/\\\\d\\\\d\\\\d\\\\d', '\\\\d\\\\d/\\\\d\\\\d – \\\\d\\\\d/\\\\d\\\\d/\\\\d\\\\d\\\\d\\\\d', 'trong .* tối \\\\d\\\\d và \\\\d\\\\d/\\\\d\\\\d', 'từ \\\\d\\\\dh\\\\d\\\\d – \\\\d\\\\dh\\\\d\\\\d các ngày \\\\d\\\\d/\\\\d , \\\\d - \\\\d - \\\\d - \\\\d/\\\\d', '\\\\dh\\\\d\\\\d', '\\\\d\\\\d : \\\\d\\\\d \\\\d\\\\d : \\\\d\\\\d', '\\\\dh sáng cn', 'lúc \\\\d\\\\dh\\\\d\\\\d sáng ngày mai \\\\( \\\\d\\\\d/\\\\d\\\\d/\\\\d\\\\d\\\\d\\\\d \\\\)', 'buổi chiều : \\\\d\\\\dh\\\\d\\\\d – \\\\dh\\\\d\\\\d : \\\\d\\\\d\\\\d , \\\\d\\\\d\\\\d', 'từ \\\\d\\\\dh\\\\d\\\\d ngày \\\\d/\\\\d/\\\\d\\\\d\\\\d\\\\d đến \\\\d\\\\dh\\\\d\\\\d ngày \\\\d\\\\d/\\\\d/\\\\d\\\\d\\\\d\\\\d', 'tháng \\\\d \\\\( \\\\d\\\\d/\\\\d \\\\)', '\\\\dh\\\\d\\\\d - \\\\d\\\\dh\\\\d\\\\d thứ .* ngày \\\\d\\\\d/\\\\d\\\\d/\\\\d\\\\d\\\\d\\\\d và \\\\d\\\\d/\\\\d\\\\d/\\\\d\\\\d\\\\d\\\\d', '\\\\d\\\\d/\\\\d\\\\d \\\\d/\\\\d\\\\d', 'ngày \\\\d - \\\\d/\\\\d/\\\\d\\\\d\\\\d\\\\d', '\\\\d\\\\dh bắt đầu', '\\\\d\\\\dh thứ \\\\d , ngày \\\\d\\\\d/\\\\d/\\\\d\\\\d\\\\d\\\\d', 'thứ \\\\d , ngày \\\\d\\\\d/\\\\d/\\\\d\\\\d', 'ngày mai \\\\( \\\\d/\\\\d/\\\\d\\\\d\\\\d\\\\d \\\\)', 'ngày mai \\\\( thứ \\\\d \\\\) từ ngày \\\\d\\\\d/\\\\d\\\\d/\\\\d\\\\d\\\\d\\\\d đến ngày \\\\d\\\\d/\\\\d\\\\d/\\\\d\\\\d\\\\d\\\\d', 'sáng nay \\\\d\\\\d/\\\\d/\\\\d\\\\d\\\\d\\\\d', '\\\\d\\\\dh\\\\d\\\\d chủ nhật ngày \\\\d\\\\d/\\\\d/\\\\d\\\\d\\\\d\\\\d', 'trưa thứ .* \\\\d\\\\d - \\\\d\\\\d - \\\\d\\\\d\\\\d\\\\d vào lúc \\\\d\\\\d\\\\d', '\\\\dh\\\\d\\\\d \\\\d\\\\dh\\\\d\\\\d , \\\\d\\\\dh\\\\d\\\\d \\\\d\\\\dh\\\\d\\\\d , \\\\d\\\\d - \\\\d\\\\d/\\\\d\\\\d/\\\\d\\\\d\\\\d\\\\d', 'sáng nay \\\\( \\\\d\\\\d/\\\\d\\\\d/\\\\d\\\\d\\\\d\\\\d \\\\)', '\\\\d\\\\dh\\\\d\\\\d ngày \\\\d\\\\d/\\\\d và \\\\d\\\\dh\\\\d\\\\d ngày \\\\d\\\\d/\\\\d', 'ngày \\\\d\\\\d', '\\\\d\\\\d , \\\\d\\\\d , \\\\d\\\\d tháng \\\\d\\\\d', 'từ \\\\d\\\\d – \\\\d\\\\d/\\\\d\\\\d/\\\\d\\\\d\\\\d\\\\d', '\\\\d\\\\dh thứ \\\\d ngày \\\\d\\\\d/\\\\d\\\\d/\\\\d\\\\d\\\\d\\\\d', 'từ \\\\dh ngày \\\\d\\\\d/\\\\d/\\\\d\\\\d\\\\d\\\\d đến \\\\d\\\\dh\\\\d\\\\d ngày \\\\d\\\\d/\\\\d/\\\\d\\\\d\\\\d\\\\d', 'thứ \\\\d , \\\\d , \\\\d', '\\\\d\\\\dh ngày \\\\d\\\\d/\\\\d\\\\d/\\\\d\\\\d\\\\d\\\\d \\\\d\\\\d/\\\\d\\\\d/\\\\d\\\\d\\\\d\\\\d', '\\\\dh\\\\d\\\\d chủ nhật , ngày \\\\d\\\\d/\\\\d\\\\d/\\\\d\\\\d\\\\d\\\\d', 'ngày mai \\\\( \\\\d/\\\\d \\\\) và ngày mốt \\\\( \\\\d/\\\\d \\\\)', '\\\\d\\\\d : \\\\d\\\\d – \\\\d\\\\d\\\\d ngày \\\\d\\\\d/\\\\d\\\\d/\\\\d\\\\d\\\\d\\\\d', 'thứ \\\\d tuần này \\\\d\\\\d/\\\\d', 'lúc \\\\d\\\\dg\\\\d\\\\d chiều nay ngày \\\\d\\\\d/\\\\d\\\\d/\\\\d\\\\d\\\\d\\\\d', 'chiều ngày \\\\d\\\\d/\\\\d/\\\\d\\\\d\\\\d\\\\d', '\\\\d\\\\d : \\\\d\\\\d am – \\\\d\\\\d : \\\\d\\\\d am ', 'ngày chủ nhật \\\\d\\\\d/\\\\d\\\\d/\\\\d\\\\d\\\\d\\\\d', '\\\\dh , chủ nhật ngày \\\\d\\\\d tháng \\\\d\\\\d .* \\\\d\\\\d\\\\d\\\\d', 'ngày mai thứ \\\\d ngày \\\\d\\\\d tháng \\\\d\\\\d', '\\\\d\\\\dh\\\\d\\\\d - \\\\d\\\\dh\\\\d\\\\d ngày \\\\d\\\\d/\\\\d\\\\d/\\\\d\\\\d\\\\d\\\\d', '\\\\dg\\\\d\\\\d sáng', 'ngày \\\\d\\\\d - \\\\d\\\\d - \\\\d\\\\d hàng tháng', 'ngày \\\\d\\\\d.\\\\d\\\\d.\\\\d\\\\d\\\\d\\\\d', '\\\\dh \\\\dh\\\\d\\\\d', '\\\\dh sáng chủ nhật này , \\\\d\\\\d/\\\\d\\\\d/\\\\d\\\\d\\\\d\\\\d', 'thứ \\\\d tuần đầu tiên của mỗi tháng', 'ngày mai lúc \\\\d\\\\dh\\\\d\\\\d', 'ngày mai , chủ nhật \\\\d\\\\d/\\\\d\\\\d/\\\\d\\\\d\\\\d\\\\d đúng \\\\dh\\\\d\\\\dp', '\\\\dh\\\\d\\\\d \\\\d\\\\dh\\\\d\\\\d ngày \\\\d\\\\d/\\\\d\\\\d/\\\\d\\\\d\\\\d\\\\d \\\\( chủ nhật \\\\)', 'sáng ngày \\\\d\\\\d/\\\\d/\\\\d\\\\d\\\\d\\\\d', '\\\\d\\\\d - \\\\d\\\\d/\\\\d/\\\\d\\\\d\\\\d\\\\d', 'ngày mai \\\\d\\\\d/\\\\d\\\\d/\\\\d\\\\d\\\\d\\\\d - \\\\d\\\\dh\\\\d\\\\d', 'ngày \\\\d\\\\d , \\\\d\\\\d/\\\\d/\\\\d\\\\d\\\\d\\\\d', 'ngày thứ \\\\d \\\\( \\\\d\\\\d.\\\\d\\\\d.\\\\d\\\\d\\\\d\\\\d \\\\) ', 'ngày mai : \\\\d/\\\\d\\\\d/\\\\d\\\\d\\\\d\\\\d', 't\\\\d', '\\\\d\\\\dh\\\\d\\\\d chiều nay', 'bắt đầu từ ngày \\\\d\\\\d/\\\\d\\\\d/\\\\d\\\\d\\\\d\\\\d', 'thứ \\\\d ngày \\\\d\\\\d/\\\\d\\\\d/\\\\d\\\\d\\\\d\\\\d \\\\( ca sáng : \\\\dh\\\\d\\\\d đến \\\\d\\\\dh . \\\\)', '\\\\d\\\\dh\\\\d\\\\d chủ nhật \\\\d\\\\d/\\\\d\\\\d/\\\\d\\\\d\\\\d\\\\d', '\\\\d\\\\dh chiều thứ .* \\\\( ngày \\\\d/\\\\d\\\\d/\\\\d\\\\d\\\\d\\\\d \\\\)', '\\\\dh\\\\d\\\\d sáng mai', '\\\\d : \\\\d\\\\d', 'thứ \\\\d , \\\\d\\\\d/\\\\d\\\\d/\\\\d\\\\d\\\\d\\\\d  ', '\\\\d giờ chiều nay , ngày \\\\d\\\\d tháng \\\\d', 'sáng ngày \\\\d\\\\d/\\\\d/\\\\d\\\\d\\\\d\\\\d \\\\( thứ .* \\\\)', 'chiều thứ \\\\d ngày \\\\d\\\\d.\\\\d\\\\d.\\\\d\\\\d\\\\d\\\\d', 'sáng : từ \\\\dh\\\\d\\\\d đến \\\\d\\\\dhchiều : từ \\\\d\\\\dh\\\\d\\\\d đến \\\\d\\\\dh\\\\d\\\\d', '\\\\dh\\\\d\\\\d – \\\\d\\\\dh , ngày \\\\d\\\\d tháng \\\\d\\\\d .* \\\\d\\\\d\\\\d\\\\d \\\\( chủ nhật \\\\)', 'giờ hành chính , từ ngày \\\\d/\\\\d\\\\d \\\\d/\\\\d\\\\d', 'ngày \\\\d\\\\d \\\\d\\\\d/\\\\d\\\\d/\\\\d\\\\d\\\\d\\\\d', 'trưa thứ \\\\d', 'thứ \\\\d \\\\( \\\\d\\\\d/\\\\d\\\\d/\\\\d\\\\d\\\\d\\\\d \\\\) lúc \\\\d\\\\dh', '\\\\dh\\\\d\\\\d ngày \\\\d\\\\d/\\\\d \\\\( thứ \\\\d \\\\)', 'từ \\\\d\\\\d/\\\\d\\\\d/\\\\d\\\\d\\\\d\\\\d đến hết ngày \\\\d/\\\\d\\\\d/\\\\d\\\\d\\\\d\\\\d', 'thứ \\\\d tuần này , ngày \\\\d\\\\d/\\\\d\\\\d/\\\\d\\\\d\\\\d\\\\d', '\\\\d\\\\dh\\\\d\\\\d ngày \\\\d/\\\\d\\\\d/\\\\d\\\\d\\\\d\\\\d', '\\\\d\\\\d/\\\\d\\\\d/\\\\d\\\\d\\\\d\\\\d đến ngày \\\\d\\\\d/\\\\d\\\\d/\\\\d\\\\d\\\\d\\\\d', 'trước \\\\dh\\\\d\\\\d', 'từ \\\\dh\\\\d\\\\d’ đến \\\\dh\\\\d\\\\d , ngày \\\\d\\\\d tháng \\\\d\\\\d .* \\\\d\\\\d\\\\d\\\\d \\\\( chủ nhật \\\\)', '\\\\dh đến \\\\d\\\\dh', '\\\\dh\\\\d\\\\dtạ', 'ngày \\\\d \\\\( \\\\d\\\\d/\\\\d\\\\d/\\\\d\\\\d\\\\d\\\\d \\\\)', 'ngày \\\\d\\\\d \\\\d\\\\d tháng \\\\d\\\\d .* \\\\d\\\\d\\\\d\\\\d', 'trễ nhất là \\\\d\\\\dg', 'từ ngày \\\\d - \\\\d\\\\d/\\\\d\\\\d/\\\\d\\\\d\\\\d\\\\d', 'sáng thứ .* \\\\d\\\\d/\\\\d', '\\\\d\\\\d - \\\\d\\\\d/\\\\d', '\\\\d\\\\dh ngày \\\\d/\\\\d \\\\( chủ nhật \\\\)', 'ngày \\\\d\\\\d/\\\\d', 'từ \\\\dg\\\\d\\\\d ngày \\\\d\\\\d/\\\\d\\\\d/\\\\d\\\\d\\\\d\\\\d', '\\\\d : \\\\d\\\\d \\\\d\\\\d : \\\\d\\\\d , thứ \\\\d ngày \\\\d\\\\d/\\\\d/\\\\d\\\\d\\\\d\\\\d', 'tối thứ \\\\d \\\\( \\\\d/\\\\d\\\\d \\\\)', 'chủ nhật tuần này \\\\( \\\\d\\\\d/\\\\d\\\\d/\\\\d\\\\d\\\\d\\\\d \\\\)', ' gian : \\\\dh chiều thứ \\\\d ngày ', 'chiều mai , \\\\d\\\\d/\\\\d\\\\d', '\\\\d\\\\d , \\\\d\\\\d/\\\\d\\\\d/\\\\d\\\\d\\\\d\\\\d', 'tối chủ nhật ngày \\\\d\\\\d/\\\\d\\\\d', 'sáng ngày \\\\d/\\\\d\\\\d', '\\\\dh\\\\d\\\\d pm , chiều nay', 'tối \\\\d\\\\d/\\\\d', '\\\\d ngày cuối tuần', '\\\\dg - \\\\d\\\\dg\\\\d\\\\d \\\\d\\\\d.\\\\d\\\\d.\\\\d\\\\d\\\\d\\\\d', 'chiều thứ \\\\d tuần này ngày \\\\d\\\\d/\\\\d\\\\d/\\\\d\\\\d\\\\d\\\\d lúc \\\\d\\\\dh\\\\d\\\\d', 'ngày \\\\d/\\\\d , vào lúc \\\\d\\\\dh\\\\d\\\\d', 'n từ \\\\d\\\\d/\\\\d\\\\d/\\\\d\\\\d\\\\d\\\\d đến \\\\d\\\\d/\\\\d\\\\d/\\\\d\\\\d', '\\\\d\\\\d/\\\\d\\\\d/\\\\d\\\\d\\\\d\\\\d \\\\( \\\\d/\\\\d âm lịch \\\\)', '\\\\d\\\\dh', 'sáng sớm \\\\d\\\\d/\\\\d : \\\\dg', 'thứ .* , chủ nhật này , ngày \\\\d\\\\d , \\\\d\\\\d/\\\\d/\\\\d\\\\d\\\\d\\\\d', '\\\\dh\\\\d\\\\d – \\\\d\\\\dh , chủ nhật , \\\\d/\\\\d/\\\\d\\\\d\\\\d\\\\d', 'chiều cùng ngày \\\\d\\\\d/\\\\d\\\\d/\\\\d\\\\d\\\\d\\\\d vào lúc \\\\d\\\\dh\\\\d\\\\d', 'sáng : \\\\dh - \\\\dh', '\\\\d\\\\dh - \\\\d\\\\dh ngày \\\\d\\\\d/\\\\d\\\\d/\\\\d\\\\d\\\\d\\\\d', 'ngày \\\\d\\\\d , \\\\d\\\\d và \\\\d\\\\d/\\\\d\\\\d/\\\\d\\\\d\\\\d\\\\d', '  ngày \\\\d\\\\d/\\\\d\\\\d/\\\\d\\\\d\\\\d\\\\d', 'ngày \\\\d\\\\d , \\\\d\\\\d và \\\\d\\\\d tháng \\\\d .* \\\\d\\\\d\\\\d\\\\d', 'thứ \\\\d hằng tuần', 'trước \\\\d giờ', '\\\\d\\\\d/\\\\d\\\\d/\\\\d\\\\d\\\\d\\\\d \\\\( \\\\d\\\\dh\\\\d\\\\d – \\\\d\\\\dh\\\\d\\\\d \\\\)', 'từ \\\\d\\\\dg\\\\d\\\\d đến \\\\d\\\\dg\\\\d\\\\d , ngày \\\\d\\\\d/\\\\d/\\\\d\\\\d\\\\d\\\\d', 'ngày \\\\d - \\\\d', 'ngày \\\\d\\\\d/\\\\d\\\\d/\\\\d\\\\d\\\\d\\\\d \\\\( \\\\d\\\\d/\\\\d âm lịch \\\\)', 'từ \\\\d\\\\dh\\\\d\\\\d đến \\\\d\\\\dh thứ \\\\d và thứ \\\\d trong tuần', '\\\\d\\\\d/\\\\d\\\\d/\\\\d\\\\d\\\\d\\\\d \\\\d\\\\d/\\\\d/\\\\d\\\\d\\\\d\\\\d', '\\\\dh\\\\d\\\\d \\\\dh\\\\d\\\\d mỗi chiều', 'sáng nay \\\\d\\\\d/\\\\d\\\\d/\\\\d\\\\d\\\\d\\\\d', 'ngày \\\\d\\\\d , \\\\d\\\\d , \\\\d\\\\d/\\\\d/\\\\d\\\\d\\\\d\\\\d', '\\\\dh\\\\d\\\\d \\\\d\\\\dh\\\\d\\\\d ngày \\\\d\\\\d / \\\\d\\\\d /\\\\d\\\\d\\\\d\\\\d', '\\\\dh\\\\d\\\\d \\\\d\\\\dh\\\\d\\\\d , ngày \\\\d\\\\d/\\\\d\\\\d/\\\\d\\\\d\\\\d\\\\d', '\\\\dg\\\\d\\\\d \\\\d\\\\dg\\\\d\\\\d ngày \\\\d\\\\d/\\\\d/\\\\d\\\\d\\\\d\\\\d \\\\( thứ \\\\d \\\\)', 'thứ .* , ngày \\\\d\\\\d/\\\\d/\\\\d\\\\d', '\\\\d\\\\d : \\\\d\\\\d – \\\\d\\\\d : \\\\d\\\\d', 'chủ nhật , \\\\d\\\\dh\\\\d\\\\d ngày \\\\d\\\\d/\\\\d\\\\d/\\\\d\\\\d\\\\d\\\\d', 'từ ngày \\\\d\\\\d – \\\\d\\\\d/\\\\d\\\\d/\\\\d\\\\d\\\\d\\\\dsáng : \\\\dh\\\\d\\\\d \\\\d\\\\dh\\\\d\\\\dchiều : \\\\d\\\\dh\\\\d\\\\d - \\\\d\\\\dh\\\\d\\\\d', '\\\\d\\\\d giờ \\\\d\\\\d , ngày \\\\d\\\\d/\\\\d\\\\d/\\\\d\\\\d\\\\d\\\\d \\\\( chủ nhật \\\\)', '\\\\d\\\\dh\\\\d\\\\d chiều nay', 'từ ngày \\\\d/\\\\d \\\\d/\\\\d', '\\\\( \\\\d/\\\\d/\\\\d\\\\d\\\\d\\\\d \\\\)', '\\\\dh\\\\d\\\\d - \\\\d\\\\dh\\\\d\\\\d sáng thứ \\\\d ngày \\\\d\\\\d/\\\\d\\\\d/\\\\d\\\\d\\\\d\\\\d', '\\\\d\\\\dh - \\\\d\\\\dh ngày \\\\d\\\\d/\\\\d/\\\\d\\\\d\\\\d\\\\d', '\\\\dh\\\\d\\\\d , ngày \\\\d\\\\d/\\\\d/ \\\\d\\\\d\\\\d\\\\d', 'từ ngày \\\\d\\\\d/\\\\d\\\\d/\\\\d\\\\d\\\\d\\\\d đến ngày \\\\d\\\\d/\\\\d\\\\d/\\\\d\\\\d\\\\d\\\\d .  ', '\\\\dh\\\\d\\\\d thứ \\\\d ngày \\\\d\\\\d/\\\\d\\\\d/\\\\d\\\\d\\\\d\\\\d', '\\\\d\\\\d \\\\d\\\\d : \\\\d\\\\d , chủ nhật , \\\\d\\\\d/\\\\d\\\\d/\\\\d\\\\d\\\\d\\\\d', '\\\\d\\\\d\\\\d ngày \\\\d\\\\d/\\\\d\\\\d/\\\\d\\\\d\\\\d\\\\d', '\\\\d\\\\dh\\\\d\\\\d ngày \\\\d/\\\\d\\\\d \\\\( thứ \\\\d \\\\)', 'tháng \\\\d', 'ngày \\\\d\\\\d/\\\\d\\\\d/\\\\d\\\\d', 'chủ nhật lúc \\\\d\\\\dh\\\\d\\\\d', '\\\\d/\\\\d và \\\\d/\\\\d/\\\\d\\\\d\\\\d\\\\d', '\\\\d\\\\dg ', '\\\\dh - \\\\d\\\\dh\\\\d\\\\d , thứ \\\\d ngày \\\\d\\\\d/\\\\d\\\\d/\\\\d\\\\d\\\\d\\\\d', 'ngày \\\\d\\\\d - \\\\d\\\\d/\\\\d/\\\\d\\\\d\\\\d\\\\d', '\\\\d\\\\d - \\\\d\\\\d/\\\\d\\\\d/\\\\d\\\\d\\\\d\\\\d', 'từ nay đến hết ngày \\\\d\\\\d/\\\\d\\\\d/\\\\d\\\\d\\\\d\\\\d', '\\\\d\\\\dg\\\\d\\\\d , ngày \\\\d\\\\d/\\\\d/\\\\d\\\\d\\\\d\\\\d', '\\\\dh\\\\d\\\\d´ thứ .* \\\\( ngày \\\\d\\\\d/\\\\d\\\\d/\\\\d\\\\d\\\\d\\\\d \\\\)', 'ngày \\\\d tháng \\\\d\\\\d .* \\\\d\\\\d\\\\d\\\\d', 'sáng ngày \\\\d/\\\\d\\\\d/\\\\d\\\\d\\\\d\\\\d', 'sáng \\\\d/\\\\d', 'g\\\\d\\\\d\\\\d', '\\\\dh sáng mai', 'từ \\\\dh\\\\d\\\\d ngày \\\\d/\\\\d/\\\\d\\\\d\\\\d\\\\d', 'ngày \\\\d\\\\d/\\\\d\\\\d/\\\\d\\\\d\\\\d\\\\d đến ngày \\\\d\\\\d/\\\\d\\\\d/\\\\d\\\\d\\\\d\\\\d', 'ngày cn \\\\d\\\\d/\\\\d\\\\d/\\\\d\\\\d\\\\d\\\\d', 'thứ \\\\d và thứ \\\\d vào lúc \\\\d\\\\dg\\\\d\\\\d các ngày \\\\d , \\\\d\\\\d tháng \\\\d\\\\d .* \\\\d\\\\d\\\\d\\\\d', 'sáng nay , cn , \\\\d\\\\d/\\\\d/\\\\d\\\\d\\\\d\\\\d', '\\\\d ngày thứ .* và thứ .*', 'lúc \\\\d\\\\dh\\\\d\\\\d', '\\\\d\\\\d ngày', '\\\\dh\\\\d\\\\d \\\\d\\\\dh\\\\d\\\\d ngày \\\\d\\\\d/\\\\d/\\\\d\\\\d\\\\d\\\\d \\\\( thứ \\\\d \\\\)', 'thứ \\\\d tuần này', 'thứ \\\\d , ngày \\\\d\\\\d/\\\\d\\\\d/\\\\d\\\\d\\\\d\\\\d', 'từ \\\\d\\\\dh\\\\d\\\\d đến \\\\d\\\\dh', 'ngày \\\\d/\\\\d', 'từ \\\\d\\\\dh\\\\d\\\\d thứ \\\\d ngày \\\\d\\\\d/\\\\d/\\\\d\\\\d\\\\d\\\\d', 'nhằm ngày \\\\d\\\\d đến ngày \\\\d\\\\d tháng chạp âm lịch , .* bính thân', '\\\\d\\\\dh\\\\d\\\\d – \\\\d\\\\dh\\\\d\\\\d', '\\\\d\\\\d : \\\\d\\\\d \\\\d\\\\d : \\\\d\\\\d , \\\\d\\\\d.\\\\d\\\\d.\\\\d\\\\d\\\\d\\\\d', '\\\\dh\\\\d\\\\d - \\\\d\\\\dh ngày \\\\d\\\\d/\\\\d\\\\d/\\\\d\\\\d\\\\d\\\\d', 'từ \\\\d\\\\dg\\\\d\\\\d đến \\\\d\\\\dg\\\\d\\\\d ngày \\\\d\\\\d/\\\\d/\\\\d\\\\d\\\\d\\\\d', 'sáng chủ nhật \\\\( \\\\d\\\\d/\\\\d\\\\d/\\\\d\\\\d\\\\d\\\\d \\\\)', 'chủ nhật ngày \\\\d/\\\\d\\\\d/\\\\d\\\\d\\\\d\\\\d', 'ngày \\\\d\\\\d tháng \\\\d .* \\\\d\\\\d\\\\d\\\\d', ' sáng : từ \\\\dg\\\\d\\\\d đến \\\\d\\\\dg\\\\d\\\\d', '\\\\dh sáng thứ \\\\d', '\\\\d\\\\dh đến \\\\d\\\\dh\\\\d\\\\d các ngày \\\\d\\\\d , \\\\d\\\\d.\\\\d\\\\d , \\\\d\\\\d/\\\\d\\\\d/\\\\d\\\\d\\\\d\\\\d', '\\\\dh tối , thứ \\\\d , ngày \\\\d\\\\d/\\\\d\\\\d/\\\\d\\\\d\\\\d\\\\d', '\\\\dh – \\\\dh', 'từ \\\\d\\\\d/\\\\d\\\\d/\\\\d\\\\d\\\\d\\\\d hết ngày \\\\d\\\\d/\\\\d\\\\d/\\\\d\\\\d\\\\d\\\\d . ', '\\\\d\\\\d , \\\\d\\\\d/\\\\d', '\\\\d - \\\\d', 'chủ nhật tuần này \\\\( ngày \\\\d\\\\d - \\\\d\\\\d - \\\\d\\\\d\\\\d\\\\d \\\\)', '\\\\dg\\\\d\\\\d \\\\d\\\\dg\\\\d\\\\d thứ \\\\d ngày \\\\d/\\\\d\\\\d/\\\\d\\\\d\\\\d\\\\d', 'từ sáng đến chiều ngày chủ nhật , \\\\d\\\\d/\\\\d\\\\d/\\\\d\\\\d\\\\d\\\\d ', ' buổi sáng : \\\\dh\\\\d\\\\d đến \\\\d\\\\dh\\\\d\\\\d buổi chiều : \\\\d\\\\dh\\\\d\\\\d đến \\\\d\\\\dh', '\\\\d\\\\dh\\\\d\\\\d đến \\\\d\\\\dh\\\\d\\\\d', '\\\\dh sáng', '\\\\dh\\\\d\\\\d sáng thứ \\\\d \\\\( ngày \\\\d\\\\d - \\\\d\\\\d \\\\)', 'sau \\\\d\\\\dh\\\\d\\\\d', 'trưa thứ \\\\d , \\\\d\\\\d/\\\\d\\\\d', '\\\\d\\\\dh\\\\d\\\\d \\\\d\\\\dh', 'từ ngày \\\\d\\\\d/\\\\d/\\\\d\\\\d\\\\d\\\\d đến ngày \\\\d\\\\d/\\\\d/\\\\d\\\\d\\\\d\\\\d', '\\\\dg\\\\d\\\\d – \\\\d\\\\dg\\\\d\\\\d ngày \\\\d\\\\d/\\\\d\\\\d/\\\\d\\\\d\\\\d\\\\d \\\\( chủ nhật ', 'ngày mốt , \\\\d\\\\d/\\\\d\\\\d/\\\\d\\\\d\\\\d\\\\d', '\\\\d days left', '\\\\dh\\\\d\\\\d \\\\( \\\\d\\\\d/\\\\d\\\\d/\\\\d\\\\d\\\\d\\\\d \\\\)', '\\\\d\\\\d/\\\\d\\\\d \\\\d\\\\d/\\\\d\\\\d/\\\\d\\\\d\\\\d\\\\d', 'từ ngày hôm nay \\\\( \\\\d\\\\d/\\\\d\\\\d/\\\\d\\\\d \\\\)', '\\\\dh - \\\\d\\\\dh các ngày \\\\d\\\\d , \\\\d\\\\d , \\\\d\\\\d/\\\\d\\\\d/\\\\d\\\\d\\\\d\\\\d', '\\\\dh thứ \\\\d ngày \\\\d\\\\d/\\\\d\\\\d/\\\\d\\\\d\\\\d\\\\d', '\\\\dh\\\\d\\\\d thứ \\\\d ngày \\\\d\\\\d/\\\\d', 'từ ngày \\\\d\\\\d/\\\\d\\\\d//\\\\d\\\\d\\\\d\\\\d đến ngày \\\\d\\\\d/\\\\d\\\\d/\\\\d\\\\d\\\\d\\\\d', '\\\\d\\\\dh , thứ \\\\d , ngày \\\\d\\\\d/\\\\d\\\\d/\\\\d\\\\d\\\\d\\\\d', '\\\\d\\\\dh\\\\d\\\\d ngày \\\\d/\\\\d/\\\\d\\\\d\\\\d\\\\d', '\\\\dh\\\\d\\\\d đến \\\\d\\\\dh\\\\d\\\\d chủ nhật ngày \\\\d/\\\\d/\\\\d\\\\d\\\\d\\\\d', '\\\\d\\\\dh\\\\d\\\\d \\\\d\\\\dh\\\\d\\\\d , ngày \\\\d\\\\d/\\\\d\\\\d/\\\\d\\\\d\\\\d\\\\d', '\\\\d\\\\dg\\\\d\\\\d ngày \\\\d\\\\d/\\\\d/\\\\d\\\\d\\\\d\\\\d \\\\( thứ .* \\\\)', '\\\\d\\\\dg\\\\d\\\\d - \\\\d\\\\dg\\\\d\\\\d , thứ .* , ngày \\\\d\\\\d/\\\\d\\\\d/\\\\d\\\\d\\\\d\\\\d', '\\\\dh\\\\d\\\\d \\\\d\\\\dh\\\\d\\\\d ngày \\\\d\\\\d/\\\\d\\\\d/\\\\d\\\\d\\\\d\\\\d \\\\( thứ \\\\d \\\\)', 'từ \\\\d\\\\dh\\\\d\\\\d đến \\\\d\\\\dh\\\\d\\\\d ngày \\\\d\\\\d/\\\\d\\\\d/\\\\d\\\\d\\\\d\\\\d \\\\( chủ nhật \\\\)', 'từ ngày \\\\d\\\\d đến \\\\d\\\\d tháng \\\\d', 'ngày \\\\d\\\\d - \\\\d\\\\d/\\\\d\\\\d', '\\\\dh\\\\d\\\\d - \\\\d\\\\dh\\\\d\\\\d thứ \\\\d ngày \\\\d\\\\d/\\\\d\\\\d/\\\\d\\\\d\\\\d\\\\d', 'chủ nhật tuần này , ngày \\\\d\\\\d/\\\\d\\\\d/\\\\d\\\\d\\\\d\\\\d', 'sáng \\\\( \\\\dh - \\\\d\\\\dh \\\\)', 'buổi sáng chủ nhật \\\\( \\\\d\\\\d/\\\\d \\\\)', 'hôm nay vào lúc \\\\d\\\\dh - \\\\d\\\\dh', 'chiều ngày \\\\d\\\\d.\\\\d\\\\d.\\\\d\\\\d\\\\d\\\\d đến rạng sáng \\\\d.\\\\d.\\\\d\\\\d\\\\d\\\\d', '.* học \\\\d\\\\d\\\\d\\\\d \\\\d\\\\d\\\\d\\\\d', 'từ \\\\d\\\\dg\\\\d\\\\d đến \\\\d\\\\dg\\\\d\\\\d , ngày \\\\d\\\\d/\\\\d/\\\\d\\\\d\\\\d\\\\d \\\\( chủ nhật \\\\)', 'trước \\\\d\\\\dh', '\\\\d\\\\d\\\\d', 'buổi sáng : từ \\\\dh \\\\d\\\\dh', '\\\\d\\\\dh\\\\d\\\\d - \\\\d\\\\dh\\\\d\\\\d , thứ .* , \\\\d\\\\d/\\\\d\\\\d/\\\\d\\\\d\\\\d\\\\d', 'từ \\\\dg\\\\d\\\\d – \\\\d\\\\dg\\\\d\\\\d', 'từ nay đến \\\\d\\\\dh\\\\d\\\\d ngày \\\\d\\\\d/\\\\d\\\\d/\\\\d\\\\d\\\\d\\\\d', '\\\\d\\\\dh\\\\d\\\\d đến \\\\d\\\\dh\\\\d\\\\d ', 'hôm nay ngày \\\\d\\\\d/\\\\d\\\\d', 'thứ .* , .* , .* , .* , .* \\\\( \\\\d\\\\d - \\\\d\\\\d/\\\\d\\\\d/\\\\d\\\\d\\\\d\\\\d \\\\) : từ \\\\d\\\\d.\\\\d\\\\d chiều \\\\d\\\\d.\\\\d\\\\d tối', 'buổi chiều : \\\\d\\\\dh \\\\d\\\\dh', '\\\\d\\\\d tháng \\\\d .* \\\\d\\\\d\\\\d\\\\d', '\\\\dh\\\\d\\\\d \\\\d\\\\dh , ngày \\\\d\\\\d/\\\\d\\\\d/\\\\d\\\\d\\\\d\\\\d', 'từ \\\\dh\\\\d\\\\d ngày \\\\d\\\\d/\\\\d\\\\d/\\\\d\\\\d\\\\d\\\\d', 'ngày thứ \\\\d \\\\( \\\\d/\\\\d\\\\d \\\\)', '\\\\d\\\\dh\\\\d\\\\d ngày chủ nhật \\\\d\\\\d/\\\\d\\\\d/\\\\d\\\\d\\\\d\\\\d', '\\\\dh\\\\d\\\\dph thứ \\\\d ngày \\\\d\\\\d/\\\\d\\\\d/\\\\d\\\\d\\\\d\\\\d', '\\\\( \\\\d\\\\d/\\\\d\\\\d/\\\\d\\\\d\\\\d\\\\d \\\\)', 'chiều thứ \\\\d tuần sau , lúc \\\\d\\\\dh\\\\d\\\\d', '\\\\d\\\\dg thứ .* ngày \\\\d\\\\d/\\\\d\\\\d/\\\\d\\\\d', '\\\\d/\\\\d', '\\\\d/\\\\d/\\\\d\\\\d\\\\d\\\\d', 'từ ngày \\\\d/\\\\d\\\\d/\\\\d\\\\d\\\\d\\\\d đến hết ngày \\\\d\\\\d/\\\\d\\\\d/\\\\d\\\\d\\\\d\\\\d', '\\\\d\\\\dh ngày \\\\d\\\\d/\\\\d \\\\( thứ .* \\\\)', 'bắt đầu từ \\\\d\\\\dh hoặc \\\\d\\\\dh\\\\d\\\\d', 'ngày \\\\d/\\\\d/\\\\d\\\\d\\\\d\\\\d – \\\\d/\\\\d/\\\\d\\\\d\\\\d\\\\d', '\\\\d\\\\dg\\\\d\\\\d , ngày \\\\d/\\\\d/\\\\d\\\\d\\\\d\\\\d', '\\\\d\\\\d/\\\\d\\\\d/\\\\d\\\\d\\\\d\\\\d', 'sáng thứ \\\\d tuần này \\\\( \\\\d\\\\d/\\\\d \\\\)', '\\\\d - \\\\d - \\\\d/\\\\d\\\\d/\\\\d\\\\d\\\\d\\\\d', '\\\\dh\\\\d\\\\d - \\\\d\\\\dh\\\\d\\\\d ngày \\\\d\\\\d/\\\\d\\\\d/\\\\d\\\\d\\\\d\\\\d', '\\\\d\\\\dg\\\\d\\\\d , ngày \\\\d\\\\d tháng \\\\d\\\\d .* \\\\d\\\\d\\\\d\\\\d ', '\\\\d - \\\\d/\\\\d\\\\d/\\\\d\\\\d\\\\d\\\\d', '\\\\d\\\\dh ngày \\\\d\\\\d/\\\\d/\\\\d\\\\d\\\\d\\\\d', 'hạn chót nộp đề xuất là \\\\d\\\\dh\\\\d\\\\d’ ngày \\\\d\\\\d/\\\\d\\\\d/\\\\d\\\\d\\\\d\\\\d', '\\\\d\\\\dh\\\\d\\\\d \\\\d\\\\dh\\\\d\\\\d , thứ \\\\d ngày \\\\d/\\\\d\\\\d/\\\\d\\\\d\\\\d\\\\d', '\\\\dh đến \\\\d\\\\dh trưa ngày \\\\d\\\\d/\\\\d\\\\d/\\\\d\\\\d\\\\d\\\\d', 'ngày \\\\d/\\\\d\\\\d', 'thứ .* \\\\( \\\\d\\\\d/\\\\d\\\\d/\\\\d\\\\d\\\\d\\\\d \\\\) lúc \\\\d\\\\dh\\\\d\\\\d', '\\\\d : \\\\d\\\\d đến \\\\d\\\\d : \\\\d\\\\d', '\\\\d\\\\dh ngày \\\\d\\\\d/\\\\d\\\\d/\\\\d\\\\d\\\\d\\\\d \\\\( chủ nhật \\\\)', 'chiều thứ \\\\d hằng tuần', 'chiều \\\\d\\\\dh\\\\d\\\\d', 'từ \\\\d/\\\\d\\\\d \\\\d/\\\\d\\\\d', 'tết âm lịch kỷ hợi \\\\d\\\\d\\\\d\\\\d', 'từ \\\\d\\\\dh\\\\d\\\\d các ngày từ thứ .* \\\\( \\\\d\\\\d/\\\\d\\\\d/\\\\d\\\\d\\\\d\\\\d \\\\) thứ .* \\\\( \\\\d\\\\d/\\\\d\\\\d/\\\\d\\\\d\\\\d\\\\d \\\\)', 'chiều \\\\d\\\\d - \\\\d', '\\\\d\\\\dg đêm qua', '\\\\dg\\\\d\\\\d đến \\\\d\\\\dg\\\\d\\\\d ngày \\\\d\\\\d/\\\\d/\\\\d\\\\d\\\\d\\\\d \\\\( thứ \\\\d \\\\)', 'chủ nhật \\\\( \\\\d\\\\d/\\\\d\\\\d/\\\\d\\\\d\\\\d\\\\d \\\\) \\\\dh\\\\d\\\\d', '\\\\dh sáng chủ nhật ngày \\\\d\\\\d/\\\\d\\\\d', 'ngày \\\\d\\\\d.\\\\d\\\\d \\\\( nhằm ngày \\\\d\\\\d.\\\\d\\\\d \\\\) ', 'sáng chủ nhật \\\\( \\\\d\\\\d/\\\\d \\\\)', 'thứ \\\\d \\\\( \\\\d\\\\d/\\\\d\\\\d/\\\\d\\\\d\\\\d\\\\d \\\\)', '\\\\d.\\\\d\\\\d.\\\\d\\\\d\\\\d\\\\d', 'chưa đầy \\\\d\\\\d giờ đồng hồ', 'từ \\\\d\\\\dg\\\\d\\\\d ngày \\\\d\\\\d/\\\\d/\\\\d\\\\d\\\\d\\\\d đến \\\\d\\\\dg\\\\d\\\\d ngày \\\\d\\\\d/\\\\d/\\\\d\\\\d\\\\d\\\\d', '\\\\dh\\\\d\\\\d đến \\\\d\\\\dh ngày \\\\d\\\\d/\\\\d\\\\d/\\\\d\\\\d\\\\d\\\\d', 'thứ .* , ngày \\\\d tháng \\\\d .* \\\\d\\\\d\\\\d\\\\d', 'tháng \\\\d .* \\\\d\\\\d\\\\d\\\\d', 'ngày \\\\d\\\\d tháng \\\\d\\\\d .* \\\\d\\\\d\\\\d\\\\d', '\\\\d\\\\d/\\\\d âm lịch', '\\\\d\\\\d/\\\\d/\\\\d\\\\d\\\\d\\\\d đến trưa ngày \\\\d\\\\d/\\\\d/\\\\d\\\\d\\\\d\\\\d', 'ngày \\\\d - \\\\d/\\\\d\\\\d/\\\\d\\\\d\\\\d\\\\d', '\\\\d ngày \\\\d\\\\d.\\\\d\\\\d.\\\\d\\\\d/\\\\d\\\\d/\\\\d\\\\d\\\\d\\\\d \\\\( ca sáng : \\\\dh\\\\d\\\\d đến \\\\d\\\\dh . ca chiều từ \\\\d\\\\dh\\\\d\\\\d đến \\\\d\\\\dh\\\\d\\\\d . \\\\)', '\\\\d\\\\dh\\\\d\\\\d – \\\\d\\\\dh ngày \\\\d\\\\d/\\\\d/\\\\d\\\\d\\\\d\\\\d', '\\\\dh\\\\d\\\\d tối nay', '\\\\dg\\\\d\\\\d - \\\\d\\\\dg\\\\d\\\\d chủ nhật \\\\d\\\\d/\\\\d\\\\d/\\\\d\\\\d\\\\d\\\\d', 'sáng : \\\\dh\\\\d\\\\d \\\\d\\\\dh\\\\d\\\\d', 'tết âm lịch \\\\d\\\\d\\\\d\\\\d', '\\\\d\\\\dh\\\\d\\\\d ngày \\\\d\\\\d/\\\\d/\\\\d\\\\d\\\\d\\\\d \\\\( thứ \\\\d \\\\)', '\\\\d\\\\d phút từ \\\\dh - \\\\dh\\\\d\\\\d ngày \\\\d/\\\\d/\\\\d\\\\d\\\\d\\\\d \\\\( tức mùng một tết nguyên đán \\\\)', 'từ ngày \\\\d đến ngày \\\\d\\\\d/\\\\d\\\\d/\\\\d\\\\d\\\\d\\\\d', '\\\\d\\\\dh\\\\d\\\\d’ ngày \\\\d\\\\d/\\\\d\\\\d/\\\\d\\\\d\\\\d\\\\d \\\\( chủ nhật \\\\)', '\\\\d\\\\d/\\\\d\\\\d \\\\( thứ \\\\d \\\\)', '\\\\d\\\\dh\\\\d\\\\d \\\\d\\\\dh\\\\d\\\\d , ngày \\\\d\\\\d tháng \\\\d \\\\( chủ nhật \\\\)', '\\\\d\\\\dh tối nay', 'từ \\\\d\\\\dh ngày \\\\d\\\\d/\\\\d/\\\\d\\\\d\\\\d\\\\d đến \\\\dh\\\\d\\\\d ngày \\\\d\\\\d/\\\\d/\\\\d\\\\d\\\\d\\\\d', 'sau \\\\d\\\\dh\\\\d\\\\d các ngày', 'tối ngày \\\\d/\\\\d/\\\\d\\\\d\\\\d\\\\d ', '\\\\dh\\\\d\\\\d ngày \\\\d\\\\d/\\\\d', '\\\\dh\\\\d\\\\d sáng nay', '\\\\d\\\\dh\\\\d\\\\d ngày hôm nay', 'thứ .* \\\\( \\\\d\\\\d/\\\\d \\\\)', '\\\\d\\\\dh\\\\d\\\\d \\\\( \\\\dh\\\\d\\\\d chiều \\\\) ngày \\\\d\\\\d/\\\\d\\\\d/\\\\d\\\\d\\\\d\\\\d', 'bắt đầu từ \\\\d\\\\d/\\\\d\\\\d/\\\\d\\\\d\\\\d\\\\d', 'từ \\\\dh\\\\d\\\\d – \\\\d\\\\dh\\\\d\\\\d ngày \\\\d\\\\d tháng \\\\d\\\\d .* \\\\d\\\\d\\\\d\\\\d', '\\\\dh\\\\d\\\\d - \\\\d\\\\dh\\\\d\\\\d thứ .* , ngày \\\\d\\\\d/\\\\d\\\\d/\\\\d\\\\d\\\\d\\\\d', 'chủ nhật \\\\( \\\\d/\\\\d \\\\)', 'ngày \\\\d\\\\d và ngày \\\\d\\\\d hằng tháng', 'chủ nhật \\\\( \\\\d\\\\d/\\\\d\\\\d/\\\\d\\\\d\\\\d\\\\d \\\\) , lúc \\\\dh\\\\d\\\\d', '\\\\d\\\\d – \\\\d\\\\d/\\\\d', 'ngày \\\\d\\\\d - \\\\d\\\\d/\\\\d', '\\\\d\\\\d/\\\\d/\\\\d\\\\d\\\\d\\\\d \\\\( chủ nhật \\\\)', 'từ \\\\dh\\\\d\\\\d đến \\\\d\\\\dh\\\\d\\\\d ngày \\\\d\\\\d/\\\\d\\\\d/\\\\d\\\\d\\\\d\\\\d', 'lúc \\\\d\\\\dg\\\\d\\\\d phút ngày \\\\d\\\\d/\\\\d/\\\\d\\\\d\\\\d\\\\d', ' ngày \\\\d\\\\d/\\\\d\\\\d/\\\\d\\\\d\\\\d\\\\d đến ngày \\\\d\\\\d/\\\\d\\\\d/\\\\d\\\\d\\\\d\\\\d', '\\\\d\\\\dh\\\\d\\\\d chiều hôm nay', '\\\\d\\\\dh\\\\d\\\\d , thứ \\\\d hàng tuần', 'ngày \\\\d\\\\d/\\\\d\\\\d và \\\\d\\\\d/\\\\d\\\\d', 'sáng chủ nhật \\\\d\\\\d/\\\\d\\\\d', '\\\\d giờ \\\\d\\\\d ngày \\\\d\\\\d/\\\\d/\\\\d\\\\d\\\\d\\\\d', '.*̀ \\\\d\\\\d : \\\\d\\\\d đến \\\\d\\\\d : \\\\d\\\\d', 'mồng \\\\d\\\\d tháng \\\\d âm lịch tức ngày \\\\d\\\\d/\\\\d\\\\d/\\\\d\\\\d\\\\d\\\\d', 'ngày mai \\\\( t\\\\d/\\\\d\\\\d/\\\\d\\\\d \\\\)', '\\\\d\\\\d/\\\\d\\\\d - \\\\d\\\\d/\\\\d\\\\d \\\\( riêng .*n giáo dục sức khoẻ xuất phát chiều \\\\d\\\\dh ngày \\\\d\\\\d/\\\\d\\\\d \\\\)', '\\\\dh\\\\d\\\\d – \\\\d\\\\dh\\\\d\\\\d ngày \\\\d\\\\d/\\\\d\\\\d/\\\\d\\\\d\\\\d\\\\d', '\\\\d\\\\d : \\\\d\\\\d am – \\\\d\\\\d : \\\\d\\\\d pm', '\\\\dh\\\\d\\\\d ngày \\\\d\\\\d/\\\\d\\\\d/\\\\d\\\\d\\\\d\\\\d \\\\( thứ .* \\\\)  ', '\\\\dh\\\\d\\\\d sáng thứ \\\\d của tuần này đến \\\\dh\\\\d\\\\d sáng thứ \\\\d tuần kế tiếp', 'bắt đầu từ lúc \\\\dh\\\\d\\\\d sáng và kết thúc vào lúc \\\\d\\\\dh\\\\d\\\\d chiều', 'vào lúc \\\\dh chiều nay', '\\\\d\\\\d \\\\d\\\\d/\\\\d', '\\\\dg\\\\d\\\\d \\\\d\\\\dg\\\\d\\\\d ngày \\\\d\\\\d tháng \\\\d\\\\d .* \\\\d\\\\d\\\\d\\\\d', 'từ ngày \\\\d\\\\d/\\\\d\\\\d đến ngày \\\\d\\\\d/\\\\d\\\\d', 'sáng mai đúng \\\\dh\\\\d\\\\d', 'ngày \\\\d\\\\d và \\\\d\\\\d/\\\\d/\\\\d\\\\d\\\\d\\\\d', '\\\\d\\\\dh\\\\d\\\\d ngày \\\\d\\\\d/\\\\d/\\\\d\\\\d\\\\d\\\\d \\\\( dự kiến kết thúc lúc : \\\\d\\\\dh\\\\d\\\\d cùng ngày \\\\)', 'từ \\\\d\\\\dg\\\\d\\\\d – \\\\d\\\\dg\\\\d\\\\d , ngày \\\\d\\\\d/\\\\d\\\\d/\\\\d\\\\d\\\\d\\\\d', 'thứ \\\\d này', ' lúc \\\\d\\\\dh ngày \\\\d\\\\d/\\\\d\\\\d/\\\\d\\\\d\\\\d\\\\d \\\\( thứ', '\\\\d và \\\\d/\\\\d/\\\\d\\\\d\\\\d\\\\d', 'ngày \\\\d\\\\d tháng \\\\d\\\\d .* \\\\d\\\\d\\\\d\\\\d nhằm thứ \\\\d', '\\\\d\\\\d/\\\\d \\\\( buổi sáng \\\\)', 'bắt đầu vào sáng ngày \\\\d\\\\d/\\\\d\\\\d/\\\\d\\\\d\\\\d\\\\d', '\\\\d\\\\dg hoặc \\\\d\\\\dg', 'từ \\\\dh\\\\d\\\\d - \\\\d\\\\dh', 'từ \\\\dh\\\\d\\\\d đến \\\\d\\\\dh\\\\d\\\\d ngày \\\\d/\\\\d\\\\d/\\\\d\\\\d\\\\d\\\\d', 'ngày \\\\d\\\\d/\\\\d\\\\d – \\\\d\\\\d/\\\\d\\\\d/\\\\d\\\\d\\\\d\\\\d', 'sáng ngày \\\\d\\\\d/\\\\d\\\\d/\\\\d\\\\d\\\\d\\\\d', '\\\\dh\\\\d\\\\d - \\\\d\\\\dh', '\\\\dh\\\\d\\\\d sáng ngày thứ \\\\d tuần này', '\\\\d\\\\d/\\\\d \\\\d\\\\d/\\\\d', 'thứ .* , ngày \\\\d\\\\d/\\\\d\\\\d/\\\\d\\\\d\\\\d\\\\d', '\\\\d\\\\d.\\\\d.\\\\d\\\\d\\\\d\\\\d', 'thứ .* \\\\( \\\\d\\\\d/\\\\d\\\\d/\\\\d\\\\d\\\\d\\\\d \\\\)', '\\\\d\\\\dh\\\\d\\\\d ngày \\\\d/\\\\d', 'từ \\\\d\\\\dg\\\\d\\\\d ngày \\\\d\\\\d.\\\\d.\\\\d\\\\d\\\\d\\\\d đến \\\\d\\\\dg\\\\d\\\\d ngày \\\\d\\\\d.\\\\d.\\\\d\\\\d\\\\d\\\\d', 'ngày \\\\d\\\\d/\\\\d \\\\( thứ .* \\\\) và từ ngày \\\\d\\\\d đến \\\\d\\\\d/\\\\d/\\\\d\\\\d\\\\d\\\\d \\\\( thứ .* đến thứ .* \\\\)', '\\\\dh\\\\d\\\\d ', 'chiều chủ nhật tuần sau \\\\( \\\\d\\\\d/\\\\d\\\\d/\\\\d\\\\d\\\\d\\\\d \\\\)', 'ngày cn \\\\d\\\\d/\\\\d/\\\\d\\\\d\\\\d\\\\d', '\\\\d\\\\dg\\\\d\\\\d ngày \\\\d\\\\d/\\\\d/\\\\d\\\\d\\\\d\\\\d \\\\( thứ \\\\d \\\\)', 'ngày \\\\d\\\\d/\\\\d/\\\\d\\\\d\\\\d\\\\d \\\\( thứ \\\\d \\\\)', '\\\\( \\\\d\\\\d/\\\\d\\\\d - \\\\d\\\\d/\\\\d\\\\d \\\\)', '\\\\dh\\\\d\\\\d \\\\dh\\\\d\\\\d', '\\\\d\\\\dh\\\\d\\\\d ngày \\\\d\\\\d/\\\\d\\\\d', 'bắt đầu vào lúc \\\\d\\\\dh chủ nhật tuần này \\\\d/\\\\d\\\\d', '\\\\dh\\\\d\\\\d - \\\\d\\\\dh\\\\d\\\\d ', '\\\\d\\\\dh\\\\d\\\\d thứ \\\\d ngày \\\\d\\\\d/\\\\d', 'từ ngày \\\\d\\\\d/\\\\d/\\\\d\\\\d\\\\d\\\\d đến \\\\d\\\\dh\\\\d\\\\d’ ngày \\\\d/\\\\d/\\\\d\\\\d\\\\d\\\\d', 'chủ nhật tuần này \\\\( \\\\d\\\\d.\\\\d\\\\d.\\\\d\\\\d\\\\d\\\\d \\\\)', 'đúng \\\\dg sáng', 'chủ nhật này \\\\( \\\\d\\\\d/\\\\d\\\\d \\\\)', 'thứ .* ngày \\\\d.\\\\d.\\\\d\\\\d\\\\d\\\\d', 'ngày mai \\\\d\\\\d/\\\\d\\\\d lúc \\\\dh\\\\d\\\\d', '\\\\d\\\\d giờ \\\\d\\\\d phút', 'sáng thứ \\\\d : \\\\d\\\\d/\\\\d', 'chiều nay \\\\( \\\\d\\\\d/\\\\d \\\\)', '\\\\d\\\\d/\\\\d/\\\\d\\\\d\\\\d\\\\d \\\\d/\\\\d/\\\\d\\\\d\\\\d\\\\d', 'chiều thứ .* , ngày \\\\d\\\\d/\\\\d/\\\\d\\\\d\\\\d\\\\d lúc \\\\d\\\\dg', 'từ \\\\d\\\\dh\\\\d\\\\d ngày \\\\d\\\\d/\\\\d\\\\d đến \\\\d\\\\dh\\\\d\\\\d ngày \\\\d\\\\d/\\\\d\\\\d/\\\\d\\\\d\\\\d\\\\d', '\\\\d giờ \\\\d\\\\d , ngày \\\\d\\\\d/\\\\d\\\\d/\\\\d\\\\d\\\\d\\\\d', '\\\\dh đến \\\\d\\\\dh ngày \\\\d\\\\d tháng \\\\d\\\\d .* \\\\d\\\\d\\\\d\\\\d ', ' buổi chiều : \\\\d\\\\dh\\\\d\\\\d – \\\\d\\\\dh\\\\d\\\\d', '\\\\d\\\\d/\\\\d\\\\d/\\\\d\\\\d\\\\d\\\\d \\\\d\\\\d/\\\\d\\\\d/\\\\d\\\\d\\\\d\\\\d \\\\( thời gian cụ thể theo từng mặt trận \\\\)', '\\\\dh sáng hôm nay , chủ nhật ngày \\\\d\\\\d/\\\\d/\\\\d\\\\d\\\\d\\\\d', 'trước \\\\d\\\\dh\\\\d\\\\d ngày \\\\d/\\\\d', '\\\\d\\\\d - \\\\d\\\\d - \\\\d\\\\d', 'từ \\\\d\\\\d/\\\\d\\\\d/\\\\d\\\\d\\\\d\\\\d \\\\d\\\\d/\\\\d\\\\d/\\\\d\\\\d\\\\d\\\\d', 'Từ \\\\d\\\\dh - \\\\d\\\\dh\\\\d\\\\d', 'cuối .* \\\\d\\\\d\\\\d\\\\d', 'gian : \\\\d\\\\dh - \\\\d\\\\dh thứ \\\\d \\\\( ', 'thứ .* , .* \\\\( \\\\d\\\\d , \\\\d\\\\d/\\\\d\\\\d/\\\\d\\\\d\\\\d\\\\d \\\\) : từ \\\\d.\\\\d\\\\d sáng đến \\\\d\\\\d.\\\\d\\\\d chiều', 'chiều thứ .* \\\\( \\\\d\\\\d/\\\\d \\\\) vào lúc \\\\d\\\\dh\\\\d\\\\d', '\\\\d\\\\dh\\\\d\\\\d’ ngày \\\\d - \\\\d - \\\\d\\\\d\\\\d\\\\d \\\\( chủ nhật \\\\) \\\\dh\\\\d\\\\d’ ngày \\\\d\\\\d - \\\\d - \\\\d\\\\d\\\\d\\\\d \\\\( thứ \\\\d \\\\)', 'chủ nhật \\\\d\\\\d - \\\\d', '\\\\d\\\\dh\\\\d\\\\d phút', 'sáng hôm thứ \\\\d \\\\( \\\\d\\\\d/\\\\d\\\\d/\\\\d\\\\d\\\\d\\\\d \\\\)', '\\\\dh\\\\d\\\\d ngày \\\\d\\\\d/\\\\d\\\\d/\\\\d\\\\d\\\\d\\\\d', 'ngày \\\\d\\\\d và \\\\d\\\\d \\\\( thứ \\\\d và thứ \\\\d \\\\)', 'lúc \\\\d\\\\dg\\\\d\\\\d ngày \\\\d\\\\d/\\\\d\\\\d/\\\\d\\\\d\\\\d\\\\d \\\\( cn \\\\)', ' \\\\d\\\\dh\\\\d\\\\d – \\\\d\\\\dh\\\\d\\\\d – \\\\d\\\\dh\\\\d\\\\d – \\\\d\\\\dh\\\\d\\\\d – \\\\d\\\\dh\\\\d\\\\d – \\\\d\\\\dh\\\\d\\\\d – \\\\d\\\\dh\\\\d\\\\dthứ \\\\d', 'từ \\\\d\\\\d/\\\\d\\\\d đến \\\\d\\\\d/\\\\d\\\\d/\\\\d\\\\d\\\\d\\\\d', 'chủ nhật đầu tiên của mỗi tháng , bắt đầu từ tháng \\\\d/\\\\d\\\\d\\\\d\\\\d', '\\\\dh\\\\d\\\\d - \\\\d\\\\dh ngày \\\\d\\\\d/\\\\d/\\\\d\\\\d\\\\d\\\\d \\\\( thứ .* \\\\) ', 'chủ nhật lúc \\\\d\\\\dg\\\\d\\\\d ngày \\\\d\\\\d/\\\\d\\\\d/\\\\d\\\\d\\\\d\\\\d', 'sáng chủ nhật hàng tuần : \\\\dh\\\\d\\\\d - \\\\d\\\\dh', 'sáng chủ nhật ngày \\\\d\\\\d/\\\\d\\\\d/\\\\d\\\\d\\\\d\\\\d', '\\\\dh - \\\\dh', '\\\\d\\\\d - \\\\d\\\\d - \\\\d\\\\d/\\\\d\\\\d/\\\\d\\\\d\\\\d\\\\d', '\\\\d\\\\dh\\\\d\\\\d - \\\\d\\\\dh\\\\d\\\\d ngày mai thứ \\\\d , \\\\d\\\\d/\\\\d/\\\\d\\\\d\\\\d\\\\d', '\\\\d\\\\dh chiều mai \\\\( \\\\d\\\\d/\\\\d\\\\d \\\\)', '\\\\d\\\\dh\\\\d\\\\d ngày thứ .* \\\\d\\\\d/\\\\d\\\\d', 'ngày \\\\d/\\\\d\\\\d/\\\\d\\\\d\\\\d\\\\d \\\\( thứ \\\\d \\\\)', '\\\\d\\\\d và \\\\d\\\\d tháng \\\\d\\\\d', 'chiều chủ nhật \\\\( \\\\d\\\\d/\\\\d\\\\d/\\\\d\\\\d\\\\d\\\\d \\\\) , \\\\d\\\\dh\\\\d\\\\d', '\\\\dh sáng ngày \\\\d/\\\\d/\\\\d\\\\d\\\\d\\\\d', 'chiều nay , \\\\d\\\\d/\\\\d\\\\d', '\\\\d\\\\d/\\\\d/\\\\d\\\\d\\\\d\\\\d - \\\\d\\\\d/\\\\d/\\\\d\\\\d\\\\d\\\\d', '  ngày \\\\d\\\\d/\\\\d\\\\d', 'từ ngày \\\\d\\\\d/\\\\d\\\\d/\\\\d\\\\d\\\\d\\\\d đến khoảng \\\\d\\\\d/\\\\d\\\\d/\\\\d\\\\d\\\\d\\\\d', '\\\\d\\\\dh thứ \\\\d hàng tuần', 'bắt đầu từ \\\\d/\\\\d/\\\\d\\\\d\\\\d\\\\d đến \\\\d\\\\dh ngày \\\\d\\\\d/\\\\d/\\\\d\\\\d\\\\d\\\\d', '\\\\d\\\\dh\\\\d\\\\d – \\\\d\\\\dh\\\\d\\\\d ngày \\\\d\\\\d/\\\\d\\\\d/\\\\d\\\\d\\\\d\\\\d', 'thứ \\\\d \\\\d\\\\dh', '\\\\dh – \\\\dh\\\\d\\\\d', 'thứ .* \\\\( \\\\d/\\\\d\\\\d \\\\)', '\\\\d : \\\\d\\\\d am \\\\d\\\\d : \\\\d\\\\dpm', '\\\\( \\\\d\\\\d/\\\\d/\\\\d\\\\d\\\\d\\\\d \\\\)', 'thứ \\\\d hàng tuần từ \\\\d\\\\dh - \\\\d\\\\dh', 'chiều chủ nhật \\\\d/\\\\d', '\\\\d : \\\\d\\\\d \\\\d\\\\d : \\\\d\\\\d , chủ nhật , ngày \\\\d\\\\d/\\\\d\\\\d/\\\\d\\\\d\\\\d\\\\d', 'từ \\\\d\\\\d đến \\\\d\\\\d : \\\\d\\\\d', '\\\\d - \\\\d/\\\\d/\\\\d\\\\d\\\\d\\\\d', '\\\\d\\\\d /\\\\d\\\\d /\\\\d\\\\d\\\\d\\\\d', 'tháng \\\\d/\\\\d\\\\d\\\\d\\\\d', '\\\\d\\\\dg\\\\d\\\\d thứ \\\\d ngày \\\\d\\\\d/\\\\d\\\\d/\\\\d\\\\d\\\\d\\\\d', 'cn ngày \\\\d\\\\d/\\\\d\\\\d/\\\\d\\\\d\\\\d\\\\d', 'từ \\\\dh đến \\\\d\\\\dh các ngày chủ nhật . \\\\( \\\\d\\\\d/\\\\d\\\\d ; \\\\d/\\\\d\\\\d ; \\\\d\\\\d/\\\\d\\\\d ; \\\\d\\\\d/\\\\d\\\\d \\\\)', '\\\\d\\\\d : \\\\d\\\\d \\\\d\\\\d : \\\\d\\\\d , \\\\d\\\\d tháng \\\\d', '\\\\dh\\\\d\\\\d – \\\\d\\\\dh\\\\d\\\\d , ngày \\\\d\\\\d.\\\\d\\\\d.\\\\d\\\\d\\\\d\\\\d', 'sáng từ \\\\dh\\\\d\\\\d đến \\\\d\\\\dh\\\\d\\\\d chiều từ \\\\d\\\\dh đến \\\\d\\\\dh\\\\d\\\\d', '\\\\d\\\\d/\\\\d\\\\d/\\\\d\\\\d\\\\d\\\\d từ \\\\dh\\\\d\\\\d đến \\\\d\\\\dh\\\\d\\\\d ', '\\\\dh\\\\d\\\\d - \\\\d\\\\dh\\\\d\\\\d , ngày \\\\d\\\\d/\\\\d\\\\d/\\\\d\\\\d\\\\d\\\\d \\\\( thứ \\\\d \\\\)', 'từ \\\\dh\\\\d\\\\d đến \\\\dh\\\\d\\\\d \\\\d/\\\\d/\\\\d\\\\d\\\\d\\\\d \\\\( thứ \\\\d \\\\)', '\\\\d \\\\d\\\\d/\\\\d\\\\d/\\\\d\\\\d', 'dự kiến cuối tháng \\\\d\\\\d/\\\\d\\\\d\\\\d\\\\d', '\\\\d\\\\dh đến \\\\d\\\\dh ngày \\\\d\\\\d/\\\\d\\\\d', '\\\\d\\\\dh \\\\d\\\\d/\\\\d/\\\\d\\\\d\\\\d\\\\d đến \\\\d\\\\dh\\\\d\\\\d \\\\d\\\\d/\\\\d/\\\\d\\\\d\\\\d\\\\d', 'ngày : \\\\d\\\\d/\\\\d\\\\d/\\\\d\\\\d\\\\d\\\\d ', 'tối ngày \\\\d/\\\\d/\\\\d\\\\d\\\\d\\\\d', '\\\\dh ngày \\\\d\\\\d/\\\\d', 'lúc \\\\dh\\\\d\\\\d ngày \\\\d tháng \\\\d .* \\\\d\\\\d\\\\d\\\\d', 'sáng hôm nay , \\\\d\\\\d/\\\\d\\\\d/\\\\d\\\\d\\\\d\\\\d', 'từ ngày \\\\d/\\\\d\\\\d \\\\d/\\\\d\\\\d/\\\\d\\\\d\\\\d\\\\d', '\\\\d\\\\d/\\\\d\\\\d/\\\\d\\\\d\\\\d\\\\d \\\\d\\\\d/\\\\d\\\\d/\\\\d\\\\d\\\\d\\\\d , từ \\\\dh\\\\d\\\\d \\\\d\\\\dh\\\\d\\\\d', 'từ \\\\dg\\\\d\\\\d ngày \\\\d\\\\d/\\\\d/\\\\d\\\\d\\\\d\\\\d đến hết \\\\d\\\\dg\\\\d\\\\d ngày \\\\d\\\\d/\\\\d/\\\\d\\\\d\\\\d\\\\d', 'sáng \\\\d\\\\d/\\\\d\\\\d/\\\\d\\\\d', '\\\\d\\\\dh\\\\d\\\\d , thứ \\\\d ngày \\\\d\\\\d/\\\\d\\\\d/\\\\d\\\\d\\\\d\\\\d', '\\\\dg sáng', '\\\\d\\\\dg – \\\\d\\\\dg ngày \\\\d\\\\d/\\\\d/\\\\d\\\\d\\\\d\\\\d', 'từ \\\\d\\\\d/\\\\d\\\\d/\\\\d\\\\d\\\\d\\\\d – \\\\d\\\\d/\\\\d\\\\d/\\\\d\\\\d\\\\d\\\\d', 'ngày \\\\d\\\\d \\\\d\\\\d \\\\d\\\\d hàng tháng', 'thứ \\\\d ngày \\\\d\\\\d - \\\\d', '\\\\d\\\\dh\\\\d\\\\d phút ngày \\\\d\\\\d/\\\\d\\\\d/\\\\d\\\\d\\\\d\\\\d', 'chiều bắt đầu từ \\\\d\\\\dh\\\\d\\\\d', '\\\\d\\\\d \\\\d\\\\d \\\\d\\\\d\\\\d\\\\d', 'cn \\\\d\\\\d/\\\\d/\\\\d\\\\d\\\\d\\\\d  ', 'từ \\\\d\\\\dh\\\\d\\\\d – \\\\d\\\\dh ngày \\\\d\\\\d/\\\\d\\\\d', 'ngày \\\\d/\\\\d \\\\( thứ \\\\d \\\\) \\\\dh\\\\d\\\\d - \\\\d\\\\dh\\\\d\\\\d', '\\\\d\\\\dh\\\\d\\\\dp ngày \\\\d\\\\d/\\\\d\\\\d/\\\\d\\\\d\\\\d\\\\d \\\\( thứ .* \\\\)', 'tối thứ \\\\d', '\\\\d\\\\d/\\\\d\\\\d \\\\d\\\\dh \\\\d\\\\d/\\\\d\\\\d', '\\\\d\\\\d giờ', 'tập trung trước \\\\dh\\\\d\\\\d , ngày \\\\d\\\\d/\\\\d\\\\d/\\\\d\\\\d\\\\d\\\\d', '\\\\d\\\\dh\\\\d\\\\d ngày \\\\d\\\\d/\\\\d', 'chiều ngày \\\\d/\\\\d/\\\\d\\\\d\\\\d\\\\d', '\\\\d\\\\dh\\\\d\\\\d thứ \\\\d \\\\( \\\\d\\\\d/\\\\d\\\\d/\\\\d\\\\d\\\\d\\\\d \\\\)', '\\\\d\\\\dh\\\\d\\\\d ngày \\\\d/\\\\d \\\\( chủ nhật \\\\)', '\\\\d\\\\dh\\\\d\\\\d chiều thứ \\\\d , ngày \\\\d\\\\d/\\\\d\\\\d/\\\\d\\\\d\\\\d\\\\d', '\\\\d\\\\d/\\\\d\\\\d – \\\\d\\\\d/\\\\d\\\\d', '\\\\d\\\\d/\\\\d đến ngày \\\\d/\\\\d', 'buổi sáng : \\\\d\\\\dh\\\\d\\\\d – \\\\d\\\\dh\\\\d\\\\d', 'khoảng \\\\d\\\\dh', 'ngày \\\\d\\\\d và ngày \\\\d\\\\d/\\\\d/\\\\d\\\\d\\\\d\\\\d', '\\\\d\\\\dg\\\\d\\\\d', 'bắt đầu từ \\\\d giờ sáng', 'lúc \\\\d\\\\dh , ngày \\\\d\\\\d/\\\\d/\\\\d\\\\d\\\\d\\\\d \\\\( thứ \\\\d \\\\)', '\\\\d\\\\d/\\\\d\\\\d', '\\\\d\\\\dh , ngày \\\\d\\\\d/\\\\d\\\\d/\\\\d\\\\d\\\\d\\\\d \\\\( thứ \\\\d \\\\)', 'từ \\\\dg\\\\d\\\\d thứ .* \\\\d\\\\d/\\\\d', 'ngày \\\\d\\\\d/\\\\d\\\\d/\\\\d\\\\d\\\\d\\\\d \\\\( thứ .* \\\\)  ', '\\\\d\\\\dh\\\\d\\\\d , ngày thứ .* , \\\\d\\\\d/\\\\d/\\\\d\\\\d\\\\d\\\\d ', 'các ngày thứ \\\\d và chủ nhật từ ngày \\\\d\\\\d/\\\\d đến \\\\d\\\\d/\\\\d\\\\d  ', 'từ ngày \\\\d\\\\d/\\\\d/\\\\d\\\\d\\\\d\\\\d đến hết ngày \\\\d/\\\\d/\\\\d\\\\d\\\\d\\\\d', '\\\\d\\\\d - \\\\d\\\\d/\\\\d/\\\\d\\\\d\\\\d\\\\d \\\\( mùng \\\\d\\\\d và \\\\d\\\\d tháng \\\\d al \\\\)', 'sáng/chiều thứ .* \\\\( \\\\d\\\\d/\\\\d\\\\d/\\\\d\\\\d\\\\d\\\\d \\\\)', '\\\\d\\\\dh\\\\d\\\\d’ ngày \\\\d\\\\d - \\\\d\\\\d - \\\\d\\\\d\\\\d\\\\d', '\\\\dh\\\\d\\\\d - \\\\d\\\\dh ngày \\\\d\\\\d - \\\\d\\\\d - \\\\d\\\\d\\\\d\\\\d \\\\( chủ nhật \\\\)', 'chiều thứ \\\\d hàng tuần', 'buổi chiều : \\\\d\\\\dh\\\\d\\\\d \\\\d\\\\dh\\\\d\\\\d', 'lúc \\\\d : \\\\d\\\\d thứ \\\\d ngày \\\\d\\\\d/\\\\d\\\\d/\\\\d\\\\d\\\\d\\\\d', '\\\\dh sáng \\\\d/\\\\d/\\\\d\\\\d\\\\d\\\\d', 'tối ngày mai , \\\\d\\\\d/\\\\d\\\\d/\\\\d\\\\d\\\\d\\\\d', 'từ sáng đến \\\\d\\\\dh\\\\d\\\\d cùng ngày', 'sáng : \\\\dh\\\\d\\\\d đến \\\\d\\\\dh\\\\d\\\\d', 'khoảng từ \\\\dh\\\\d\\\\d đến \\\\d\\\\dh', '.*̀ ngày \\\\d\\\\d/\\\\d đến ngày \\\\d\\\\d/\\\\d/\\\\d\\\\d\\\\d\\\\d', '\\\\d\\\\dh đến \\\\d\\\\dh', 'hôm nay thứ \\\\d , ngày \\\\d\\\\d/\\\\d\\\\d/\\\\d\\\\d\\\\d\\\\d', '\\\\dh\\\\d\\\\dp ngày \\\\d\\\\d \\\\( thứ \\\\d \\\\)', 'chủ nhật \\\\( \\\\d\\\\d/\\\\d\\\\d/\\\\d\\\\d\\\\d\\\\d \\\\)', '\\\\dh\\\\d\\\\d , ngày \\\\d\\\\d/\\\\d\\\\d/\\\\d\\\\d\\\\d\\\\d \\\\( thứ \\\\d \\\\)', 'sáng \\\\d - \\\\d/\\\\d\\\\d/\\\\d\\\\d\\\\d\\\\d', 'trong \\\\d ngày', 'ngày \\\\d\\\\d - \\\\d - \\\\d\\\\d\\\\d\\\\d', '\\\\dh\\\\d\\\\d ngày \\\\d\\\\d , \\\\d\\\\d/\\\\d', '\\\\d\\\\dh\\\\d\\\\d \\\\d\\\\dh\\\\d\\\\d ngày \\\\d\\\\d/\\\\d', 'chủ nhât ngày \\\\d\\\\d tháng \\\\d .* \\\\d\\\\d\\\\d\\\\d', 'thứ \\\\d', '\\\\d\\\\d.\\\\d\\\\d \\\\d\\\\d.\\\\d\\\\d.\\\\d\\\\d\\\\d\\\\d', '\\\\d\\\\d/\\\\d\\\\d/\\\\d\\\\d\\\\d\\\\d \\\\d\\\\d/\\\\d\\\\d/\\\\d\\\\d\\\\d\\\\d', 'từ nay đến ngày \\\\d\\\\d - \\\\d\\\\d', 'buổi sáng vào lúc từ \\\\dh - \\\\dh', 'từ \\\\d\\\\dh\\\\d\\\\d đến \\\\d\\\\dh\\\\d\\\\d , thứ .* , ngày \\\\d\\\\d/\\\\d\\\\d/\\\\d\\\\d\\\\d\\\\d', 'tập trung đúng \\\\dh', '\\\\d\\\\d : \\\\d\\\\d chủ nhật ngày \\\\d\\\\d/\\\\d', 'thứ \\\\d , ngày \\\\d/\\\\d\\\\d/\\\\d\\\\d\\\\d\\\\d buổi sáng : \\\\dh \\\\dhbuổi chiều : \\\\d\\\\dh , \\\\d\\\\dh đến \\\\d\\\\dh', '\\\\d\\\\d giờ ngày \\\\d\\\\d.\\\\d', 'từ \\\\d\\\\dg\\\\d\\\\d ngày \\\\d\\\\d/\\\\d\\\\d/\\\\d\\\\d\\\\d\\\\d \\\\( nhằm ngày \\\\d\\\\d/\\\\d\\\\dal \\\\)', '\\\\d\\\\d tháng chạp', '\\\\d\\\\dh\\\\d\\\\d – \\\\d\\\\dh\\\\d\\\\d ngày \\\\d/\\\\d/\\\\d\\\\d\\\\d\\\\d', '\\\\dg\\\\d\\\\d , ngày \\\\d\\\\d/\\\\d\\\\d/\\\\d\\\\d\\\\d\\\\d\\\\d', 'từ \\\\dh\\\\d\\\\d \\\\d\\\\d/\\\\d\\\\d/\\\\d\\\\d\\\\d\\\\d đến sáng ngày \\\\d\\\\d/\\\\d\\\\d/\\\\d\\\\d\\\\d\\\\d', '\\\\dh/ngày trực đêm', '\\\\d/\\\\d\\\\d', '\\\\d\\\\d/\\\\d\\\\d/\\\\d\\\\d\\\\d\\\\d \\\\d\\\\d/\\\\d\\\\d/\\\\d\\\\d\\\\d', 'từ ngày \\\\d\\\\d/\\\\d\\\\d đến \\\\d\\\\d/\\\\d\\\\d/\\\\d\\\\d\\\\d\\\\d', 'ngày \\\\d\\\\d.\\\\d', 'thứ .* chủ nhật , ngày \\\\d\\\\d\\\\d\\\\d/\\\\d\\\\d/\\\\d\\\\d', 'chiều thứ \\\\d \\\\( \\\\d\\\\d/\\\\d\\\\d/\\\\d\\\\d\\\\d\\\\d \\\\)', '\\\\d\\\\dh\\\\d\\\\d ', '\\\\dh\\\\d\\\\d ngày chủ nhật \\\\( \\\\d\\\\d/\\\\d\\\\d \\\\)', '\\\\d/\\\\d/\\\\d\\\\d\\\\d\\\\d \\\\( thứ \\\\d \\\\)', '\\\\dh\\\\d\\\\d ngày \\\\d\\\\d/\\\\d\\\\d/\\\\d\\\\d\\\\d\\\\d \\\\( thứ .* \\\\)', '\\\\d : \\\\d\\\\d – \\\\d\\\\d : \\\\d\\\\d sáng', '\\\\dh ngày \\\\d/\\\\d\\\\d \\\\( thứ \\\\d \\\\)', '\\\\d\\\\dg\\\\d\\\\d đến \\\\d\\\\dg\\\\d\\\\d ngày \\\\d\\\\d/\\\\d\\\\d/\\\\d\\\\d\\\\d\\\\d \\\\( thứ \\\\d \\\\) \\\\d\\\\dg\\\\d\\\\d đến \\\\d\\\\dg\\\\d\\\\d ngày \\\\d\\\\d/\\\\d\\\\d/\\\\d\\\\d\\\\d\\\\d \\\\( thứ \\\\d \\\\)', '\\\\d\\\\dh\\\\d\\\\d ngày mai \\\\( \\\\d\\\\d/\\\\d\\\\d/\\\\d\\\\d\\\\d\\\\d \\\\)', 'thứ .* , ngày \\\\d\\\\d/\\\\d\\\\d/\\\\d\\\\d : từ \\\\d\\\\dg \\\\d\\\\dg', '\\\\d\\\\d giờ tối nay ngày \\\\d\\\\d/\\\\d\\\\d/\\\\d\\\\d\\\\d\\\\d', '\\\\d\\\\dg\\\\d\\\\d , \\\\d\\\\d/\\\\d\\\\d/\\\\d\\\\d\\\\d\\\\d', 'chủ nhật \\\\d\\\\d/\\\\d\\\\d/\\\\d\\\\d\\\\d\\\\d', '.*̀ \\\\d\\\\dh - \\\\d\\\\dh', 'từ sáng \\\\( trưa \\\\) cn \\\\d/\\\\d/\\\\d\\\\d\\\\d\\\\d trưa thứ .* \\\\d/\\\\d/\\\\d\\\\d\\\\d\\\\d', 'ngày mai \\\\( \\\\d\\\\d.\\\\d\\\\d.\\\\d\\\\d\\\\d\\\\d \\\\)', 'diễn ra vào buổi sáng \\\\( dự kiến sẽ tập trung lúc \\\\dh và dự kiến kết thúc lúc \\\\d\\\\dh cùng ngày \\\\)', 'từ thứ \\\\d đến thứ \\\\d vào lúc \\\\d\\\\dh\\\\d\\\\d', 'mùng \\\\d\\\\d/\\\\d âm lịch \\\\( \\\\d\\\\d/\\\\d\\\\d/\\\\d\\\\d\\\\d\\\\d \\\\)', 'trước \\\\d\\\\dh\\\\d\\\\d tối nay', 'tháng \\\\d đầu tháng \\\\d', 'sau ngày \\\\d\\\\d/\\\\d\\\\d/\\\\d\\\\d\\\\d\\\\d', '\\\\d\\\\dh ngày \\\\d\\\\d/\\\\d\\\\d', ' thứ \\\\d \\\\( \\\\d\\\\d/\\\\d\\\\d \\\\) đến thứ \\\\d \\\\( \\\\d\\\\d/\\\\d\\\\d \\\\)', '\\\\d đợt', '\\\\d\\\\dg\\\\d\\\\d \\\\d\\\\dg\\\\d\\\\d ngày \\\\d\\\\d/\\\\d\\\\d/\\\\d\\\\d\\\\d\\\\d', '\\\\dh\\\\d\\\\d - \\\\d\\\\dh\\\\d\\\\d , ngày \\\\d\\\\d tháng \\\\d\\\\d .* \\\\d\\\\d\\\\d\\\\d', '\\\\d\\\\d : \\\\d\\\\d \\\\d\\\\d : \\\\d\\\\d ', '\\\\dh\\\\d\\\\d chiều nay', '\\\\d\\\\d/\\\\d\\\\d/\\\\d\\\\d \\\\d\\\\d/\\\\d/\\\\d\\\\d', '\\\\d\\\\d/\\\\d\\\\d/\\\\d\\\\d\\\\d\\\\d đến \\\\d\\\\d/\\\\d\\\\d/\\\\d\\\\d\\\\d\\\\d', '\\\\d giờ \\\\d\\\\d phút ngày mai , \\\\d\\\\d/\\\\d\\\\d/\\\\d\\\\d\\\\d\\\\d', 'buổi chiều .*̀ \\\\d\\\\dh \\\\d\\\\dh\\\\d\\\\d', 'từ ngày \\\\d\\\\d \\\\d\\\\d/\\\\d\\\\d/\\\\d\\\\d\\\\d\\\\d', '\\\\d\\\\dh\\\\d\\\\d đến \\\\d\\\\dh', 'từ \\\\d\\\\dh\\\\d\\\\d \\\\d\\\\dh\\\\d\\\\d', '\\\\d : \\\\d\\\\d - \\\\d\\\\d : \\\\d\\\\d , ngày \\\\d\\\\d - \\\\d\\\\d - \\\\d\\\\d/\\\\d\\\\d/\\\\d\\\\d\\\\d\\\\d', '\\\\d\\\\d/\\\\d/\\\\d\\\\d\\\\d\\\\d và \\\\d/\\\\d/\\\\d\\\\d\\\\d\\\\d', 'từ ngày \\\\d\\\\d/\\\\d\\\\d đến ngày \\\\d\\\\d/\\\\d\\\\d/\\\\d\\\\d\\\\d\\\\d', 'buổi sáng thứ \\\\d', 'ngày \\\\d\\\\d/\\\\d/\\\\d\\\\d\\\\d\\\\d đến \\\\d\\\\d/\\\\d/\\\\d\\\\d\\\\d\\\\d', '\\\\d\\\\d/\\\\d\\\\d/\\\\d\\\\d\\\\d\\\\d ', ' : \\rthứ \\\\d \\\\d\\\\d/\\\\d', '\\\\dh \\\\( \\\\d\\\\d/\\\\d\\\\d \\\\)', '\\\\d\\\\dg \\\\d\\\\dg thứ .* , ngày \\\\d\\\\d/\\\\d\\\\d/\\\\d\\\\d\\\\d\\\\d', 'chiều thứ \\\\d : \\\\d\\\\d/\\\\d/\\\\d\\\\d', 'từ tháng \\\\d\\\\d đến tháng \\\\d\\\\d .* \\\\d\\\\d\\\\d\\\\d', 'từ \\\\dh\\\\d\\\\d - \\\\d\\\\dh\\\\d\\\\d . \\\\( mỗi sáng thứ \\\\d hoặc mỗi sáng chủ nhật \\\\)', 'thứ .* ngày \\\\d\\\\d/\\\\d\\\\d/\\\\d\\\\d\\\\d\\\\d', '\\\\d\\\\d giờ , thứ .* \\\\( \\\\d/\\\\d\\\\d/\\\\d\\\\d\\\\d\\\\d \\\\)', 'ngày thứ \\\\d \\\\d\\\\d/\\\\d\\\\d/\\\\d\\\\d\\\\d\\\\d', '\\\\d\\\\d/\\\\d/\\\\d\\\\d\\\\d\\\\d', 'từ \\\\d\\\\d – \\\\d\\\\d/\\\\d/\\\\d\\\\d\\\\d\\\\d', '\\\\d\\\\dg\\\\d\\\\d – \\\\d\\\\dg\\\\d\\\\d ngày \\\\d\\\\d/\\\\d/\\\\d\\\\d\\\\d\\\\d', '\\\\dh\\\\d\\\\d hôm nay \\\\( \\\\d\\\\d/\\\\d\\\\d/\\\\d\\\\d\\\\d\\\\d \\\\)', 'ngày \\\\d\\\\d - \\\\d', 'hôm nay , ngày \\\\d\\\\d/\\\\d\\\\d/\\\\d\\\\d\\\\d\\\\d', '\\\\d buổi sáng thứ \\\\d hàng tuần', '\\\\dh\\\\d\\\\d \\\\d\\\\dh\\\\d\\\\d ngày \\\\d\\\\d , \\\\d\\\\d/\\\\d\\\\d/\\\\d\\\\d\\\\d\\\\d', '\\\\dh ngày \\\\d\\\\d tháng \\\\d .* \\\\d\\\\d\\\\d\\\\d', '\\\\d\\\\dh\\\\d\\\\d - \\\\d\\\\dh\\\\d\\\\d', '\\\\d : \\\\d\\\\d \\\\d\\\\d : \\\\d\\\\d ngày \\\\d\\\\d \\\\d/\\\\d\\\\d/\\\\d\\\\d\\\\d\\\\d', '\\\\d\\\\dh\\\\d\\\\d ngày \\\\d/\\\\d/\\\\d\\\\d\\\\d\\\\d \\\\( thứ .* \\\\)', '\\\\dg\\\\d\\\\d – \\\\d\\\\dg\\\\d\\\\d ngày \\\\d\\\\d/\\\\d\\\\d/\\\\d\\\\d\\\\d\\\\d', 'ngày \\\\d , \\\\d tháng \\\\d ', 'chiều ngày mai \\\\d\\\\d/\\\\d\\\\d/\\\\d\\\\d\\\\d\\\\d', '\\\\dh\\\\d\\\\d - \\\\d\\\\dh ngày \\\\d\\\\d - \\\\d\\\\d - \\\\d\\\\d\\\\d\\\\d \\\\( thứ .* \\\\)', '\\\\d\\\\dh\\\\d\\\\d ngày \\\\d\\\\d/\\\\d\\\\d \\\\( t\\\\d \\\\)', 'ngày \\\\d\\\\d tháng \\\\d\\\\d', '\\\\d\\\\d : \\\\d\\\\d thứ .* ngày \\\\d\\\\d tháng \\\\d\\\\d .* \\\\d\\\\d\\\\d\\\\d', '\\\\d\\\\dh\\\\d\\\\d \\\\d\\\\dh\\\\d\\\\d ngày \\\\d\\\\d/\\\\d\\\\d/\\\\d\\\\d\\\\d\\\\d \\\\( thứ .* \\\\)', '\\\\d\\\\dh\\\\d\\\\d thứ \\\\d tuần sau', 'chiều nay đúng \\\\d\\\\dh\\\\d\\\\d', '\\\\d\\\\d giờ ngày \\\\d\\\\d/\\\\d\\\\d/\\\\d\\\\d\\\\d\\\\d', '\\\\d\\\\dh\\\\d\\\\d chủ nhật nhằm ngày \\\\d\\\\d/\\\\d/\\\\d\\\\d\\\\d\\\\d ', '\\\\dh\\\\d\\\\d – \\\\d\\\\dh\\\\d\\\\d', '\\\\d\\\\dh\\\\d\\\\d sáng cùng ngày', '\\\\dh sáng mai \\\\( \\\\d\\\\d/\\\\d\\\\d/\\\\d\\\\d\\\\d\\\\d \\\\)', '\\\\d\\\\dg\\\\d\\\\d ngày \\\\d\\\\d/\\\\d\\\\d/\\\\d\\\\d\\\\d\\\\d \\\\( ngày mai \\\\) ', 'trong \\\\d tháng từ tháng \\\\d\\\\d/\\\\d\\\\d\\\\d\\\\d đến tháng \\\\d\\\\d/\\\\d\\\\d\\\\d\\\\d', '\\\\d/\\\\d\\\\d/\\\\d\\\\d\\\\d\\\\d', '\\\\d\\\\dh \\\\dh', 'ngày chủ nhật \\\\d\\\\d/\\\\d', '\\\\d\\\\d/\\\\d\\\\d \\\\d\\\\d/\\\\d\\\\d/\\\\d\\\\d\\\\d\\\\d \\\\( nhằm t\\\\d , cn tuần này \\\\)', 'từ \\\\d\\\\d \\\\d\\\\d/\\\\d/\\\\d\\\\d\\\\d\\\\d', '\\\\dh sáng \\\\d/\\\\d\\\\d \\\\( chủ nhật \\\\)', 'thứ \\\\d , ngày \\\\d/\\\\d\\\\d/\\\\d\\\\d\\\\d\\\\d', '\\\\d\\\\dh cùng ngày', 'từ \\\\dg\\\\d\\\\d – \\\\dg\\\\d\\\\d', '\\\\d\\\\dg – \\\\d\\\\dg\\\\d\\\\d thứ \\\\d ngày \\\\d\\\\d/\\\\d\\\\d/\\\\d\\\\d\\\\d\\\\d', 'vào ngày \\\\d\\\\d/\\\\d\\\\d/\\\\d\\\\d\\\\d\\\\d', 'chiều \\\\( \\\\d\\\\dh - \\\\d\\\\dh\\\\d\\\\d \\\\)', 'ngày \\\\d/\\\\d/\\\\d\\\\d\\\\d', 'vào \\\\d\\\\dh ngày \\\\d\\\\d/\\\\d\\\\d', '\\\\dh\\\\d\\\\d sáng thứ \\\\d ngày \\\\d\\\\d/\\\\d', '\\\\d\\\\dh\\\\d\\\\d \\\\d\\\\dh\\\\d\\\\d và \\\\d\\\\dh \\\\d\\\\dh', 't\\\\d ngày \\\\d/\\\\d\\\\d/\\\\d\\\\d\\\\d\\\\d', 'từ \\\\dh\\\\d\\\\d - \\\\d\\\\dh\\\\d\\\\d ngày \\\\d\\\\d/\\\\d\\\\d/\\\\d\\\\d\\\\d\\\\d', 'từ \\\\d giờ đến \\\\d giờ', 'đêm \\\\d\\\\d rạng sáng \\\\d\\\\d tháng \\\\d\\\\d', '\\\\d\\\\dg\\\\d\\\\d thứ .* , \\\\d\\\\d/\\\\d\\\\d/\\\\d\\\\d\\\\d\\\\d', 'hôm nay ngày \\\\d\\\\d/\\\\d\\\\d/\\\\d\\\\d\\\\d\\\\d', 'từ \\\\d\\\\dh - \\\\d\\\\dh ngày \\\\d/\\\\d/\\\\d\\\\d\\\\d\\\\d', '\\\\d\\\\d/\\\\d , \\\\d\\\\d/\\\\d và \\\\d\\\\d/\\\\d/\\\\d\\\\d\\\\d\\\\d \\\\( thứ .* , thứ .* , thứ .* \\\\)', '\\\\d buổi , buổi sáng .*̀ \\\\dh\\\\d\\\\d đến \\\\d\\\\dh vào \\\\d ngày \\\\d\\\\d - \\\\d\\\\d/\\\\d\\\\d/\\\\d\\\\d\\\\d\\\\d , buổi chiều .*̀ \\\\d\\\\dh\\\\d\\\\d đến \\\\d\\\\dh vào \\\\d ngày \\\\d\\\\d - \\\\d\\\\d/\\\\d\\\\d/\\\\d\\\\d\\\\d\\\\d', 'tối ngày \\\\d\\\\d/\\\\d\\\\d', '\\\\dg\\\\d\\\\d ngày \\\\d\\\\d/\\\\d/\\\\d\\\\d\\\\d\\\\d', '\\\\d\\\\d/\\\\d\\\\d và \\\\d\\\\d/\\\\d\\\\d', 'ngày \\\\d\\\\d/\\\\d\\\\d/\\\\d\\\\d\\\\d\\\\d', '\\\\dh - \\\\d\\\\dh\\\\d\\\\d , chủ nhật ngày \\\\d\\\\d/\\\\d\\\\d/\\\\d\\\\d\\\\d\\\\d', 'ngày thứ \\\\d \\\\( \\\\d/\\\\d/\\\\d\\\\d\\\\d\\\\d \\\\)', 'thứ .* ngày \\\\d\\\\d/\\\\d\\\\d', '\\\\d\\\\dh , ngày \\\\d\\\\d tháng \\\\d\\\\d .* \\\\d\\\\d\\\\d\\\\d', 'ngày thứ .* \\\\d\\\\d/\\\\d\\\\d/\\\\d\\\\d\\\\d\\\\d', 'đến hết ngày \\\\d\\\\d/\\\\d\\\\d/\\\\d\\\\d\\\\d\\\\d', '\\\\dh\\\\d\\\\d chiều', 'sáng \\\\d\\\\d.\\\\d\\\\d.\\\\d\\\\d\\\\d\\\\d \\\\( nhằm \\\\d\\\\d tết \\\\) ', '\\\\dh\\\\d\\\\d ngày \\\\d/\\\\d và ngày \\\\d/\\\\d', '\\\\d\\\\dh - \\\\d\\\\dh\\\\d\\\\d', 'sáng cn , \\\\d\\\\d/\\\\d\\\\d/\\\\d\\\\d\\\\d\\\\d\\\\d', '\\\\d\\\\dh\\\\d\\\\d , ngày \\\\d\\\\d/\\\\d', '\\\\dh\\\\d\\\\d sáng', 'ngày \\\\d\\\\d , \\\\d\\\\d/\\\\d\\\\d/\\\\d\\\\d\\\\d\\\\d', '\\\\dh\\\\d\\\\d’ ngày \\\\d\\\\d/\\\\d\\\\d/\\\\d\\\\d\\\\d\\\\d \\\\( thứ .* \\\\)', 'thứ \\\\d này', '\\\\d\\\\dg\\\\d\\\\d ', '\\\\d\\\\dh\\\\d\\\\d ngày \\\\d\\\\d.\\\\d.\\\\d\\\\d\\\\d\\\\d \\\\( thứ \\\\d ngày mai \\\\)', '\\\\dg\\\\d\\\\d , ngày \\\\d\\\\d/\\\\d/\\\\d\\\\d\\\\d\\\\d \\\\( \\\\d\\\\d tháng chạp \\\\)', 'từ \\\\d\\\\dh\\\\d\\\\d – \\\\d\\\\dh\\\\d\\\\d', '\\\\dh\\\\d\\\\d , chủ nhật ngày \\\\d\\\\d/\\\\d/\\\\d\\\\d\\\\d\\\\d', '\\\\d\\\\dg\\\\d\\\\d ngày \\\\d\\\\d/\\\\d\\\\d/\\\\d\\\\d\\\\d\\\\d', '\\\\d\\\\dh\\\\d\\\\d , ngày \\\\d\\\\d/\\\\d\\\\d/\\\\d\\\\d\\\\d\\\\d \\\\( chủ nhật \\\\)', 'từ chiều nay đến hết ngày mai \\\\d\\\\d/\\\\d/\\\\d\\\\d\\\\d\\\\d', 'ngày \\\\d\\\\d/\\\\d . từ \\\\d\\\\dh đến \\\\d\\\\dh tối', 'sáng ngày \\\\d\\\\d tháng \\\\d\\\\d .* \\\\d\\\\d\\\\d\\\\d', '\\\\d tuần , diễn ra tháng \\\\d - \\\\d\\\\d/ \\\\d\\\\d\\\\d\\\\d', 'sáng ngày \\\\d\\\\d/\\\\d\\\\d', 'từ ngày \\\\d\\\\d/\\\\d \\\\d\\\\d/\\\\d/\\\\d\\\\d\\\\d\\\\d', '\\\\d.\\\\d\\\\d\\\\d\\\\d', '\\\\dh', '\\\\d\\\\dh\\\\d\\\\d ngày hôm nay \\\\d\\\\d/\\\\d/\\\\d\\\\d\\\\d\\\\d', '\\\\( \\\\d\\\\d/\\\\d \\\\d/\\\\d\\\\d \\\\)', '\\\\dg\\\\d\\\\d ngày \\\\d\\\\d/\\\\d\\\\d', 'thứ .* \\\\d\\\\d/\\\\d\\\\d/\\\\d\\\\d', '\\\\dh ngày \\\\d\\\\d tháng \\\\d\\\\d .* \\\\d\\\\d\\\\d\\\\d', 'ngày \\\\d\\\\d/\\\\d âm lịch', 'thứ \\\\d \\\\( \\\\d\\\\d/\\\\d\\\\d/\\\\d\\\\d\\\\d\\\\d \\\\) \\\\dh\\\\d\\\\d', 'ngày \\\\d/\\\\d \\\\( thứ \\\\d \\\\)', ' - \\\\d\\\\d', 'chủ nhật này ngày \\\\d\\\\d/\\\\d\\\\d lúc \\\\dg', '\\\\d\\\\d và \\\\d\\\\d/\\\\d\\\\d/\\\\d\\\\d\\\\d\\\\d', 'từ \\\\d\\\\d/\\\\d\\\\d đến \\\\d/\\\\d\\\\d', '\\\\dh \\\\d\\\\dh', 'tối mồng \\\\d và mồng \\\\d', '\\\\dh\\\\d\\\\d , thứ \\\\d , ngày \\\\d tháng \\\\d .* \\\\d\\\\d\\\\d\\\\d', 'chủ nhật ngày \\\\d\\\\d/\\\\d\\\\d/\\\\d\\\\d\\\\d\\\\d', '\\\\dh\\\\d\\\\d \\\\d\\\\dh\\\\d\\\\d , ngày \\\\d\\\\d/\\\\d\\\\d/\\\\d\\\\d\\\\d\\\\d \\\\( thứ \\\\d \\\\)', '\\\\d\\\\dh\\\\d\\\\d’ – \\\\d\\\\dh\\\\d\\\\d’ ngày \\\\d\\\\d/\\\\d\\\\d/\\\\d\\\\d\\\\d\\\\d \\\\( chủ nhật \\\\)', 'ngày \\\\d/\\\\d/\\\\d\\\\d\\\\d\\\\d \\\\( thứ \\\\d \\\\)', '\\\\d\\\\dg\\\\d\\\\d ngày \\\\d\\\\d/\\\\d\\\\d/\\\\d\\\\d\\\\d\\\\d', 'ngày \\\\d/\\\\d vừa qua', '\\\\d\\\\dh\\\\d\\\\d \\\\d/\\\\d/\\\\d\\\\d\\\\d\\\\d \\\\( thứ .* \\\\)', '\\\\d\\\\d am – \\\\d\\\\d : \\\\d\\\\d am', '\\\\dh\\\\d\\\\d thứ .* ngày \\\\d\\\\d/\\\\d\\\\d/\\\\d\\\\d\\\\d\\\\d', 'sáng \\\\d\\\\d/\\\\d', '\\\\d\\\\dh\\\\d\\\\d chủ nhật \\\\( \\\\d\\\\d/\\\\d\\\\d/\\\\d\\\\d\\\\d\\\\d \\\\) .', '\\\\d\\\\dh ngày \\\\d/\\\\d/\\\\d\\\\d\\\\d\\\\d . \\\\( thứ .* \\\\)', '\\\\d\\\\dh\\\\d\\\\d buổi tối ngày chủ nhật', '\\\\dh sáng', '\\\\d\\\\dh\\\\d\\\\d \\\\d\\\\dh\\\\d\\\\d , thứ .* , ngày \\\\d\\\\d/\\\\d\\\\d/\\\\d\\\\d\\\\d\\\\d', 'sáng \\\\d\\\\d/\\\\d\\\\d/\\\\d\\\\d\\\\d\\\\d', 'thứ \\\\dcn ngày \\\\d\\\\d.\\\\d\\\\d/\\\\d/\\\\d\\\\d', '\\\\d\\\\d/\\\\d\\\\d & \\\\d\\\\d - \\\\d\\\\d/\\\\d\\\\d/\\\\d\\\\d\\\\d\\\\d', '\\\\d\\\\dh\\\\d\\\\d thứ .* ngày \\\\d\\\\d/\\\\d\\\\d/\\\\d\\\\d\\\\d\\\\d', 'ngày \\\\d , \\\\d , \\\\d/\\\\d/\\\\d\\\\d\\\\d\\\\d', '\\\\d\\\\dh\\\\d\\\\d thứ \\\\d \\\\d\\\\d/\\\\d\\\\d/\\\\d\\\\d\\\\d\\\\d \\\\( \\\\d\\\\d/\\\\d\\\\d âl \\\\)', '\\\\d\\\\dh\\\\d\\\\d \\\\d\\\\dh\\\\d\\\\d ngày \\\\d\\\\d.\\\\d\\\\d.\\\\d\\\\d\\\\d\\\\d', 'thời hạn nộp hồ sơ : từ ngày \\\\d\\\\d/\\\\d\\\\d/\\\\d\\\\d\\\\d\\\\d – \\\\d\\\\d/\\\\d\\\\d/\\\\d\\\\d\\\\d\\\\d', 'lúc \\\\dh\\\\d\\\\d ngày \\\\d\\\\d/\\\\d\\\\d/\\\\d\\\\d\\\\d\\\\d \\\\( sáng chủ nhật \\\\)', '\\\\d\\\\dh\\\\d\\\\d chủ nhật tuần này', '\\\\dh\\\\d\\\\d ngày \\\\d/\\\\d\\\\d/\\\\d\\\\d\\\\d\\\\d', '\\\\dh sáng ngày \\\\d\\\\d.\\\\d', '\\\\dh sáng chủ nhật ngày \\\\d\\\\d/\\\\d\\\\d/\\\\d\\\\d\\\\d\\\\d', 'thứ \\\\d lúc \\\\d\\\\dh\\\\d\\\\d \\\\( \\\\d\\\\d/\\\\d/\\\\d\\\\d\\\\d\\\\d \\\\)', '\\\\d tuần', 'sáng nay ngày \\\\d\\\\d/\\\\d/\\\\d\\\\d\\\\d\\\\d', '\\\\d\\\\dh\\\\d\\\\d \\\\d\\\\dh\\\\d\\\\d thứ \\\\d , \\\\d\\\\d.\\\\d\\\\d.\\\\d\\\\d\\\\d\\\\d', '\\\\d\\\\dh\\\\d\\\\d , ngày \\\\d\\\\d/\\\\d/\\\\d\\\\d\\\\d\\\\d \\\\( hôm nay \\\\)', '\\\\d\\\\dg\\\\d\\\\d hay \\\\d\\\\dg\\\\d\\\\d', 'thứ \\\\d hoặc chủ nhật \\\\( ngày \\\\d\\\\d/\\\\d và \\\\d\\\\d/\\\\d \\\\)', '\\\\dg\\\\d\\\\d ngày \\\\d\\\\d/\\\\d\\\\d/\\\\d\\\\d\\\\d\\\\d', 'đêm ngày \\\\d\\\\d - \\\\d\\\\d', '\\\\dh sáng thứ \\\\d , \\\\d/\\\\d\\\\d/\\\\d\\\\d\\\\d\\\\d', 'ngày \\\\d\\\\d , \\\\d\\\\d/\\\\d', 'đêm ngày \\\\d\\\\d/\\\\d\\\\d', '\\\\d\\\\dh\\\\d\\\\d ngày \\\\d\\\\d.\\\\d\\\\d.\\\\d\\\\d\\\\d\\\\d', '\\\\d\\\\d , tháng chạp âl', '\\\\d\\\\dh chủ nhật như hằng tuần', '\\\\d\\\\d : \\\\d\\\\d', '\\\\dh\\\\d\\\\d \\\\d\\\\d/\\\\d\\\\d/\\\\d\\\\d\\\\d\\\\d', '\\\\d\\\\d – \\\\d\\\\d/\\\\d/\\\\d\\\\d\\\\d\\\\d', '\\\\dh\\\\d\\\\d ngày \\\\d\\\\d/\\\\d\\\\d \\\\( chủ nhật \\\\)', '\\\\d\\\\dh hôm nay', '\\\\d\\\\dh - \\\\d\\\\dh\\\\d\\\\d ngày \\\\d\\\\d/\\\\d/\\\\d\\\\d\\\\d\\\\d', 'ngày \\\\d\\\\d/\\\\d\\\\d', 'từ nay đến ngày \\\\d\\\\d - \\\\d\\\\d - \\\\d\\\\d\\\\d\\\\d', 'trước \\\\d\\\\dh\\\\d\\\\d ngày \\\\d\\\\d.\\\\d\\\\d.\\\\d\\\\d\\\\d\\\\d', '\\\\dh ngày \\\\d/\\\\d\\\\d/\\\\d\\\\d\\\\d\\\\d', '\\\\d\\\\dh\\\\d\\\\d ngày \\\\d\\\\d/\\\\d\\\\d/\\\\d\\\\d\\\\d\\\\d \\\\( chủ nhật \\\\)', 'sau \\\\dh\\\\d\\\\d ngày mai', '\\\\d\\\\dh\\\\d\\\\d \\\\d\\\\dh\\\\d\\\\d hàng ngày', ' chiều : từ \\\\d\\\\dg\\\\d\\\\d đến \\\\d\\\\dg\\\\d\\\\d', 'từ \\\\dh đến \\\\d\\\\dh \\\\d\\\\d/\\\\d\\\\d/\\\\d\\\\d\\\\d\\\\d \\\\( sáng ngày thứ \\\\d \\\\)', '\\\\d\\\\dh ngày \\\\d/\\\\d', '\\\\d\\\\dh - \\\\d\\\\dh , ngày \\\\d\\\\d/\\\\d/\\\\d\\\\d\\\\d\\\\d', 'từ ngày \\\\d\\\\d/\\\\d\\\\d/\\\\d\\\\d\\\\d\\\\d \\\\d\\\\d/\\\\d\\\\d/\\\\d\\\\d\\\\d\\\\d', '\\\\dh - \\\\d\\\\dh', '\\\\d\\\\dh\\\\d\\\\d ngày \\\\d\\\\d \\\\d\\\\d/\\\\d/\\\\d\\\\d\\\\d\\\\d', 'bắt đầu từ ngày \\\\d\\\\d/\\\\d/\\\\d\\\\d\\\\d\\\\d và kết thúc và ngày \\\\d\\\\d/\\\\d/\\\\d\\\\d\\\\d\\\\d', 'thứ \\\\d/\\\\d\\\\d/\\\\d\\\\d/\\\\d\\\\d\\\\d\\\\d', 'vào ngày \\\\d - \\\\d/\\\\d', 'từ \\\\d/\\\\d/\\\\d\\\\d\\\\d\\\\d – \\\\d\\\\d/\\\\d/\\\\d\\\\d\\\\d\\\\d', 'từ \\\\d\\\\d/\\\\d\\\\d đến hết ngày \\\\d\\\\d/\\\\d\\\\d', 'thứ \\\\d và thứ \\\\d', 'vào lúc \\\\d\\\\dg\\\\d\\\\d ngày \\\\d\\\\d/\\\\d', 'ngày \\\\d\\\\d/\\\\d\\\\d/\\\\d\\\\d\\\\d\\\\d ', 'khoảng \\\\d\\\\dg\\\\d\\\\d sẽ kết thúc', 'tối thứ t\\\\d \\\\( sau khi bán hoa hồng xong trong đêm lễ hội khoa qtkd \\\\)', 'sáng \\\\d\\\\d - \\\\d', 'tháng \\\\d\\\\d .* \\\\d\\\\d\\\\d\\\\d', '\\\\d\\\\d – \\\\d\\\\d : \\\\d\\\\d thứ \\\\d ngày \\\\d\\\\d/\\\\d\\\\d/\\\\d\\\\d\\\\d\\\\d', 'từ \\\\d\\\\dh\\\\d\\\\d đến \\\\d\\\\dh\\\\d\\\\d cùng ngày', '\\\\d\\\\d/\\\\d\\\\d - \\\\d\\\\d/\\\\d\\\\d/\\\\d\\\\d\\\\d\\\\d', 'sáng ngày \\\\d\\\\d/\\\\d', 'ngày \\\\d\\\\d - \\\\d\\\\d - \\\\d\\\\d\\\\d\\\\d :', '\\\\dh\\\\d\\\\d \\\\dh\\\\d\\\\d , \\\\d\\\\d/\\\\d\\\\d/\\\\d\\\\d\\\\d\\\\d \\\\( chủ nhật \\\\)', '\\\\d\\\\dh ngày \\\\d\\\\d - \\\\d\\\\d - \\\\d\\\\d\\\\d\\\\d \\\\( thứ \\\\d \\\\)', 'thứ .* , ngày \\\\d/\\\\d\\\\d/\\\\d\\\\d', '\\\\dh\\\\d\\\\d \\\\d\\\\dh\\\\d\\\\d , ngày \\\\d\\\\d/\\\\d\\\\d/\\\\d\\\\d\\\\d\\\\d \\\\( chủ nhật \\\\)', '\\\\d\\\\dh , ngày \\\\d/\\\\d/\\\\d\\\\d\\\\d\\\\d', 'buổi sáng : \\\\dh\\\\d\\\\d đến \\\\d\\\\dh\\\\d\\\\d', 'tối đa \\\\d\\\\d .* \\\\( bắt đầu dự án từ sau \\\\d\\\\d/\\\\d\\\\d/\\\\d\\\\d\\\\d\\\\d \\\\)', '\\\\d\\\\dh\\\\d\\\\d ngày chủ nhật , \\\\d\\\\d/\\\\d\\\\d/\\\\d\\\\d\\\\d\\\\d', '\\\\d\\\\d - \\\\d\\\\d /\\\\d\\\\d /\\\\d\\\\d\\\\d\\\\d', 'từ \\\\d\\\\d\\\\d đến \\\\d\\\\d\\\\d', 'chiều nay lúc \\\\d\\\\dh\\\\d\\\\d', 'tháng \\\\d\\\\d', '\\\\dh ngày \\\\d\\\\d/\\\\d\\\\d/\\\\d\\\\d\\\\d\\\\d', 'từ \\\\d – \\\\dpm', 'ngày \\\\d\\\\d \\\\d\\\\d/\\\\d\\\\d', 'ngày \\\\d\\\\d/\\\\d\\\\d/\\\\d\\\\d\\\\d\\\\d \\\\( thứ \\\\d \\\\)', 'tối thứ \\\\d và thứ \\\\d', 'sáng nay , ngày \\\\d\\\\d/\\\\d', 'ngày \\\\d\\\\d/\\\\d/\\\\d\\\\d\\\\d\\\\d \\\\d\\\\d/\\\\d/\\\\d\\\\d\\\\d\\\\d', '\\\\d\\\\dg chủ nhật \\\\d\\\\d/\\\\d\\\\d/\\\\d\\\\d', '\\\\d giờ', '\\r\\r\\\\d\\\\dh\\\\d\\\\d chiều nay \\\\d.\\\\d\\\\d.', 'ngày \\\\d.\\\\d\\\\d.\\\\d\\\\d\\\\d\\\\d', 'thứ \\\\d , ngày \\\\d - \\\\d\\\\d - \\\\d\\\\d\\\\d\\\\d', '\\\\d\\\\d/\\\\d/\\\\d\\\\d\\\\d\\\\d đến \\\\d\\\\d/\\\\d/\\\\d\\\\d\\\\d\\\\d', '\\\\d\\\\d \\\\d\\\\d : \\\\d\\\\d , chủ nhật , ngày \\\\d\\\\d/\\\\d/\\\\d\\\\d\\\\d\\\\d', 'thứ .* , thứ \\\\d : \\\\d\\\\d , \\\\d\\\\d/\\\\d\\\\d/\\\\d\\\\d', 'từ \\\\d\\\\dg\\\\d\\\\d đến \\\\d\\\\dg\\\\d\\\\d', 'từ \\\\d - \\\\d đến \\\\d\\\\d - \\\\d\\\\d', 'hôm nay ngày \\\\d/\\\\d', '\\\\d ngày \\\\d đêm', 'thứ \\\\d ngày \\\\d\\\\d/\\\\d\\\\d/\\\\d\\\\d\\\\d\\\\d', '\\\\dh\\\\d\\\\d’ ngày \\\\d\\\\d - \\\\d - \\\\d\\\\d\\\\d\\\\d \\\\( chủ nhật \\\\)', '\\\\d : \\\\d\\\\d sáng , thứ .* \\\\d\\\\d/\\\\d\\\\d/\\\\d\\\\d\\\\d\\\\d', '\\\\d\\\\d : \\\\d\\\\d \\\\d\\\\d : \\\\d\\\\d , thứ \\\\d , \\\\d\\\\d/\\\\d\\\\d/\\\\d\\\\d\\\\d\\\\d', 'sáng ngày \\\\d\\\\d/\\\\d\\\\d/\\\\d\\\\d\\\\d\\\\d', 'từ ngày \\\\d\\\\d \\\\d\\\\d/\\\\d/\\\\d\\\\d\\\\d\\\\d \\\\( thứ \\\\d \\\\)', 'ngày \\\\d\\\\d tháng \\\\d .* \\\\d\\\\d\\\\d\\\\d \\\\( thứ \\\\d \\\\)', 'chiều t\\\\d hàng tuần \\\\d\\\\dh\\\\d\\\\d - \\\\d\\\\dh', 'sáng thứ \\\\d \\\\( ngày \\\\d\\\\d/\\\\d \\\\)', 'thứ .* \\\\d\\\\d/\\\\d\\\\d/\\\\d\\\\d\\\\d\\\\d', 'đến \\\\d\\\\dh\\\\d\\\\d ngày \\\\d\\\\d/\\\\d\\\\d/\\\\d\\\\d\\\\d\\\\d', '\\\\d\\\\d/\\\\d đến ngày \\\\d\\\\d/\\\\d', 'sáng thứ \\\\d', '\\\\dh\\\\d\\\\d – \\\\dh', '\\\\dh\\\\d\\\\d thứ \\\\d ngày \\\\d/\\\\d/\\\\d\\\\d\\\\d\\\\d', 'mùng \\\\d\\\\d/\\\\d', 'ngày mai \\\\( \\\\d\\\\d/\\\\d \\\\)', '\\\\d\\\\dg\\\\d\\\\d – \\\\d\\\\dg\\\\d\\\\d , ngày \\\\d\\\\d tháng \\\\d .* \\\\d\\\\d\\\\d\\\\d', '\\\\dh - \\\\d\\\\dh\\\\d\\\\d chủ nhật \\\\d/\\\\d/\\\\d\\\\d\\\\d\\\\d', '\\\\d\\\\dh\\\\d\\\\d ngày mai', 'thứ \\\\d sắp tới', '\\\\d\\\\dh\\\\d\\\\d tối nay', '\\\\d\\\\dh \\\\d\\\\dh các buổi tối trong tuần \\\\( từ thứ \\\\d đến chủ nhật \\\\) , bắt đầu từ thứ \\\\d tuần này \\\\( \\\\d\\\\d/\\\\d\\\\d \\\\)', '\\\\d\\\\dh\\\\d\\\\d thứ \\\\d ngày \\\\d\\\\d/\\\\d/\\\\d\\\\d\\\\d\\\\d', 'ngày mai thứ .* \\\\( \\\\d\\\\d/\\\\d\\\\d/\\\\d\\\\d\\\\d\\\\d \\\\)', 'thứ \\\\d/\\\\d\\\\d/\\\\d\\\\d/\\\\d\\\\d\\\\d\\\\dchủ nhật \\\\d\\\\d/\\\\d\\\\d/\\\\d\\\\d\\\\d\\\\d', '\\\\dh\\\\d\\\\d sáng mai', '\\\\dg\\\\d\\\\d ', 'ngày chủ nhật \\\\d\\\\d/\\\\d/\\\\d\\\\d', 'bắt đầu từ ngày \\\\d\\\\d/\\\\d\\\\d', '\\\\d giờ \\\\d\\\\d ngày mai \\\\d\\\\d/\\\\d\\\\d/\\\\d\\\\d\\\\d\\\\d', '\\\\d\\\\dh\\\\d\\\\d \\\\d\\\\dh\\\\d\\\\d ngày \\\\d/\\\\d/\\\\d\\\\d\\\\d\\\\d', 'từ \\\\dh \\\\d\\\\dh\\\\d\\\\d , thứ \\\\d ngày \\\\d\\\\d/\\\\d\\\\d/\\\\d\\\\d\\\\d\\\\d', '\\\\dh – \\\\d\\\\dh', 'ngày \\\\d\\\\d/\\\\d/\\\\d\\\\d\\\\d\\\\d', 'tối \\\\d\\\\d/\\\\d\\\\d', '\\\\dh\\\\d\\\\d ngày \\\\d\\\\d/\\\\d\\\\d/\\\\d\\\\d\\\\d\\\\d \\\\( thứ \\\\d \\\\) ', '\\\\d\\\\dh\\\\d\\\\d’ \\\\d\\\\d/\\\\d/\\\\d\\\\d\\\\d\\\\d \\\\( thứ .* \\\\)', 'chủ nhật này \\\\d/\\\\d/\\\\d\\\\d\\\\d\\\\d', '\\\\d\\\\dh trưa chủ nhật ngày mai , \\\\d/\\\\d/\\\\d\\\\d\\\\d\\\\d', '\\\\dh\\\\d\\\\d \\\\d\\\\dh\\\\d\\\\d ngày \\\\d\\\\d/\\\\d\\\\d/\\\\d\\\\d\\\\d\\\\d \\\\( nhằm \\\\d\\\\d/\\\\d\\\\d âm lịch \\\\)', '\\\\d\\\\dh\\\\d\\\\d ngày \\\\d\\\\d tháng \\\\d ', 'chiều mai , thứ \\\\d \\\\d/\\\\d\\\\d/\\\\d\\\\d\\\\d\\\\d lúc \\\\d\\\\dh\\\\d\\\\d', 'kết thúc vào lúc \\\\d\\\\d : \\\\d\\\\d phút thứ .* ngày \\\\d\\\\d/\\\\d\\\\d', 'c \\\\d\\\\dh\\\\d\\\\d , ngày \\\\d\\\\d/\\\\d\\\\d/\\\\d\\\\d', '\\\\d\\\\dh\\\\d\\\\d , ngày \\\\d\\\\d tháng \\\\d\\\\d .* \\\\d\\\\d\\\\d\\\\d .', '\\\\( \\\\d - \\\\d\\\\d/\\\\d \\\\)', '\\\\d\\\\d\\\\d pm \\\\d\\\\d pm , \\\\d\\\\d march , \\\\d\\\\d\\\\d\\\\d \\\\( friday \\\\)', '\\\\d\\\\dh\\\\d\\\\d \\\\d\\\\dh\\\\d\\\\d ngày \\\\d/\\\\d\\\\d/\\\\d\\\\d\\\\d\\\\d', 'thứ \\\\d tuần sau', 'ngày \\\\d/\\\\d\\\\d/\\\\d\\\\d\\\\d\\\\d', '\\\\d\\\\dh trưa mai', 'chiều ngày \\\\d\\\\d/\\\\d\\\\d/\\\\d\\\\d\\\\d\\\\d', '\\\\d - \\\\d\\\\d/\\\\d', '\\\\dh\\\\d\\\\d - \\\\d\\\\dh\\\\d\\\\d chủ nhật , ngày \\\\d\\\\d/\\\\d\\\\d/\\\\d\\\\d\\\\d\\\\d', 'còn chưa đầy \\\\d ngày', '\\\\d\\\\dh\\\\d\\\\d’ \\\\d\\\\d/\\\\d\\\\d/\\\\d\\\\d\\\\d\\\\d', '\\\\dh\\\\d\\\\d ngày \\\\d\\\\d.\\\\d\\\\d.\\\\d\\\\d\\\\d\\\\d đến \\\\dh\\\\d\\\\d ngày \\\\d\\\\d.\\\\d\\\\d.\\\\d\\\\d\\\\d\\\\d', 'ngày \\\\d\\\\d/\\\\d lúc \\\\dh\\\\d\\\\d', 'thứ \\\\d \\\\d\\\\d/\\\\d/\\\\d\\\\d\\\\d\\\\d', '\\\\d/\\\\d/\\\\d\\\\d\\\\d\\\\d đến \\\\d\\\\d/\\\\d/\\\\d\\\\d\\\\d\\\\d', '\\\\dh\\\\d\\\\d’ \\\\d\\\\dh\\\\d\\\\d’ , ngày \\\\d/\\\\d\\\\d/\\\\d\\\\d\\\\d\\\\d \\\\( chủ nhật \\\\)', 'sáng thứ \\\\d , \\\\d ngày \\\\d , \\\\d/\\\\d', '\\\\d\\\\d/\\\\d/\\\\d\\\\d\\\\d\\\\d️ ️\\\\d\\\\dh\\\\d\\\\d \\\\d\\\\d/\\\\d/\\\\d\\\\d\\\\d\\\\d️', 'từ tháng \\\\d - \\\\d/\\\\d\\\\d\\\\d\\\\d', 'hôm nay \\\\( ngày \\\\d\\\\d/\\\\d/\\\\d\\\\d\\\\d\\\\d \\\\)', 'ngày mai , ngày \\\\d\\\\d tháng \\\\d\\\\d .* \\\\d\\\\d\\\\d\\\\d vào lúc \\\\d\\\\dh\\\\d\\\\d', '\\\\dh\\\\d\\\\d thứ \\\\d ngày \\\\d\\\\d tháng \\\\d\\\\d .* \\\\d\\\\d\\\\d\\\\d']\n",
      "1566\n"
     ]
    }
   ],
   "source": [
    "list_pattern_time = list(filter(hasNumbers, list_time))\n",
    "list_pattern_time = [x.replace('\\n','') for x in list_pattern_time]\n",
    "list_pattern_time = [replace_digit_in_string(x) for x in list_pattern_time]\n",
    "list_pattern_time = [x.replace('(','\\(').replace(')','\\)') for x in list_pattern_time]\n",
    "list_pattern_time = [x.replace(\"hai\",\".*\").replace(\"ba\",\".*\").replace(\"tư\",\".*\").replace(\"năm\",\".*\").replace(\"sáu\",\".*\").replace(\"bảy\",\".*\") for x in list_pattern_time]\n",
    "list_pattern_time = list(set(list_pattern_time))\n",
    "print(list_pattern_time)\n",
    "print(len(list_pattern_time))"
   ]
  },
  {
   "cell_type": "code",
   "execution_count": 110,
   "metadata": {},
   "outputs": [
    {
     "data": {
      "text/plain": [
       "'thứ ba ( 5/21 )'"
      ]
     },
     "execution_count": 110,
     "metadata": {},
     "output_type": "execute_result"
    }
   ],
   "source": [
    "re.match('thứ .* \\\\( \\\\d/\\\\d\\\\d \\\\)','thứ ba ( 5/21 )').group(0)"
   ]
  },
  {
   "cell_type": "code",
   "execution_count": 68,
   "metadata": {},
   "outputs": [
    {
     "name": "stdout",
     "output_type": "stream",
     "text": [
      "time\n",
      "input sentence: ✪ ✪ ✪ ✪ hội thảo kĩ năng chuyên nghiệp ngày 29/08/2015 ✪ ✪ ✪\n",
      "output sentence: ✪ ✪ ✪ ✪ hội thảo kĩ năng chuyên nghiệp ✪ ✪ ✪ ✪ ✪\n",
      "output sentence: ✪ ✪ ✪ ✪ hội thảo kĩ năng chuyên nghiệp ✪ ✪ ✪ ✪ ✪\n",
      "output sentence: ✪ ✪ ✪ ✪ hội thảo kĩ năng chuyên nghiệp ✪ ✪ ✪ ✪ ✪\n",
      "output sentence: ✪ ✪ ✪ ✪ hội thảo kĩ năng chuyên nghiệp ✪ ✪ ✪ ✪ ✪\n",
      "output sentence: ✪ ✪ ✪ ✪ hội thảo kĩ năng chuyên nghiệp ✪ ✪ ✪ ✪ ✪\n",
      "output sentence: ✪ ✪ ✪ ✪ hội thảo kĩ năng chuyên nghiệp ✪ ✪ ✪ ✪ ✪\n",
      "name_activity\n",
      "input sentence: ✪ ✪ ✪ ✪ hội thảo kĩ năng chuyên nghiệp ✪ ✪ ✪ ✪ ✪\n",
      "output sentence: ✪ ✪ ✪ ✪ hội thảo kĩ năng chuyên nghiệp ✪ ✪ ✪ ✪ ✪\n",
      "output sentence: ✪ ✪ ✪ ✪ hội thảo kĩ năng chuyên nghiệp ✪ ✪ ✪ ✪ ✪\n",
      "output sentence: ✪ ✪ ✪ ✪ hội thảo kĩ năng chuyên nghiệp ✪ ✪ ✪ ✪ ✪\n",
      "output sentence: ✪ ✪ ✪ ✪ hội thảo kĩ năng chuyên nghiệp ✪ ✪ ✪ ✪ ✪\n",
      "output sentence: ✪ ✪ ✪ ✪ hội thảo kĩ năng chuyên nghiệp ✪ ✪ ✪ ✪ ✪\n",
      "output sentence: ✪ ✪ ✪ ✪ hội thảo kĩ năng chuyên nghiệp ✪ ✪ ✪ ✪ ✪\n",
      "type_activity\n",
      "input sentence: ✪ ✪ ✪ ✪ hội thảo kĩ năng chuyên nghiệp ✪ ✪ ✪ ✪ ✪\n",
      "output sentence: ✪ ✪ ✪ ✪ ✪ ✪ kĩ năng chuyên nghiệp ✪ ✪ ✪ ✪ ✪\n",
      "output sentence: ✪ ✪ ✪ ✪ ✪ ✪ ✪ ✪ chuyên nghiệp ✪ ✪ ✪ ✪ ✪\n",
      "holder\n",
      "input sentence: ✪ ✪ ✪ ✪ ✪ ✪ ✪ ✪ chuyên nghiệp ✪ ✪ ✪ ✪ ✪\n",
      "name_place\n",
      "input sentence: ✪ ✪ ✪ ✪ ✪ ✪ ✪ ✪ chuyên nghiệp ✪ ✪ ✪ ✪ ✪\n",
      "address\n",
      "input sentence: ✪ ✪ ✪ ✪ ✪ ✪ ✪ ✪ chuyên nghiệp ✪ ✪ ✪ ✪ ✪\n"
     ]
    },
    {
     "data": {
      "text/plain": [
       "{'time': ['ngày 29/08/2015'], 'type_activity': ['hội thảo', 'kĩ năng']}"
      ]
     },
     "execution_count": 68,
     "metadata": {},
     "output_type": "execute_result"
    }
   ],
   "source": [
    "find_all_entity(\"register\",\"mình muốn tham gia hội thảo kĩ năng chuyên nghiệp ngày 29/08/2015 thì làm sao\",list_extra_word)"
   ]
  },
  {
   "cell_type": "code",
   "execution_count": null,
   "metadata": {},
   "outputs": [],
   "source": []
  },
  {
   "cell_type": "code",
   "execution_count": null,
   "metadata": {},
   "outputs": [],
   "source": []
  }
 ],
 "metadata": {
  "kernelspec": {
   "display_name": "DuongCao",
   "language": "python",
   "name": "duongcao2"
  },
  "language_info": {
   "codemirror_mode": {
    "name": "ipython",
    "version": 3
   },
   "file_extension": ".py",
   "mimetype": "text/x-python",
   "name": "python",
   "nbconvert_exporter": "python",
   "pygments_lexer": "ipython3",
   "version": "3.6.8"
  }
 },
 "nbformat": 4,
 "nbformat_minor": 2
}
